{
  "nbformat": 4,
  "nbformat_minor": 0,
  "metadata": {
    "colab": {
      "provenance": [],
      "authorship_tag": "ABX9TyPyPG5iimo4OgeKWaLJItRn",
      "include_colab_link": true
    },
    "kernelspec": {
      "name": "python3",
      "display_name": "Python 3"
    },
    "language_info": {
      "name": "python"
    }
  },
  "cells": [
    {
      "cell_type": "markdown",
      "metadata": {
        "id": "view-in-github",
        "colab_type": "text"
      },
      "source": [
        "<a href=\"https://colab.research.google.com/github/ksydata/PseudonymizeData_toPySQL/blob/main/DSwithSQL_SY_231220.ipynb\" target=\"_parent\"><img src=\"https://colab.research.google.com/assets/colab-badge.svg\" alt=\"Open In Colab\"/></a>"
      ]
    },
    {
      "cell_type": "code",
      "execution_count": 1,
      "metadata": {
        "colab": {
          "base_uri": "https://localhost:8080/"
        },
        "id": "FIQUho_MD0gd",
        "outputId": "7259cf03-fbfa-41bf-958b-e9d452757e7c"
      },
      "outputs": [
        {
          "output_type": "stream",
          "name": "stdout",
          "text": [
            "Mounted at /content/drive\n"
          ]
        }
      ],
      "source": [
        "# 구글 드라이브 마운트\n",
        "from google.colab import drive\n",
        "drive.mount(\"/content/drive\")\n",
        "import os\n",
        "import pandas as pd\n",
        "from typing import *\n",
        "\n",
        "# 지수형 표기법 e를 연속형 변환\n",
        "pd.options.display.float_format = '{:.4f}'.format"
      ]
    },
    {
      "cell_type": "code",
      "source": [
        "class GoogleDriveDataLoad:\n",
        "  def __init__(self):\n",
        "    self.file_path = None\n",
        "    self.file_name = None\n",
        "\n",
        "  def loadData(#self,\n",
        "               file_path: str, file_name: str, encoder: str, id: int) -> pd.DataFrame:\n",
        "    return pd.read_csv(\n",
        "        os.path.join(file_path, file_name), encoding = encoder, index_col = id)"
      ],
      "metadata": {
        "id": "K4SCY9UNxXSD"
      },
      "execution_count": 2,
      "outputs": []
    },
    {
      "cell_type": "code",
      "source": [
        "load = GoogleDriveDataLoad"
      ],
      "metadata": {
        "id": "wtGexsH_i6AS"
      },
      "execution_count": 3,
      "outputs": []
    },
    {
      "cell_type": "code",
      "source": [
        "DATA_LIST: Dict = {}\n",
        "FILE_LIST = os.listdir(\"/content/drive/MyDrive/DataArchive/data_sample/\")"
      ],
      "metadata": {
        "id": "2P-gvP53uG5g"
      },
      "execution_count": 4,
      "outputs": []
    },
    {
      "cell_type": "code",
      "source": [
        "for index, file in zip(list(range(0, 7, 1)), FILE_LIST):\n",
        "  data = load.loadData(\n",
        "      file_path = \"/content/drive/MyDrive/DataArchive/data_sample/\",\n",
        "      file_name = file,\n",
        "      encoder = \"utf-8\",\n",
        "      id = 0)\n",
        "  DATA_LIST[file] = data"
      ],
      "metadata": {
        "id": "-8r1WbnZlHtQ"
      },
      "execution_count": 5,
      "outputs": []
    },
    {
      "cell_type": "code",
      "source": [
        "for index in range(0, 7, 1):\n",
        "  print(\"\\n\", FILE_LIST[index])\n",
        "  DATA_LIST[FILE_LIST[index]].info()"
      ],
      "metadata": {
        "id": "zvs9Bw0Vp_vL",
        "colab": {
          "base_uri": "https://localhost:8080/"
        },
        "outputId": "44ca5631-765d-4e70-f2cc-f12da895dcfd"
      },
      "execution_count": null,
      "outputs": [
        {
          "output_type": "stream",
          "name": "stdout",
          "text": [
            "\n",
            " 실무자_통신1_v2.csv\n",
            "<class 'pandas.core.frame.DataFrame'>\n",
            "Int64Index: 100000 entries, 0 to 99999\n",
            "Data columns (total 17 columns):\n",
            " #   Column   Non-Null Count   Dtype \n",
            "---  ------   --------------   ----- \n",
            " 0   나이       100000 non-null  int64 \n",
            " 1   이름       100000 non-null  object\n",
            " 2   성별       100000 non-null  object\n",
            " 3   우편번호     100000 non-null  int64 \n",
            " 4   상세주소     100000 non-null  object\n",
            " 5   핸드폰번호    100000 non-null  object\n",
            " 6   업종명      100000 non-null  object\n",
            " 7   가입상품     100000 non-null  object\n",
            " 8   요금       100000 non-null  int64 \n",
            " 9   가입일      100000 non-null  int64 \n",
            " 10  회원유형     100000 non-null  object\n",
            " 11  블랙리스트여부  100000 non-null  object\n",
            " 12  연체횟수     100000 non-null  int64 \n",
            " 13  멤버쉽등급    100000 non-null  object\n",
            " 14  콘텐츠구매여부  100000 non-null  object\n",
            " 15  구매금액     100000 non-null  int64 \n",
            " 16  부가서비스    100000 non-null  object\n",
            "dtypes: int64(6), object(11)\n",
            "memory usage: 13.7+ MB\n",
            "\n",
            " 실무자_외부결합2_교통카드정보_v1.csv\n",
            "<class 'pandas.core.frame.DataFrame'>\n",
            "Int64Index: 95000 entries, 1 to 95000\n",
            "Data columns (total 11 columns):\n",
            " #   Column             Non-Null Count  Dtype \n",
            "---  ------             --------------  ----- \n",
            " 0   이름                 95000 non-null  object\n",
            " 1   나이                 95000 non-null  int64 \n",
            " 2   성별                 95000 non-null  object\n",
            " 3   핸드폰번호              95000 non-null  object\n",
            " 4   평일한달평균대중교통이용횟수(회)  95000 non-null  int64 \n",
            " 5   평일한달평균대중교통비용(원)    95000 non-null  int64 \n",
            " 6   평일한달평균환승횟수(회)      95000 non-null  int64 \n",
            " 7   평일한달평균환승이동시간(분)    95000 non-null  int64 \n",
            " 8   평일한달평균환승대기시간(분)    95000 non-null  int64 \n",
            " 9   평일환승최대사용지역         95000 non-null  object\n",
            " 10  평일환승최소사용지역         95000 non-null  object\n",
            "dtypes: int64(6), object(5)\n",
            "memory usage: 8.7+ MB\n",
            "\n",
            " 실무자_외부결합2_A대학교_v1.csv\n",
            "<class 'pandas.core.frame.DataFrame'>\n",
            "Int64Index: 95000 entries, 1 to 95000\n",
            "Data columns (total 7 columns):\n",
            " #   Column  Non-Null Count  Dtype \n",
            "---  ------  --------------  ----- \n",
            " 0   이름      95000 non-null  object\n",
            " 1   나이      95000 non-null  int64 \n",
            " 2   성별      95000 non-null  object\n",
            " 3   핸드폰번호   95000 non-null  object\n",
            " 4   집우편번호   95000 non-null  int64 \n",
            " 5   집상세주소   95000 non-null  object\n",
            " 6   구성원구분   95000 non-null  object\n",
            "dtypes: int64(2), object(5)\n",
            "memory usage: 5.8+ MB\n",
            "\n",
            " 실무자_외부결합1_숙박어플_v1.csv\n",
            "<class 'pandas.core.frame.DataFrame'>\n",
            "Int64Index: 95000 entries, 1 to 95000\n",
            "Data columns (total 8 columns):\n",
            " #   Column    Non-Null Count  Dtype \n",
            "---  ------    --------------  ----- \n",
            " 0   이름        95000 non-null  object\n",
            " 1   생년월일      95000 non-null  object\n",
            " 2   성별        95000 non-null  object\n",
            " 3   이메일주소     95000 non-null  object\n",
            " 4   핸드폰번호     95000 non-null  object\n",
            " 5   비지니스회원여부  95000 non-null  object\n",
            " 6   서비스이용지역   95000 non-null  object\n",
            " 7   서비스이용일    95000 non-null  object\n",
            "dtypes: object(8)\n",
            "memory usage: 6.5+ MB\n",
            "\n",
            " 실무자_외부결합1_카드결제_v1.csv\n",
            "<class 'pandas.core.frame.DataFrame'>\n",
            "Int64Index: 95000 entries, 1 to 95000\n",
            "Data columns (total 9 columns):\n",
            " #   Column   Non-Null Count  Dtype \n",
            "---  ------   --------------  ----- \n",
            " 0   이름       95000 non-null  object\n",
            " 1   성별       95000 non-null  object\n",
            " 2   핸드폰번호    95000 non-null  object\n",
            " 3   생년월일     95000 non-null  object\n",
            " 4   결제일      95000 non-null  object\n",
            " 5   결제금액     95000 non-null  int64 \n",
            " 6   가맹점주소    95000 non-null  object\n",
            " 7   가맹점업종코드  95000 non-null  object\n",
            " 8   가맹점업종명   95000 non-null  object\n",
            "dtypes: int64(1), object(8)\n",
            "memory usage: 7.2+ MB\n",
            "\n",
            " 모의데이터_금융.csv\n",
            "<class 'pandas.core.frame.DataFrame'>\n",
            "Int64Index: 95000 entries, 0 to 94999\n",
            "Data columns (total 19 columns):\n",
            " #   Column        Non-Null Count  Dtype \n",
            "---  ------        --------------  ----- \n",
            " 0   이름            95000 non-null  object\n",
            " 1   성별            95000 non-null  object\n",
            " 2   나이            95000 non-null  int64 \n",
            " 3   핸드폰번호         95000 non-null  object\n",
            " 4   우편번호          95000 non-null  int64 \n",
            " 5   집주소           95000 non-null  object\n",
            " 6   주거유형          95000 non-null  object\n",
            " 7   소득분위          95000 non-null  int64 \n",
            " 8   신용평가모델점수      95000 non-null  int64 \n",
            " 9   상환위험지수        95000 non-null  int64 \n",
            " 10  신용카드월사용금액     95000 non-null  int64 \n",
            " 11  신용카드월현금서비스금액  95000 non-null  int64 \n",
            " 12  신용카드발급수       95000 non-null  int64 \n",
            " 13  해지카드수         95000 non-null  int64 \n",
            " 14  대출여부          95000 non-null  object\n",
            " 15  대출총금액         95000 non-null  int64 \n",
            " 16  미상환대출금액       95000 non-null  int64 \n",
            " 17  연금수급여부        95000 non-null  object\n",
            " 18  연금수급액(월)      95000 non-null  int64 \n",
            "dtypes: int64(12), object(7)\n",
            "memory usage: 14.5+ MB\n",
            "\n",
            " 모의데이터_유통.csv\n",
            "<class 'pandas.core.frame.DataFrame'>\n",
            "Int64Index: 85000 entries, 0 to 84999\n",
            "Data columns (total 15 columns):\n",
            " #   Column         Non-Null Count  Dtype \n",
            "---  ------         --------------  ----- \n",
            " 0   이름             85000 non-null  object\n",
            " 1   성별             85000 non-null  object\n",
            " 2   나이             85000 non-null  int64 \n",
            " 3   가입일            85000 non-null  int64 \n",
            " 4   핸드폰번호          85000 non-null  object\n",
            " 5   우편번호           85000 non-null  int64 \n",
            " 6   배송주소           85000 non-null  object\n",
            " 7   특정상품군구매건수(도서)  85000 non-null  int64 \n",
            " 8   특정상품군구매금액(도서)  85000 non-null  int64 \n",
            " 9   특정상품군구매건수(문화)  85000 non-null  int64 \n",
            " 10  특정상품군구매금액(문화)  85000 non-null  int64 \n",
            " 11  특정상품군구매건수(교육)  85000 non-null  int64 \n",
            " 12  특정상품군구매금액(교육)  85000 non-null  int64 \n",
            " 13  멤버쉽이용금액        85000 non-null  int64 \n",
            " 14  상품권이용금액        85000 non-null  int64 \n",
            "dtypes: int64(11), object(4)\n",
            "memory usage: 10.4+ MB\n"
          ]
        }
      ]
    },
    {
      "cell_type": "markdown",
      "source": [
        "### 탐색 > 프로파일링 > 정제 > 셰이핑 > 분석\n",
        "* 탐색\n",
        "\n",
        "  데이터와 관련된 주제는 무엇인지, 데이터가 어디에서 생성되었는지, 저장된 데이터베이스테이블은 무엇인지 등을 자세히 알아가는 과정\n",
        "\n",
        "* 프로파일링\n",
        "\n",
        "  데이터셋에서 고유한 값은 무엇이며, 값의 분포는 어떠한지 등을 확인하는 과정\n",
        "\n",
        "* 정제\n",
        "\n",
        "  틀리거나 불완전한 데이터를 수정하고 카테고리를 추가하거나 결측값 등을 다루는 과정\n",
        "\n",
        "* 셰이핑\n",
        "\n",
        "  데이터를 분석 목적에 따라 행과 열로 저장하는 과정\n",
        "\n",
        "* 분석\n",
        "\n",
        "  트렌드를 파악하고 결론을 내린 후 인사이트를 찾아내기 위해 데이터를 검토하는 과정"
      ],
      "metadata": {
        "id": "FnYhp9nFIBcZ"
      }
    },
    {
      "cell_type": "code",
      "source": [
        "CREDITDATA = DATA_LIST[FILE_LIST[5]]"
      ],
      "metadata": {
        "id": "aTR-E1JdQvlK"
      },
      "execution_count": null,
      "outputs": []
    },
    {
      "cell_type": "markdown",
      "source": [
        "신용카드 발급 건수별 고객 수 분포를 확인하는 쿼리\n",
        "\n",
        "* 고객번호 컬럼\n",
        "* 카드번호 컬럼"
      ],
      "metadata": {
        "id": "AkzZmiTCKDdl"
      }
    },
    {
      "cell_type": "code",
      "source": [
        "\"\"\"\n",
        "SELECT NUM_CREDITCARD_ISSUANCES, COUNT(*) as NUM_CONSUMERDS\n",
        "FROM (\n",
        "  SELECT CONSUMER_ID, COUNT(CREDITCARD_ID)\n",
        "  FROM CREDITDATA\n",
        "  GROUP BY 1\n",
        ") subquery\n",
        "GROUP BY 1\n",
        "\"\"\""
      ],
      "metadata": {
        "id": "Y9Wyq99rKBEI"
      },
      "execution_count": null,
      "outputs": []
    },
    {
      "cell_type": "code",
      "source": [
        "CREDITDATA[[\"신용카드월사용금액\", \"신용카드월현금서비스금액\", \"대출총금액\"]].describe()"
      ],
      "metadata": {
        "colab": {
          "base_uri": "https://localhost:8080/",
          "height": 300
        },
        "id": "4eqatjxlQzR_",
        "outputId": "d85a00cc-23c6-4d89-e921-de7d52b631f4"
      },
      "execution_count": null,
      "outputs": [
        {
          "output_type": "execute_result",
          "data": {
            "text/plain": [
              "         신용카드월사용금액  신용카드월현금서비스금액         대출총금액\n",
              "count   95000.0000    95000.0000    95000.0000\n",
              "mean  5055081.6847  4997600.4163  2528637.7354\n",
              "std   2855950.6290  2891598.6753  8848861.3134\n",
              "min    100018.0000       34.0000        0.0000\n",
              "25%   2587585.0000  2490506.5000        0.0000\n",
              "50%   5063748.0000  4990128.0000        0.0000\n",
              "75%   7525220.7500  7506426.5000        0.0000\n",
              "max   9999798.0000  9999926.0000 49999255.0000"
            ],
            "text/html": [
              "\n",
              "  <div id=\"df-2a16fa66-d859-4318-87e3-52a68e2dd63d\" class=\"colab-df-container\">\n",
              "    <div>\n",
              "<style scoped>\n",
              "    .dataframe tbody tr th:only-of-type {\n",
              "        vertical-align: middle;\n",
              "    }\n",
              "\n",
              "    .dataframe tbody tr th {\n",
              "        vertical-align: top;\n",
              "    }\n",
              "\n",
              "    .dataframe thead th {\n",
              "        text-align: right;\n",
              "    }\n",
              "</style>\n",
              "<table border=\"1\" class=\"dataframe\">\n",
              "  <thead>\n",
              "    <tr style=\"text-align: right;\">\n",
              "      <th></th>\n",
              "      <th>신용카드월사용금액</th>\n",
              "      <th>신용카드월현금서비스금액</th>\n",
              "      <th>대출총금액</th>\n",
              "    </tr>\n",
              "  </thead>\n",
              "  <tbody>\n",
              "    <tr>\n",
              "      <th>count</th>\n",
              "      <td>95000.0000</td>\n",
              "      <td>95000.0000</td>\n",
              "      <td>95000.0000</td>\n",
              "    </tr>\n",
              "    <tr>\n",
              "      <th>mean</th>\n",
              "      <td>5055081.6847</td>\n",
              "      <td>4997600.4163</td>\n",
              "      <td>2528637.7354</td>\n",
              "    </tr>\n",
              "    <tr>\n",
              "      <th>std</th>\n",
              "      <td>2855950.6290</td>\n",
              "      <td>2891598.6753</td>\n",
              "      <td>8848861.3134</td>\n",
              "    </tr>\n",
              "    <tr>\n",
              "      <th>min</th>\n",
              "      <td>100018.0000</td>\n",
              "      <td>34.0000</td>\n",
              "      <td>0.0000</td>\n",
              "    </tr>\n",
              "    <tr>\n",
              "      <th>25%</th>\n",
              "      <td>2587585.0000</td>\n",
              "      <td>2490506.5000</td>\n",
              "      <td>0.0000</td>\n",
              "    </tr>\n",
              "    <tr>\n",
              "      <th>50%</th>\n",
              "      <td>5063748.0000</td>\n",
              "      <td>4990128.0000</td>\n",
              "      <td>0.0000</td>\n",
              "    </tr>\n",
              "    <tr>\n",
              "      <th>75%</th>\n",
              "      <td>7525220.7500</td>\n",
              "      <td>7506426.5000</td>\n",
              "      <td>0.0000</td>\n",
              "    </tr>\n",
              "    <tr>\n",
              "      <th>max</th>\n",
              "      <td>9999798.0000</td>\n",
              "      <td>9999926.0000</td>\n",
              "      <td>49999255.0000</td>\n",
              "    </tr>\n",
              "  </tbody>\n",
              "</table>\n",
              "</div>\n",
              "    <div class=\"colab-df-buttons\">\n",
              "\n",
              "  <div class=\"colab-df-container\">\n",
              "    <button class=\"colab-df-convert\" onclick=\"convertToInteractive('df-2a16fa66-d859-4318-87e3-52a68e2dd63d')\"\n",
              "            title=\"Convert this dataframe to an interactive table.\"\n",
              "            style=\"display:none;\">\n",
              "\n",
              "  <svg xmlns=\"http://www.w3.org/2000/svg\" height=\"24px\" viewBox=\"0 -960 960 960\">\n",
              "    <path d=\"M120-120v-720h720v720H120Zm60-500h600v-160H180v160Zm220 220h160v-160H400v160Zm0 220h160v-160H400v160ZM180-400h160v-160H180v160Zm440 0h160v-160H620v160ZM180-180h160v-160H180v160Zm440 0h160v-160H620v160Z\"/>\n",
              "  </svg>\n",
              "    </button>\n",
              "\n",
              "  <style>\n",
              "    .colab-df-container {\n",
              "      display:flex;\n",
              "      gap: 12px;\n",
              "    }\n",
              "\n",
              "    .colab-df-convert {\n",
              "      background-color: #E8F0FE;\n",
              "      border: none;\n",
              "      border-radius: 50%;\n",
              "      cursor: pointer;\n",
              "      display: none;\n",
              "      fill: #1967D2;\n",
              "      height: 32px;\n",
              "      padding: 0 0 0 0;\n",
              "      width: 32px;\n",
              "    }\n",
              "\n",
              "    .colab-df-convert:hover {\n",
              "      background-color: #E2EBFA;\n",
              "      box-shadow: 0px 1px 2px rgba(60, 64, 67, 0.3), 0px 1px 3px 1px rgba(60, 64, 67, 0.15);\n",
              "      fill: #174EA6;\n",
              "    }\n",
              "\n",
              "    .colab-df-buttons div {\n",
              "      margin-bottom: 4px;\n",
              "    }\n",
              "\n",
              "    [theme=dark] .colab-df-convert {\n",
              "      background-color: #3B4455;\n",
              "      fill: #D2E3FC;\n",
              "    }\n",
              "\n",
              "    [theme=dark] .colab-df-convert:hover {\n",
              "      background-color: #434B5C;\n",
              "      box-shadow: 0px 1px 3px 1px rgba(0, 0, 0, 0.15);\n",
              "      filter: drop-shadow(0px 1px 2px rgba(0, 0, 0, 0.3));\n",
              "      fill: #FFFFFF;\n",
              "    }\n",
              "  </style>\n",
              "\n",
              "    <script>\n",
              "      const buttonEl =\n",
              "        document.querySelector('#df-2a16fa66-d859-4318-87e3-52a68e2dd63d button.colab-df-convert');\n",
              "      buttonEl.style.display =\n",
              "        google.colab.kernel.accessAllowed ? 'block' : 'none';\n",
              "\n",
              "      async function convertToInteractive(key) {\n",
              "        const element = document.querySelector('#df-2a16fa66-d859-4318-87e3-52a68e2dd63d');\n",
              "        const dataTable =\n",
              "          await google.colab.kernel.invokeFunction('convertToInteractive',\n",
              "                                                    [key], {});\n",
              "        if (!dataTable) return;\n",
              "\n",
              "        const docLinkHtml = 'Like what you see? Visit the ' +\n",
              "          '<a target=\"_blank\" href=https://colab.research.google.com/notebooks/data_table.ipynb>data table notebook</a>'\n",
              "          + ' to learn more about interactive tables.';\n",
              "        element.innerHTML = '';\n",
              "        dataTable['output_type'] = 'display_data';\n",
              "        await google.colab.output.renderOutput(dataTable, element);\n",
              "        const docLink = document.createElement('div');\n",
              "        docLink.innerHTML = docLinkHtml;\n",
              "        element.appendChild(docLink);\n",
              "      }\n",
              "    </script>\n",
              "  </div>\n",
              "\n",
              "\n",
              "<div id=\"df-1a35a5b3-989b-4e35-9d04-3934417a9107\">\n",
              "  <button class=\"colab-df-quickchart\" onclick=\"quickchart('df-1a35a5b3-989b-4e35-9d04-3934417a9107')\"\n",
              "            title=\"Suggest charts\"\n",
              "            style=\"display:none;\">\n",
              "\n",
              "<svg xmlns=\"http://www.w3.org/2000/svg\" height=\"24px\"viewBox=\"0 0 24 24\"\n",
              "     width=\"24px\">\n",
              "    <g>\n",
              "        <path d=\"M19 3H5c-1.1 0-2 .9-2 2v14c0 1.1.9 2 2 2h14c1.1 0 2-.9 2-2V5c0-1.1-.9-2-2-2zM9 17H7v-7h2v7zm4 0h-2V7h2v10zm4 0h-2v-4h2v4z\"/>\n",
              "    </g>\n",
              "</svg>\n",
              "  </button>\n",
              "\n",
              "<style>\n",
              "  .colab-df-quickchart {\n",
              "      --bg-color: #E8F0FE;\n",
              "      --fill-color: #1967D2;\n",
              "      --hover-bg-color: #E2EBFA;\n",
              "      --hover-fill-color: #174EA6;\n",
              "      --disabled-fill-color: #AAA;\n",
              "      --disabled-bg-color: #DDD;\n",
              "  }\n",
              "\n",
              "  [theme=dark] .colab-df-quickchart {\n",
              "      --bg-color: #3B4455;\n",
              "      --fill-color: #D2E3FC;\n",
              "      --hover-bg-color: #434B5C;\n",
              "      --hover-fill-color: #FFFFFF;\n",
              "      --disabled-bg-color: #3B4455;\n",
              "      --disabled-fill-color: #666;\n",
              "  }\n",
              "\n",
              "  .colab-df-quickchart {\n",
              "    background-color: var(--bg-color);\n",
              "    border: none;\n",
              "    border-radius: 50%;\n",
              "    cursor: pointer;\n",
              "    display: none;\n",
              "    fill: var(--fill-color);\n",
              "    height: 32px;\n",
              "    padding: 0;\n",
              "    width: 32px;\n",
              "  }\n",
              "\n",
              "  .colab-df-quickchart:hover {\n",
              "    background-color: var(--hover-bg-color);\n",
              "    box-shadow: 0 1px 2px rgba(60, 64, 67, 0.3), 0 1px 3px 1px rgba(60, 64, 67, 0.15);\n",
              "    fill: var(--button-hover-fill-color);\n",
              "  }\n",
              "\n",
              "  .colab-df-quickchart-complete:disabled,\n",
              "  .colab-df-quickchart-complete:disabled:hover {\n",
              "    background-color: var(--disabled-bg-color);\n",
              "    fill: var(--disabled-fill-color);\n",
              "    box-shadow: none;\n",
              "  }\n",
              "\n",
              "  .colab-df-spinner {\n",
              "    border: 2px solid var(--fill-color);\n",
              "    border-color: transparent;\n",
              "    border-bottom-color: var(--fill-color);\n",
              "    animation:\n",
              "      spin 1s steps(1) infinite;\n",
              "  }\n",
              "\n",
              "  @keyframes spin {\n",
              "    0% {\n",
              "      border-color: transparent;\n",
              "      border-bottom-color: var(--fill-color);\n",
              "      border-left-color: var(--fill-color);\n",
              "    }\n",
              "    20% {\n",
              "      border-color: transparent;\n",
              "      border-left-color: var(--fill-color);\n",
              "      border-top-color: var(--fill-color);\n",
              "    }\n",
              "    30% {\n",
              "      border-color: transparent;\n",
              "      border-left-color: var(--fill-color);\n",
              "      border-top-color: var(--fill-color);\n",
              "      border-right-color: var(--fill-color);\n",
              "    }\n",
              "    40% {\n",
              "      border-color: transparent;\n",
              "      border-right-color: var(--fill-color);\n",
              "      border-top-color: var(--fill-color);\n",
              "    }\n",
              "    60% {\n",
              "      border-color: transparent;\n",
              "      border-right-color: var(--fill-color);\n",
              "    }\n",
              "    80% {\n",
              "      border-color: transparent;\n",
              "      border-right-color: var(--fill-color);\n",
              "      border-bottom-color: var(--fill-color);\n",
              "    }\n",
              "    90% {\n",
              "      border-color: transparent;\n",
              "      border-bottom-color: var(--fill-color);\n",
              "    }\n",
              "  }\n",
              "</style>\n",
              "\n",
              "  <script>\n",
              "    async function quickchart(key) {\n",
              "      const quickchartButtonEl =\n",
              "        document.querySelector('#' + key + ' button');\n",
              "      quickchartButtonEl.disabled = true;  // To prevent multiple clicks.\n",
              "      quickchartButtonEl.classList.add('colab-df-spinner');\n",
              "      try {\n",
              "        const charts = await google.colab.kernel.invokeFunction(\n",
              "            'suggestCharts', [key], {});\n",
              "      } catch (error) {\n",
              "        console.error('Error during call to suggestCharts:', error);\n",
              "      }\n",
              "      quickchartButtonEl.classList.remove('colab-df-spinner');\n",
              "      quickchartButtonEl.classList.add('colab-df-quickchart-complete');\n",
              "    }\n",
              "    (() => {\n",
              "      let quickchartButtonEl =\n",
              "        document.querySelector('#df-1a35a5b3-989b-4e35-9d04-3934417a9107 button');\n",
              "      quickchartButtonEl.style.display =\n",
              "        google.colab.kernel.accessAllowed ? 'block' : 'none';\n",
              "    })();\n",
              "  </script>\n",
              "</div>\n",
              "\n",
              "    </div>\n",
              "  </div>\n"
            ]
          },
          "metadata": {},
          "execution_count": 17
        }
      ]
    },
    {
      "cell_type": "markdown",
      "source": [
        "조건로직으로 구간화: 대출총금액이나 신용카드월사용액, 신용카드월현금서비스금액 등을 기준으로 고객의 여신거래규모를 구분함."
      ],
      "metadata": {
        "id": "0Jj3ywx5O6GD"
      }
    },
    {
      "cell_type": "code",
      "source": [
        "\"\"\"\n",
        "SELECT\n",
        "    CASE WHEN AMT_CREDITCARD_PAYMENT <= 2500000 then \"up to 2,500,\"\n",
        "    WHEN AMT_CREDITCARD_PAYMENT <= 5000000 then \"2,500, - 5,000,\"\n",
        "    WHEN AMT_CREDITCARD_PAYMENT <= 7500000 then \"5,000,- 7,500,\"\n",
        "    ELSE \"7,500,+\" END AS AMT_CREDITCARD_BIN,\n",
        "\n",
        "    CASE WHEN AMT_CREDITCARD_PAYMENT <= 2500000 then \"4th BOUND,\"\n",
        "    WHEN AMT_CREDITCARD_PAYMENT <= 5000000 then \"3rd BOUND,\"\n",
        "    WHEN AMT_CREDITCARD_PAYMENT <= 7500000 then \"2nd BOUND\"\n",
        "    ELSE \"1st BOUND\" END AS AMT_CREDITCARD_CATEGORY,\n",
        "\n",
        "FROM CREDITDATA\n",
        "GROUP BY 1, 2\n",
        "\"\"\""
      ],
      "metadata": {
        "id": "SJyFNoL8MNsK"
      },
      "execution_count": null,
      "outputs": []
    },
    {
      "cell_type": "markdown",
      "source": [
        "균등한 구간 범위 설정에 로그를 사용하기도 함. 특히 가장 작은 값과 큰 값의 차이가 큰 경우(웹사이트 방문자 분포, 자산 분포)"
      ],
      "metadata": {
        "id": "l901QBPWTcpm"
      }
    },
    {
      "cell_type": "markdown",
      "source": [
        "백분위수와 표준편차 활용: ntile() 윈도우 함수로 각 행의 N분위수 값을 계산하고 외부쿼리에서 구간별 범위 확인\n"
      ],
      "metadata": {
        "id": "k3JNNJNPUX91"
      }
    },
    {
      "cell_type": "code",
      "source": [
        "\"\"\"\n",
        "SELECT\n",
        "    ntile,\n",
        "    MIN(AMT_CREDITCARD_PAYMENT) as LOWER_BOUND,\n",
        "    MAX(AMT_CREDITCARD_PAYMENT) as UPPER_BOUND,\n",
        "    COUNT(CREDITCARD_ID) as CNT_CREDITCARD\n",
        "FROM\n",
        "(\n",
        "  SELECT\n",
        "    CASE WHEN\n",
        "\n",
        "\n",
        ")\n",
        "\"\"\"\n",
        "# ntile(NUM_BINS) over(PARTITION BY __ ORDER BY __)"
      ],
      "metadata": {
        "id": "Xye88qieTXJz"
      },
      "execution_count": null,
      "outputs": []
    },
    {
      "cell_type": "markdown",
      "source": [
        "### 시계열 분석\n",
        "\n",
        "* 모든 사용자가 동이한 시간대 내 지역에 산다면 전혀 문제가 되지 않지만, 전 세계에 흩어져 있다면 DB에 저장된 UTC(Coordinated Universal Time)을 각 사용자의 로컬 시간에 맞게 변환해 분석해야 한다.\n",
        "\n",
        "* 즉, UTC를 사용하면 데이터에 로그 또는 이벤트가 발생한 로컬 시간을 확인할 수 없다는 단점이 있다."
      ],
      "metadata": {
        "id": "ePIXAjVs0zGy"
      }
    },
    {
      "cell_type": "code",
      "source": [
        "DATA_LIST[FILE_LIST[0]].info()"
      ],
      "metadata": {
        "colab": {
          "base_uri": "https://localhost:8080/"
        },
        "id": "G8RE0PsrO4n-",
        "outputId": "8fea5351-981a-41a7-e5d6-bca92fb9e71e"
      },
      "execution_count": 23,
      "outputs": [
        {
          "output_type": "stream",
          "name": "stdout",
          "text": [
            "<class 'pandas.core.frame.DataFrame'>\n",
            "Int64Index: 100000 entries, 0 to 99999\n",
            "Data columns (total 17 columns):\n",
            " #   Column   Non-Null Count   Dtype \n",
            "---  ------   --------------   ----- \n",
            " 0   나이       100000 non-null  int64 \n",
            " 1   이름       100000 non-null  object\n",
            " 2   성별       100000 non-null  object\n",
            " 3   우편번호     100000 non-null  int64 \n",
            " 4   상세주소     100000 non-null  object\n",
            " 5   핸드폰번호    100000 non-null  object\n",
            " 6   업종명      100000 non-null  object\n",
            " 7   가입상품     100000 non-null  object\n",
            " 8   요금       100000 non-null  int64 \n",
            " 9   가입일      100000 non-null  int64 \n",
            " 10  회원유형     100000 non-null  object\n",
            " 11  블랙리스트여부  100000 non-null  object\n",
            " 12  연체횟수     100000 non-null  int64 \n",
            " 13  멤버쉽등급    100000 non-null  object\n",
            " 14  콘텐츠구매여부  100000 non-null  object\n",
            " 15  구매금액     100000 non-null  int64 \n",
            " 16  부가서비스    100000 non-null  object\n",
            "dtypes: int64(6), object(11)\n",
            "memory usage: 13.7+ MB\n"
          ]
        }
      ]
    },
    {
      "cell_type": "code",
      "source": [
        "# for column in [\"업종명\", \"가입상품\", \"회원유형\", \"멤버쉽등급\", \"부가서비스\"]:\n",
        "  # print(\"\\n\", column, Counter(DATA_LIST[FILE_LIST[0]][column]))"
      ],
      "metadata": {
        "id": "fTmBb2f5OBj5"
      },
      "execution_count": null,
      "outputs": []
    },
    {
      "cell_type": "code",
      "source": [
        "Counter(DATA_LIST[FILE_LIST[0]][\"가입상품\"])"
      ],
      "metadata": {
        "colab": {
          "base_uri": "https://localhost:8080/"
        },
        "id": "q-UY35WePN_z",
        "outputId": "95a3a560-f705-4c99-9aaa-bceb9ec5593a"
      },
      "execution_count": 27,
      "outputs": [
        {
          "output_type": "execute_result",
          "data": {
            "text/plain": [
              "Counter({'모두안심 기가': 5862,\n",
              "         '기가인터넷멀티 와이파이 1.7G': 5748,\n",
              "         '기가프리미엄X5': 5808,\n",
              "         '원격케어 기가라이트': 5768,\n",
              "         '광랜인터넷 와이파이': 5840,\n",
              "         '모두안심 광랜': 5779,\n",
              "         '기가라이트인터넷 와이파이': 5914,\n",
              "         '원격케어 광랜': 6063,\n",
              "         '기가인터넷 와이파이': 5874,\n",
              "         '기가프리미엄X2.5': 5926,\n",
              "         '기가인터넷멀티': 5957,\n",
              "         '기가프리미엄X10': 5949,\n",
              "         '광랜인터넷': 5998,\n",
              "         '원격케어 기가': 5732,\n",
              "         '기가라이트인터넷': 6010,\n",
              "         '기가인터넷': 5902,\n",
              "         '모두안심 기가라이트': 5870})"
            ]
          },
          "metadata": {},
          "execution_count": 27
        }
      ]
    },
    {
      "cell_type": "code",
      "source": [
        "Counter(DATA_LIST[FILE_LIST[0]][\"멤버쉽등급\"])"
      ],
      "metadata": {
        "colab": {
          "base_uri": "https://localhost:8080/"
        },
        "id": "avmAo5K7Pnxt",
        "outputId": "8e0d782c-76f8-4072-f3ad-1977081ea963"
      },
      "execution_count": 28,
      "outputs": [
        {
          "output_type": "execute_result",
          "data": {
            "text/plain": [
              "Counter({'일반': 38722,\n",
              "         'WHITE': 32006,\n",
              "         'VIP': 5929,\n",
              "         'VVIP': 2991,\n",
              "         'GOLD': 8709,\n",
              "         'SILVER': 11643})"
            ]
          },
          "metadata": {},
          "execution_count": 28
        }
      ]
    },
    {
      "cell_type": "code",
      "source": [
        "\"\"\"\n",
        "SELECT\n",
        "  date_part(\"year\", SUBSCRIPTION_DATE) AS SUBSCRIPTION_YEAR,\n",
        "  SUBSCRIPTION_SERICE,\n",
        "  MEMBERSHIP_TYPE,\n",
        "  SUM(SUBSCRIPTION_FEE) AS SUBSCIRIPTION_SALES\n",
        "FROM DATA_MOBILE_COMMUNICAION\n",
        "WHERE SUBSCRIPTION_SERVICE IN (\"모두안심 기가\", \"모두안심 광랜\", \"모두안심 기가라이트\"),\n",
        "AND MEMBERSHIP_TYPE IN (\"일반\", \"WHITE\", \"SILVER\")\n",
        "GROUP BY 1, 2\n",
        "ORDER BY 1, 2\n",
        "\"\"\""
      ],
      "metadata": {
        "id": "izwBzZ_aHLMs"
      },
      "execution_count": null,
      "outputs": []
    },
    {
      "cell_type": "code",
      "source": [],
      "metadata": {
        "id": "XY87R92p030t"
      },
      "execution_count": null,
      "outputs": []
    }
  ]
}