{
  "nbformat": 4,
  "nbformat_minor": 0,
  "metadata": {
    "colab": {
      "provenance": [],
      "authorship_tag": "ABX9TyOvlquD+GQV0Xdg5au5XUOJ"
    },
    "kernelspec": {
      "name": "python3",
      "display_name": "Python 3"
    },
    "language_info": {
      "name": "python"
    }
  },
  "cells": [
    {
      "cell_type": "markdown",
      "source": [
        "## 1.파이썬 라이브러리 모듈 및 데이터 로드"
      ],
      "metadata": {
        "id": "sY5uqiogzjN0"
      }
    },
    {
      "cell_type": "code",
      "execution_count": null,
      "metadata": {
        "colab": {
          "base_uri": "https://localhost:8080/"
        },
        "id": "7a22_watvyGN",
        "outputId": "a54ec007-e41e-4409-e763-f0adf340b6f6"
      },
      "outputs": [
        {
          "output_type": "stream",
          "name": "stdout",
          "text": [
            "Mounted at /content/drive\n"
          ]
        }
      ],
      "source": [
        "#  데이터 처리 모듈\n",
        "import pandas as pd\n",
        "pd.set_option(\"display.max_columns\", None)\n",
        "from sklearn.impute import KNNImputer\n",
        "# !pip install miceforest\n",
        "# import miceforest as mf\n",
        "from copy import copy\n",
        "\n",
        "# 행렬 등 통계 연산 모듈\n",
        "import numpy as np\n",
        "# 지수형 표기법 e를 연속형 변환\n",
        "pd.options.display.float_format = '{:.4f}'.format\n",
        "# 타입 어노테이션(Any, Sequence 등의 메서드 활용)\n",
        "from typing import *\n",
        "import os\n",
        "\n",
        "# 구글 드라이브 마운트\n",
        "from google.colab import drive\n",
        "drive.mount(\"/content/drive\")\n",
        "import os\n",
        "\n",
        "# 조합 찾는 반복문 메서드\n",
        "from itertools import permutations\n",
        "from itertools import combinations\n",
        "\n",
        "import matplotlib.pyplot as plt\n",
        "import matplotlib.font_manager as fm\n",
        "import seaborn as sns"
      ]
    },
    {
      "cell_type": "code",
      "source": [
        "# apt-get : 패키지 설치 명령어\n",
        "# -qq : 에러외의 메세지 숨기는 옵션키\n",
        "!apt-get -qq install fonts-nanum\n",
        "\n",
        "fe = fm.FontEntry(\n",
        "    fname=r\"/usr/share/fonts/truetype/nanum/NanumGothic.ttf\",\n",
        "    # ttf 파일이 저장되어 있는 경로\n",
        "    name='NanumGothic')\n",
        "# 이 폰트의 원하는 이름 설정\n",
        "fm.fontManager.ttflist.insert(0, fe)\n",
        "# Matplotlib에 폰트 추가\n",
        "plt.rcParams.update({'font.size': 18, 'font.family': 'NanumGothic'})\n",
        "# 폰트 설정"
      ],
      "metadata": {
        "colab": {
          "base_uri": "https://localhost:8080/"
        },
        "id": "0MUFUQ4QVK4h",
        "outputId": "432221a7-e847-439c-d845-f940496d0241"
      },
      "execution_count": null,
      "outputs": [
        {
          "output_type": "stream",
          "name": "stdout",
          "text": [
            "Selecting previously unselected package fonts-nanum.\n",
            "(Reading database ... 120875 files and directories currently installed.)\n",
            "Preparing to unpack .../fonts-nanum_20200506-1_all.deb ...\n",
            "Unpacking fonts-nanum (20200506-1) ...\n",
            "Setting up fonts-nanum (20200506-1) ...\n",
            "Processing triggers for fontconfig (2.13.1-4.2ubuntu5) ...\n"
          ]
        }
      ]
    },
    {
      "cell_type": "code",
      "source": [
        "# 텍스트 파일 n개가 포함된 C(로컬디스크) 내 파일경로 설정\n",
        "file_path = \"/content/drive/MyDrive\" + \"/\" + \"2023 가명익명처리 해커톤\"\n",
        "\n",
        "# 파일경로 내 텍스트 파일명을 디렉토리 리스트에 저장\n",
        "file_directory = os.listdir(file_path)\n",
        "file_dataname: List = [\n",
        "    ((file_directory[index].split(\".csv\"))[0]).split(\"_csv\")[0]\n",
        "    for index in range(len(file_directory))]\n",
        "\n",
        "file_directory.pop(0)\n",
        "file_directory.pop(3)\n",
        "file_directory.pop(3)\n",
        "file_directory.pop(3)"
      ],
      "metadata": {
        "id": "0esPZf-_xBTy"
      },
      "execution_count": null,
      "outputs": []
    },
    {
      "cell_type": "code",
      "source": [
        "display(file_directory)"
      ],
      "metadata": {
        "colab": {
          "base_uri": "https://localhost:8080/",
          "height": 90
        },
        "id": "hBzdGHEyxNku",
        "outputId": "d2fc98eb-a8ca-47e6-e413-98866600d3c2"
      },
      "execution_count": null,
      "outputs": [
        {
          "output_type": "display_data",
          "data": {
            "text/plain": [
              "['예선경연용 데이터셋_학생부_newimpact팀.csv',\n",
              " '예선경연용 거주지데이터_학생부_newimpact팀.csv',\n",
              " '예선경연용 데이터코드북_학생부_참가자 배포용.csv',\n",
              " 'JOIN_DATA.csv']"
            ]
          },
          "metadata": {}
        }
      ]
    },
    {
      "cell_type": "code",
      "source": [
        "DATA_LIST = []\n",
        "for FILE_NAME in file_directory:\n",
        "  DATA = pd.read_csv(os.path.join(file_path + \"/\" + FILE_NAME), index_col = False, encoding = \"utf-8\")\n",
        "  DATA_LIST.append(DATA)"
      ],
      "metadata": {
        "colab": {
          "base_uri": "https://localhost:8080/"
        },
        "id": "ZBcpTjs4yLip",
        "outputId": "8d0af246-7af9-41e5-b7c4-8f467ada540e"
      },
      "execution_count": null,
      "outputs": [
        {
          "output_type": "stream",
          "name": "stderr",
          "text": [
            "<ipython-input-5-71ba3e90a58f>:3: DtypeWarning: Columns (20,21,22,23,24,25,26,27,29,30,31,32,33,34) have mixed types. Specify dtype option on import or set low_memory=False.\n",
            "  DATA = pd.read_csv(os.path.join(file_path + \"/\" + FILE_NAME), index_col = False, encoding = \"utf-8\")\n"
          ]
        }
      ]
    },
    {
      "cell_type": "code",
      "source": [
        "# 익명처리 통신 데이터 셋\n",
        "MAIN_DATA = DATA_LIST[0]\n",
        "# 거주지 코드\n",
        "LOC_DATA = DATA_LIST[1]"
      ],
      "metadata": {
        "id": "FAYZekMcyksG"
      },
      "execution_count": null,
      "outputs": []
    },
    {
      "cell_type": "code",
      "source": [
        "# 행번호를 인덱스화\n",
        "# MAIN_DATA.index = MAIN_DATA[\"행번호\"]\n",
        "# MAIN_DATA.drop(\"행번호\", axis = 1, inplace = True)"
      ],
      "metadata": {
        "id": "Tysnav8qz5FS"
      },
      "execution_count": null,
      "outputs": []
    },
    {
      "cell_type": "markdown",
      "source": [
        "## 2.데이터 타입 변환 및 병합"
      ],
      "metadata": {
        "id": "XUMz4jNgziOF"
      }
    },
    {
      "cell_type": "code",
      "source": [
        "class MergeData:\n",
        "  def __init__(self, MAIN_DATA, LOC_DATA, JOIN_DATA = None):\n",
        "    self.MAIN_DATA = MAIN_DATA\n",
        "    self.LOC_DATA = LOC_DATA\n",
        "    self.JOIN_DATA = JOIN_DATA\n",
        "\n",
        "\n",
        "  def LeftJoinTable(self, ID_LIST: List, ID: str, lefttable_join_key: str, righttable_join_key: str, join_method: str):\n",
        "    JOIN_DATA = pd.merge(\n",
        "        left = self.MAIN_DATA,\n",
        "        right = self.LOC_DATA,\n",
        "        left_on = lefttable_join_key,\n",
        "        right_on = righttable_join_key,\n",
        "        how = join_method\n",
        "      )\n",
        "    self.JOIN_DATA = JOIN_DATA\n",
        "    self.JOIN_DATA.drop_duplicates(subset = ID_LIST, ignore_index = False, inplace = True)\n",
        "    self.JOIN_DATA.sort_values(by = ID, ascending = True, inplace = True)\n",
        "    self.JOIN_DATA.reset_index(drop = True, inplace = True)\n",
        "\n",
        "    # SKT로 오입력된 행 추출 후 분리하여 저장\n",
        "    SKT_INDEX = self.JOIN_DATA[self.JOIN_DATA[ID] == 28519]\n",
        "    self.JOIN_DATA.drop(28518, axis = 0, inplace = True)\n",
        "    return self.JOIN_DATA, SKT_INDEX\n",
        "\n",
        "\n",
        "  def selectDataType(self, factor_columns, string_columns, integer_columns, float_columns, date_columns):\n",
        "    # 필요없는 컬럼 삭제할 일이 없으므로 제거\n",
        "    # self.JOIN_DATA = self.JOIN_DATA.drop(columns = drop_columns, axis = 1)\n",
        "\n",
        "    for data_type, columns_list in zip(\n",
        "        [\"category\", \"object\", \"int64\", \"float64\"], [factor_columns, string_columns, integer_columns, float_columns]):\n",
        "      # if len(columns_list) > 0:\n",
        "      self.JOIN_DATA[columns_list] = self.JOIN_DATA[columns_list].astype(data_type)\n",
        "      # else: pass\n",
        "      # df['x'] = pd.to_numeric(df['x'], errors = 'coerce')\n",
        "\n",
        "    for date_column in date_columns:\n",
        "      self.JOIN_DATA[date_column] = pd.to_datetime(self.JOIN_DATA[date_column]) # format = '%Y-%m-%d', errors = 'ignore')\n",
        "\n",
        "    return self.JOIN_DATA"
      ],
      "metadata": {
        "id": "LWsEH6_2ya3I"
      },
      "execution_count": null,
      "outputs": []
    },
    {
      "cell_type": "code",
      "source": [
        "MERGEDATA_INSTANCE = MergeData(MAIN_DATA, LOC_DATA)"
      ],
      "metadata": {
        "id": "IE2frmfO13bt"
      },
      "execution_count": null,
      "outputs": []
    },
    {
      "cell_type": "code",
      "source": [
        "JOIN_DATA, SKT_INDEX_DATA = MERGEDATA_INSTANCE.LeftJoinTable(\n",
        "    ID_LIST = [\"행번호\", \"회원 ID\"],\n",
        "    ID = \"행번호\",\n",
        "    lefttable_join_key = \"추정거주지\",\n",
        "    righttable_join_key  = \"거주지코드\",\n",
        "    join_method = \"inner\"\n",
        ")\n",
        "  # ValueError: could not convert string to float: 'SKT'"
      ],
      "metadata": {
        "id": "tQN_HXLJ1_oj"
      },
      "execution_count": null,
      "outputs": []
    },
    {
      "cell_type": "markdown",
      "source": [
        "* ValueError: could not convert string to float: 'SKT'\n",
        "* 데이터베이스, 시스템 오류 등의 문제로 오입력된 행 찾기\n",
        "* 행번호 28519, 회원ID D15163615"
      ],
      "metadata": {
        "id": "maPI0kxt-C4j"
      }
    },
    {
      "cell_type": "code",
      "source": [
        "SKT_INDEX_DATA\n",
        "# JOIN_DATA[JOIN_DATA[\"패스트패션(지수)\"] == \"SKT\"]"
      ],
      "metadata": {
        "id": "L-YxjPFqCOpU"
      },
      "execution_count": null,
      "outputs": []
    },
    {
      "cell_type": "markdown",
      "source": [
        "* TypeError: 'NoneType' object is not subscriptable\n",
        "* 배열 인덱스에 접근할 수 없는 자료형"
      ],
      "metadata": {
        "id": "Ns7_s2cCCyBx"
      }
    },
    {
      "cell_type": "code",
      "source": [
        "JOIN_DATA = MERGEDATA_INSTANCE.selectDataType(\n",
        "    factor_columns = [\"성별\",\"가구특성\",\"세대구분\",\"추정거주지\",\"거주지코드\",\"단말기코드\",\"시도명\",\"시군구명\",\"읍면동명\"],\n",
        "    string_columns = '회원 ID',\n",
        "    integer_columns = [\n",
        "        '행번호','멤버십 사용 횟수','멤버십 사용 금액','소액결제 사용 횟수','소액결제 사용 금액',\n",
        "        '쿠팡사용일수','네이버 쇼핑 사용일수','11번가 사용일수','당근마켓 사용일수','옥션, G마켓 사용일수','요기요 사용일수','배달의 민족 사용일수',\n",
        "        '공연장방문횟수','극장 방문 횟수','자동차 극장 방문횟수'],\n",
        "    float_columns = [\n",
        "        '패스트패션(지수)', '명품의류(지수)', '신발(지수)', '배달음식(지수)', '넷플릭스(지수)',\n",
        "        '영화(지수)', '대형마트(지수)', '오픈마켓(지수)', '홈쇼핑(지수)', '국외직접구매(지수)',\n",
        "        '면세점/백화점(지수)', '화장품(지수)', '이미용성형(지수)', '국내여행(지수)', '해외여행(지수)'],\n",
        "    date_columns = [\"생년월일\"] # 'YM','DLQ_YM','CD_OPN_YM','LN_YM']\n",
        ")"
      ],
      "metadata": {
        "id": "c3JiNn8y2pfI"
      },
      "execution_count": null,
      "outputs": []
    },
    {
      "cell_type": "markdown",
      "source": [
        "* 식별자(ID)\n",
        "\n",
        "  행번호, 회원 ID\n",
        "\n",
        "* 준식별자 (Qi)와 동질성 집합(Equivalent Class, QI조합의 집합)\n",
        "\n",
        "  성별, 생년월일, 추정거주지, 거주지코드, 가구특성, 세대구분은 직접적으로 특정 개인을 식별할 수 없으나 다른 정보와 결합 시 개인을 식별할 수 있는 데이터\n",
        "\n",
        "* 민감속성 또는 민감정보가 있는지"
      ],
      "metadata": {
        "id": "Fdg_Zu1LIvWz"
      }
    },
    {
      "cell_type": "code",
      "source": [
        "JOIN_DATA.isnull().sum()"
      ],
      "metadata": {
        "id": "hsOoktL58vUi"
      },
      "execution_count": null,
      "outputs": []
    },
    {
      "cell_type": "markdown",
      "source": [
        "## 3. 이상치 탐색 등 프라이버시 보호를 위한 EDA"
      ],
      "metadata": {
        "id": "HIK396At2ewq"
      }
    },
    {
      "cell_type": "markdown",
      "source": [
        "![image.png](data:image/png;base64,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)"
      ],
      "metadata": {
        "id": "AVA7xKgLv6Q0"
      }
    },
    {
      "cell_type": "markdown",
      "source": [
        "![image.png](data:image/png;base64,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)"
      ],
      "metadata": {
        "id": "2SYM7kXpzYay"
      }
    },
    {
      "cell_type": "markdown",
      "source": [
        "#### 로컬삭제\n",
        "    \n",
        "    범주형 데이터의 빈도 기준, 문자 위치나 구분자 분리할 때\n",
        "    \n",
        "    =COUNTIF(데이터범위, 검색값)"
      ],
      "metadata": {
        "id": "M2J9VA1JGFYa"
      }
    },
    {
      "cell_type": "markdown",
      "source": [
        "#### 문자열 분리\n",
        "    - 구분자로 분리\n",
        "        \n",
        "        [주소] 등 문자 위치 분리가 어려울 때, 구분자 분리함\n",
        "        \n",
        "        =sgSplit(입력값, 구분자, 쪼갤부분)\n",
        "        \n",
        "    - 자릿수 분리\n",
        "        \n",
        "        [날짜] 등\n",
        "        \n",
        "        =MID(text(입력값, “yyyymmdd”), 시작 부분, 끝나는 부분)\n",
        "        \n",
        "        =sgMID(입력값, 시작부분, 끝나는 부분) 사용자정의함수"
      ],
      "metadata": {
        "id": "phnsW-usI1fh"
      }
    },
    {
      "cell_type": "markdown",
      "source": [
        "* 생년월일 변수는 연령대로 변환\n",
        "* 주소 변수는 범주화\n",
        "\n",
        "  추정거주지, 거주지코드 행이 1개로 집계된 데이터 추출하여 프라이버시 보호 모델 적용\n",
        "\n",
        "* 가족 변수는 일반화\n",
        "  \n",
        "  세대구분 변수 4(성인자녀가구) 3명인데 어떻게 일반화할지 고민\n",
        "\n",
        "* 금액 변수는 범주화"
      ],
      "metadata": {
        "id": "rvQSAQ9VHjrC"
      }
    },
    {
      "cell_type": "code",
      "source": [
        "JOIN_DATA[\"세부주소\"] = JOIN_DATA[\"시도명\"].str.cat(JOIN_DATA[\"시군구명\"].str.cat(JOIN_DATA[\"읍면동명\"], sep = \" \"), sep = \" \")\n",
        "JOIN_DATA[\"세부주소\"] = JOIN_DATA[\"세부주소\"].astype(\"category\")\n",
        "\n",
        "JOIN_DATA[\"상위주소\"] = JOIN_DATA[\"시도명\"].str.cat(JOIN_DATA[\"시군구명\"], sep = \" \")\n",
        "JOIN_DATA[\"상위주소\"] = JOIN_DATA[\"상위주소\"].astype(\"category\")"
      ],
      "metadata": {
        "id": "xMwn96oQMieb"
      },
      "execution_count": null,
      "outputs": []
    },
    {
      "cell_type": "code",
      "source": [
        "JOIN_DATA[\"나이\"] = 2023 - JOIN_DATA[\"생년월일\"].dt.year + 1"
      ],
      "metadata": {
        "id": "5UmkdY9C0xZx"
      },
      "execution_count": null,
      "outputs": []
    },
    {
      "cell_type": "code",
      "source": [
        "JOIN_DATA[\"연령대\"] = JOIN_DATA[\"나이\"].apply(lambda age : (age // 10) * 10)"
      ],
      "metadata": {
        "id": "I0x6aCrC1VbC"
      },
      "execution_count": null,
      "outputs": []
    },
    {
      "cell_type": "code",
      "source": [
        "JOIN_DATA[\"세부연령대\"] = JOIN_DATA[\"나이\"] - JOIN_DATA[\"연령대\"]\n",
        "JOIN_DATA[\"세부연령대\"] = JOIN_DATA[\"세부연령대\"].apply(lambda x: \"초반\" if x <= 3 else (\"중반\" if x <= 6 else \"후반\"))"
      ],
      "metadata": {
        "id": "OwxkNpY81VHD"
      },
      "execution_count": null,
      "outputs": []
    },
    {
      "cell_type": "code",
      "source": [
        "JOIN_DATA[\"연령대\"] = JOIN_DATA[\"연령대\"].astype(\"str\")"
      ],
      "metadata": {
        "id": "fE72dNGp390E"
      },
      "execution_count": null,
      "outputs": []
    },
    {
      "cell_type": "code",
      "source": [
        "JOIN_DATA[\"나이대\"] = JOIN_DATA[\"연령대\"].str.cat(JOIN_DATA[\"세부연령대\"])"
      ],
      "metadata": {
        "id": "uiP9DEX33veq"
      },
      "execution_count": null,
      "outputs": []
    },
    {
      "cell_type": "code",
      "source": [
        "JOIN_DATA[\"나이대\"] = JOIN_DATA[\"나이대\"].astype(\"category\")"
      ],
      "metadata": {
        "id": "gptWsOwa4LWV"
      },
      "execution_count": null,
      "outputs": []
    },
    {
      "cell_type": "markdown",
      "source": [
        "---"
      ],
      "metadata": {
        "id": "9Tn7vseo4R2z"
      }
    },
    {
      "cell_type": "code",
      "source": [
        "for FACTOR_COLUMN in JOIN_DATA.select_dtypes(include = [\"category\"]).columns:\n",
        "  # display( Counter(JOIN_DATA[FACTOR_COLUMN]) )\n",
        "  display(JOIN_DATA.groupby([FACTOR_COLUMN])[FACTOR_COLUMN] \\\n",
        "                             .count() \\\n",
        "                             .reset_index(name = \"count\") \\\n",
        "                             .sort_values([\"count\"], ascending = True))"
      ],
      "metadata": {
        "id": "qog8uGeN2S4W"
      },
      "execution_count": null,
      "outputs": []
    },
    {
      "cell_type": "code",
      "source": [
        "LOCAL_COUNT_LIST = []\n",
        "\n",
        "for LOCAL_COLUMN in [\"시도명\", \"시군구명\", \"상위주소\", \"세부주소\"]:\n",
        "  LOCAL_COUNT = JOIN_DATA.groupby([LOCAL_COLUMN])[LOCAL_COLUMN] \\\n",
        "                                  .count() \\\n",
        "                                  .reset_index(name = \"count\") \\\n",
        "                                  .sort_values([\"count\"], ascending = True)\n",
        "  LOCAL_COUNT_LIST.append(LOCAL_COUNT)\n",
        "  LOCAL_COUNT = 0"
      ],
      "metadata": {
        "id": "3DxKEjKkrEXA"
      },
      "execution_count": null,
      "outputs": []
    },
    {
      "cell_type": "code",
      "source": [
        "JOIN_DATA[(JOIN_DATA[\"가구특성\"] == 4) & (JOIN_DATA[\"세대구분\"] == 4)]"
      ],
      "metadata": {
        "id": "pHwvQNoLz1ys"
      },
      "execution_count": null,
      "outputs": []
    },
    {
      "cell_type": "code",
      "source": [
        "JOIN_DATA.groupby([\"가구특성\", \"세대구분\"]).count().iloc[:, 0:1]"
      ],
      "metadata": {
        "id": "e9dyt2AXGqyv"
      },
      "execution_count": null,
      "outputs": []
    },
    {
      "cell_type": "code",
      "source": [
        "# JOIN_DATA.reset_index(drop = True, inplace = True)"
      ],
      "metadata": {
        "id": "MqQV0Jd_7hrq"
      },
      "execution_count": null,
      "outputs": []
    },
    {
      "cell_type": "code",
      "source": [
        "JOIN_DATA[[\"상위주소\", \"나이대\", \"가구특성\", \"세대구분\"]]"
      ],
      "metadata": {
        "id": "ioS9UB1A7YO5"
      },
      "execution_count": null,
      "outputs": []
    },
    {
      "cell_type": "markdown",
      "source": [
        "```\n",
        "MULTI_COL = pd.DataFrame()\n",
        "MULTI_COL = JOIN_DATA #.copy.deepcopy()\n",
        "MULTI_COL.dropna(inplace = True)\n",
        "MULTI_COL.index = MULTI_COL[[\"상위주소\", \"연령대\", \"가구특성\", \"세대구분\"]]\n",
        "# tuple_columns_list =\n",
        "# multi_index_columns = pd.MultiIndex.from_tuples(JOIN_DATA[[\"상위주소\", \"나이대\", \"가구특성\", \"세대구분\"]])\n",
        "\n",
        "MULTI_COL = MULTI_COL.sort_values(by = [\"상위주소\", \"연령대\", \"가구특성\", \"세대구분\"])\n",
        "\n",
        "MULTI_COL.index = pd.MultiIndex.from_tuples(MULTI_COL.index)\n",
        "\n",
        "pd.set_option(\"display.max_row\", None)\n",
        "\n",
        "# 준식별자 동질성 집합(비식별 조치 목적 EDA)\n",
        "MULTI_DATA = MULTI_COL.loc[:, [\"상위주소\", \"가구특성\", \"세대구분\", \"연령대\"]]\n",
        "\n",
        "HOUSE_DATA = JOIN_DATA.groupby([\"상위주소\", \"가구특성\"]).count().iloc[:, 0:1]\n",
        "\n",
        "STATE_COUNT = JOIN_DATA.groupby([\"시도명\", \"연령대\"]).count().iloc[:, 0:1]\n",
        "STATE_COUNT = STATE_COUNT.reset_index()\n",
        "\n",
        "REGION_COUNT = JOIN_DATA.groupby([\"상위주소\", \"연령대\"]).count().iloc[:, 0:1]\n",
        "\n",
        "STATE_SUM = STATE_COUNT.groupby(\"시도명\").sum()\n",
        "STATE_SUM.reset_index(drop = False, inplace = True)\n",
        "\n",
        "STATE_MEAN = pd.merge(\n",
        "    left = STATE_COUNT,\n",
        "    right = STATE_SUM,\n",
        "    on = \"시도명\",\n",
        "    how = \"left\"\n",
        ")\n",
        "\n",
        "STATE_SUM.info()\n",
        "\n",
        "STATE_MEAN[\"시도별_연령대별_평균\"] = np.round(STATE_MEAN[\"행번호_x\"] / STATE_MEAN[\"행번호_y\"], 0)\n",
        "# 행번호_y = 시도별 합계\n",
        "# 행번호_y = 연령대별 합계 (X)\n",
        "# 행번호_x = 시도별 연령대별 집계값\n",
        "\n",
        "```"
      ],
      "metadata": {
        "id": "LCLjyvAUgLXi"
      }
    },
    {
      "cell_type": "markdown",
      "source": [
        "___"
      ],
      "metadata": {
        "id": "LHTNOUzXIEKw"
      }
    },
    {
      "cell_type": "code",
      "source": [
        "len(LOCAL_COUNT_LIST[2][LOCAL_COUNT_LIST[2][\"count\"] <= 10])"
      ],
      "metadata": {
        "id": "M0ES3gTXIyo6"
      },
      "execution_count": null,
      "outputs": []
    },
    {
      "cell_type": "code",
      "source": [
        "LOCAL_COUNT_LIST[2][(LOCAL_COUNT_LIST[2][\"count\"] <= 10) & (LOCAL_COUNT_LIST[2][\"count\"] >= 4)][\"상위주소\"].tolist()"
      ],
      "metadata": {
        "id": "4f_gfbQjKHJK"
      },
      "execution_count": null,
      "outputs": []
    },
    {
      "cell_type": "code",
      "source": [
        "K_ANONYMOUS_LIST = LOCAL_COUNT_LIST[2][(LOCAL_COUNT_LIST[2][\"count\"] <= 10) & (LOCAL_COUNT_LIST[2][\"count\"] >= 4)][\"상위주소\"].tolist()"
      ],
      "metadata": {
        "id": "vDpTTeGKFs0c"
      },
      "execution_count": null,
      "outputs": []
    },
    {
      "cell_type": "code",
      "source": [
        "# for K in K_ANONYMOUS_LIST[::-1]: display(MULTI_DATA[MULTI_DATA[\"상위주소\"] == K])"
      ],
      "metadata": {
        "id": "2aSVXGNmIPyf"
      },
      "execution_count": null,
      "outputs": []
    },
    {
      "cell_type": "code",
      "source": [
        "pd.set_option(\"display.max_row\", 10)"
      ],
      "metadata": {
        "id": "2bqS-VGcIPtZ"
      },
      "execution_count": null,
      "outputs": []
    },
    {
      "cell_type": "markdown",
      "source": [
        "___"
      ],
      "metadata": {
        "id": "QjcP5QOILstj"
      }
    },
    {
      "cell_type": "markdown",
      "source": [
        "## 4.거주지역 시군구에서 시도명으로 k = 10으로 두어 프라이버시 보호 모델 적용(마스킹)"
      ],
      "metadata": {
        "id": "uNLheDTCLuVn"
      }
    },
    {
      "cell_type": "markdown",
      "source": [
        "### 마스킹\n",
        "    \n",
        "    범주형 데이터 처리\n",
        "    데이터 식별성 요소 검토 — i) 자리수 유지 : 식별 요소 有, ii) 자릿수 감추기 : 식별성 떨어트림\n",
        "    \n",
        "    = REPT(반복문자, 반복횟수)\n",
        "    \n",
        "    = LEN(입력문자열)\n",
        "    \n",
        "    = CONCATENATE(연결문자1, …., 연결문자N)\n",
        "    \n",
        "    = sgMAXLEN(데이터범위) : 전체 자리수 중 가장 긴 수, 사용자정의함수\n",
        "    \n",
        "    EX) 표시문자 : LEFT(입력값, 표시할 문자수)\n",
        "    \n",
        "    마스킹 문자 : REPT(”*”, LEN(*DATA*)-표시문자열 수)\n",
        "    \n",
        "    표시문자와 마스킹 문자 합치기 : CONCATENATE()\n",
        "    \n",
        "    모두 동일자리로 처리하기\n",
        "    \n",
        "    - 마스킹 문자 : sgMAXLEN()-LEN(표시문자열)\n",
        "    - 최종 : CONCATENATE(표시문자, 마스킹된 문자)"
      ],
      "metadata": {
        "id": "nGLRZOyQIsV8"
      }
    },
    {
      "cell_type": "code",
      "source": [
        "K_INDEX = JOIN_DATA[\"상위주소\"][JOIN_DATA[\"상위주소\"].isin(K_ANONYMOUS_LIST)].index"
      ],
      "metadata": {
        "id": "Gi6j4pPbLtzJ"
      },
      "execution_count": null,
      "outputs": []
    },
    {
      "cell_type": "code",
      "source": [
        "JOIN_DATA[\"익명처리_상위주소\"] = JOIN_DATA[\"상위주소\"]\n",
        "JOIN_DATA[\"익명처리_상위주소\"] = JOIN_DATA[\"익명처리_상위주소\"].astype(\"str\")\n",
        "JOIN_DATA.iloc[K_INDEX, JOIN_DATA.columns.get_loc(\"익명처리_상위주소\")] = JOIN_DATA.iloc[K_INDEX, JOIN_DATA.columns.get_loc(\"시도명\")]"
      ],
      "metadata": {
        "id": "IxCLJqrtL38h"
      },
      "execution_count": null,
      "outputs": []
    },
    {
      "cell_type": "code",
      "source": [
        "JOIN_DATA.iloc[K_INDEX, JOIN_DATA.columns.get_loc(\"익명처리_상위주소\")]"
      ],
      "metadata": {
        "id": "Y23XLVgSL35I"
      },
      "execution_count": null,
      "outputs": []
    },
    {
      "cell_type": "code",
      "source": [
        "NAN_INDEX = JOIN_DATA[\"상위주소\"][JOIN_DATA[\"상위주소\"].isna()].index"
      ],
      "metadata": {
        "id": "JWkqVfEWRgam"
      },
      "execution_count": null,
      "outputs": []
    },
    {
      "cell_type": "code",
      "source": [
        "JOIN_DATA.iloc[NAN_INDEX, JOIN_DATA.columns.get_loc(\"익명처리_상위주소\")] = JOIN_DATA.iloc[NAN_INDEX, JOIN_DATA.columns.get_loc(\"시도명\")]"
      ],
      "metadata": {
        "id": "0bhQDB3QL33H"
      },
      "execution_count": null,
      "outputs": []
    },
    {
      "cell_type": "code",
      "source": [
        "JOIN_DATA.iloc[NAN_INDEX, JOIN_DATA.columns.get_loc(\"익명처리_상위주소\")]"
      ],
      "metadata": {
        "id": "TViyxnWhL306"
      },
      "execution_count": null,
      "outputs": []
    },
    {
      "cell_type": "markdown",
      "source": [
        "___"
      ],
      "metadata": {
        "id": "Cz7qRJNJSLFg"
      }
    },
    {
      "cell_type": "markdown",
      "source": [
        "## 5.연속형 변수 랜덤라운딩, 수치형 범주화, 상하단코딩을 통한 이상치 처리"
      ],
      "metadata": {
        "id": "lO8MZLyJR_dF"
      }
    },
    {
      "cell_type": "markdown",
      "source": [
        "#### 라운딩\n",
        "    \n",
        "    수치형 데이터 처리, 라운딩 기법별 유용성 검토\n",
        "    \n",
        "    = ROUND(”입력값”, 정수 또는 소수점 구분과 자리수 입력)\n",
        "    \n",
        "    데이터의 자리수가 다양할 때 고정 자리수 적용하면 데이터가 유실될 수 있음 — 숫자의 자릿수와 라운딩 고정자릿수가 같으면 유실\n",
        "    \n",
        "    따라서 자릿수에서 -1 한 값을 고정라운딩 시켜야 함\n",
        "    \n",
        "    = ROUND(”입력값”, -(LEN(”입력값”)-1))\n",
        "    \n",
        "    가명정보는 처리 목적달성 가능성을 봐야하는데, 데이터가 많이 유실되면 목적 달성 불가능"
      ],
      "metadata": {
        "id": "OtmIx8e5Fs_s"
      }
    },
    {
      "cell_type": "code",
      "source": [
        "JOIN_DATA.info()\n",
        "# 생년월일 -> 연령대\n",
        "# 추정거주지, 거주지코드, 시도명, 시군구명, 읍면동명 -> 익명처리_상위주소"
      ],
      "metadata": {
        "colab": {
          "base_uri": "https://localhost:8080/"
        },
        "id": "rb9RA243L3zF",
        "outputId": "fe5a86e6-b545-4988-c61c-818b532747ee"
      },
      "execution_count": null,
      "outputs": [
        {
          "output_type": "stream",
          "name": "stdout",
          "text": [
            "<class 'pandas.core.frame.DataFrame'>\n",
            "Int64Index: 99999 entries, 0 to 99999\n",
            "Data columns (total 49 columns):\n",
            " #   Column        Non-Null Count  Dtype         \n",
            "---  ------        --------------  -----         \n",
            " 0   행번호           99999 non-null  int64         \n",
            " 1   회원 ID         99999 non-null  object        \n",
            " 2   성별            99999 non-null  category      \n",
            " 3   생년월일          99999 non-null  datetime64[ns]\n",
            " 4   가구특성          99999 non-null  category      \n",
            " 5   세대구분          99999 non-null  category      \n",
            " 6   추정거주지         99999 non-null  category      \n",
            " 7   단말기코드         99999 non-null  category      \n",
            " 8   멤버십 사용 횟수     99999 non-null  int64         \n",
            " 9   멤버십 사용 금액     99999 non-null  int64         \n",
            " 10  소액결제 사용 횟수    99999 non-null  int64         \n",
            " 11  소액결제 사용 금액    99999 non-null  int64         \n",
            " 12  쿠팡사용일수        99999 non-null  int64         \n",
            " 13  네이버 쇼핑 사용일수   99999 non-null  int64         \n",
            " 14  11번가 사용일수     99999 non-null  int64         \n",
            " 15  당근마켓 사용일수     99999 non-null  int64         \n",
            " 16  옥션, G마켓 사용일수  99999 non-null  int64         \n",
            " 17  요기요 사용일수      99999 non-null  int64         \n",
            " 18  배달의 민족 사용일수   99999 non-null  int64         \n",
            " 19  쿠팡이츠 사용일수     99999 non-null  int64         \n",
            " 20  패스트패션(지수)     99999 non-null  float64       \n",
            " 21  명품의류(지수)      99999 non-null  float64       \n",
            " 22  신발(지수)        99999 non-null  float64       \n",
            " 23  배달음식(지수)      99999 non-null  float64       \n",
            " 24  넷플릭스(지수)      99999 non-null  float64       \n",
            " 25  영화(지수)        99999 non-null  float64       \n",
            " 26  대형마트(지수)      99999 non-null  float64       \n",
            " 27  오픈마켓(지수)      99999 non-null  float64       \n",
            " 28  홈쇼핑(지수)       99999 non-null  float64       \n",
            " 29  국외직접구매(지수)    99999 non-null  float64       \n",
            " 30  면세점/백화점(지수)   99999 non-null  float64       \n",
            " 31  화장품(지수)       99999 non-null  float64       \n",
            " 32  이미용성형(지수)     99999 non-null  float64       \n",
            " 33  국내여행(지수)      99999 non-null  float64       \n",
            " 34  해외여행(지수)      99999 non-null  float64       \n",
            " 35  공연장방문횟수       99999 non-null  int64         \n",
            " 36  극장 방문 횟수      99999 non-null  int64         \n",
            " 37  자동차 극장 방문횟수   99999 non-null  int64         \n",
            " 38  거주지코드         99999 non-null  category      \n",
            " 39  시도명           99999 non-null  category      \n",
            " 40  시군구명          99951 non-null  category      \n",
            " 41  읍면동명          99999 non-null  category      \n",
            " 42  세부주소          99951 non-null  category      \n",
            " 43  상위주소          99951 non-null  category      \n",
            " 44  나이            99999 non-null  int64         \n",
            " 45  연령대           99999 non-null  object        \n",
            " 46  세부연령대         99999 non-null  object        \n",
            " 47  나이대           99999 non-null  category      \n",
            " 48  익명처리_상위주소     99999 non-null  object        \n",
            "dtypes: category(12), datetime64[ns](1), float64(15), int64(17), object(4)\n",
            "memory usage: 31.1+ MB\n"
          ]
        }
      ]
    },
    {
      "cell_type": "code",
      "source": [
        "plt.boxplot(JOIN_DATA[\"소액결제 사용 금액\"])\n",
        "plt.show()\n",
        "plt.boxplot(JOIN_DATA[\"멤버십 사용 금액\"])\n",
        "plt.show()"
      ],
      "metadata": {
        "id": "vnZ92fadUjCZ"
      },
      "execution_count": null,
      "outputs": []
    },
    {
      "cell_type": "code",
      "source": [
        "JOIN_DATA[[\"소액결제 사용 금액\", \"멤버십 사용 금액\"]].describe()"
      ],
      "metadata": {
        "id": "ET2GaT4nSS_6"
      },
      "execution_count": null,
      "outputs": []
    },
    {
      "cell_type": "code",
      "source": [
        "print(\n",
        "    len(JOIN_DATA[\"소액결제 사용 금액\"][JOIN_DATA[\"소액결제 사용 금액\"] == 0]), len(JOIN_DATA[\"멤버십 사용 금액\"][JOIN_DATA[\"멤버십 사용 금액\"] == 0])\n",
        ")"
      ],
      "metadata": {
        "id": "ztVpN9vJSS8n"
      },
      "execution_count": null,
      "outputs": []
    },
    {
      "cell_type": "markdown",
      "source": [
        "백분위 99%, 6시그마, 1.5IQR"
      ],
      "metadata": {
        "id": "LZ1MHwhOdejG"
      }
    },
    {
      "cell_type": "code",
      "source": [
        "percent = 99.9\n",
        "np.percentile(JOIN_DATA[\"소액결제 사용 금액\"], percent)\n",
        "\n",
        "JOIN_DATA[\"소액결제 사용 금액\"][\n",
        "    JOIN_DATA[\"소액결제 사용 금액\"] >= np.percentile(JOIN_DATA[\"소액결제 사용 금액\"], percent)]\n",
        "np.percentile(JOIN_DATA[\"소액결제 사용 금액\"], percent)\n",
        "  # 2613666\n",
        "  # 2613666.0000002533"
      ],
      "metadata": {
        "id": "thBMY3mxcrm_"
      },
      "execution_count": null,
      "outputs": []
    },
    {
      "cell_type": "code",
      "source": [
        "percent = 99.9\n",
        "np.percentile(JOIN_DATA[\"멤버십 사용 금액\"], percent)\n",
        "\n",
        "JOIN_DATA[\"멤버십 사용 금액\"][\n",
        "    JOIN_DATA[\"멤버십 사용 금액\"] >= np.percentile(JOIN_DATA[\"멤버십 사용 금액\"], percent)]\n",
        "np.percentile(JOIN_DATA[\"멤버십 사용 금액\"], percent)\n",
        "  # 61800.260000001"
      ],
      "metadata": {
        "id": "9ugKQkrcm-3L"
      },
      "execution_count": null,
      "outputs": []
    },
    {
      "cell_type": "code",
      "source": [
        "print(\n",
        "    JOIN_DATA[\"소액결제 사용 금액\"].mean() - 6 * JOIN_DATA[\"소액결제 사용 금액\"].std(),\n",
        "    JOIN_DATA[\"소액결제 사용 금액\"].mean() + 6 * JOIN_DATA[\"소액결제 사용 금액\"].std()\n",
        ") # -1022398.5984903532 1076263.5131394998\n"
      ],
      "metadata": {
        "id": "GvfF-zuBhTsz"
      },
      "execution_count": null,
      "outputs": []
    },
    {
      "cell_type": "code",
      "source": [
        "def outlierDetection(dataframe, dataframe_columns: List):\n",
        "                     # remove_column_list: List):\n",
        "    # for column in remove_column_list:\n",
        "      # dataframe_columns.remove(column)\n",
        "\n",
        "    for column in dataframe_columns:\n",
        "      column_data = dataframe[column]\n",
        "      # 1사분위수, 3사분위수 계산\n",
        "      Q1 = column_data.quantile(0.25)\n",
        "        # TypeError: unsupported operand type(s) for -: 'str' and 'str'\n",
        "      Q3 = column_data.quantile(0.75)\n",
        "      IQR = Q3-Q1\n",
        "      # 이상치 경계값 계산\n",
        "      # lower_bound = Q1 - 1.5*IQR\n",
        "      upper_bound = Q3 + 1.5*IQR\n",
        "      # 이상치를 경계값으로 처리\n",
        "      print(IQR, upper_bound)\n",
        "      dataframe[column] = dataframe[column].apply(lambda x: upper_bound if x >= upper_bound else x)\n",
        "\n",
        "    return dataframe[dataframe_columns]"
      ],
      "metadata": {
        "id": "Rq0AIFyydoaI"
      },
      "execution_count": null,
      "outputs": []
    },
    {
      "cell_type": "code",
      "source": [
        "# outlierDetection(dataframe = JOIN_DATA, dataframe_columns = [\"소액결제 사용 금액\", \"멤버십 사용 금액\"])"
      ],
      "metadata": {
        "id": "SHsdUvcjeUb6"
      },
      "execution_count": null,
      "outputs": []
    },
    {
      "cell_type": "code",
      "source": [
        "def Rounding(num_change):\n",
        "  str_result = \"\"\n",
        "\n",
        "  if num_change >= 10000:\n",
        "    # 1만 이상\n",
        "    str_result += f\" {int(num_change // 10000):,}만\"\n",
        "    num_change = num_change % 10000\n",
        "  elif num_change >= 1000:\n",
        "    # 1천 이상\n",
        "    str_result += f\" {int(num_change // 1000):,}천\"\n",
        "  else:\n",
        "    str_result = \"0\"\n",
        "\n",
        "  str_result = str_result.strip()\n",
        "  # Return a copy of the string with the leading and trailing characters removed\n",
        "  #if len(str_result) >= 1:\n",
        "    # return str_result + \"원\"\n",
        "  #else:\n",
        "  return str_result"
      ],
      "metadata": {
        "id": "aiYhrSz9ZDy5"
      },
      "execution_count": null,
      "outputs": []
    },
    {
      "cell_type": "markdown",
      "source": [
        "```\n",
        "   if num_change >= 10000: # 1만 이상\n",
        "        str_result += f\" {int(num_change // 10000):,}만\"\n",
        "        num_change = num_change % 10000\n",
        "    if num_change >= 1: # 1 이상\n",
        "        str_result += f\" {int(num_change):,}\"\n",
        "        \n",
        "    str_result = str_result.strip() # Return a copy of the string with the leading and trailing characters removed\n",
        "    if len(str_result) >= 1:\n",
        "        return str_sign + str_result + \"원\"\n",
        "    else:\n",
        "        return str_result\n",
        "```"
      ],
      "metadata": {
        "id": "iPn12I15YbfS"
      }
    },
    {
      "cell_type": "code",
      "source": [
        "JOIN_DATA[\"익명처리_소액결제 사용 금액\"] = JOIN_DATA[\"소액결제 사용 금액\"].apply(Rounding)\n",
        "# JOIN_DATA[\"멤버십 사용 금액\"]"
      ],
      "metadata": {
        "id": "Tt-O0ChcYbU_"
      },
      "execution_count": null,
      "outputs": []
    },
    {
      "cell_type": "code",
      "source": [
        "JOIN_DATA[\"익명처리_소액결제 사용 금액\"][JOIN_DATA[\"익명처리_소액결제 사용 금액\"] != \"0\"]"
      ],
      "metadata": {
        "id": "dla5WDbISS38"
      },
      "execution_count": null,
      "outputs": []
    },
    {
      "cell_type": "code",
      "source": [
        "JOIN_DATA[\"익명처리_멤버십 사용 금액\"] = JOIN_DATA[\"멤버십 사용 금액\"].apply(Rounding)"
      ],
      "metadata": {
        "id": "f1UJlNO0nKcB"
      },
      "execution_count": null,
      "outputs": []
    },
    {
      "cell_type": "code",
      "source": [
        "JOIN_DATA[\"익명처리_멤버십 사용 금액\"][JOIN_DATA[\"익명처리_멤버십 사용 금액\"] != \"0\"]"
      ],
      "metadata": {
        "id": "aZeFNep2nKUw"
      },
      "execution_count": null,
      "outputs": []
    },
    {
      "cell_type": "markdown",
      "source": [
        "___"
      ],
      "metadata": {
        "id": "AdXm0OgCnQE2"
      }
    },
    {
      "cell_type": "code",
      "source": [
        "JOIN_DATA.columns"
      ],
      "metadata": {
        "id": "5y7QrhM3mXt0"
      },
      "execution_count": null,
      "outputs": []
    },
    {
      "cell_type": "code",
      "source": [
        "JOIN_DATA.drop(['추정거주지', '거주지코드', '시도명', '시군구명', '읍면동명', '세부주소', '상위주소', '나이', '세부연령대', '나이대'], axis = 1, inplace = True)"
      ],
      "metadata": {
        "id": "PyqDOefMmREx"
      },
      "execution_count": null,
      "outputs": []
    },
    {
      "cell_type": "markdown",
      "source": [
        "## 6.이커머스 등 사용횟수 수치형 데이터의 범주화"
      ],
      "metadata": {
        "id": "yHAaoinSnjOo"
      }
    },
    {
      "cell_type": "markdown",
      "source": [
        "#### 상하단코딩\n",
        "    \n",
        "    수치형 데이터 처리, 백분위 수로 변경\n",
        "    범위의 상,하단의 범위 내의 값을 백분위처리함\n",
        "    \n",
        "    =PERCENTILE.INC(”데이터범위”(*array)*, “백분위 수”*k*)\n",
        "    \n",
        "    - 상단이상치 검색\n",
        "        \n",
        "        = IF(입력 값 > 상단이상치 기준 셀, “상단이상치”, “상단이상치 아님”)"
      ],
      "metadata": {
        "id": "Dyp4FKh2Fq-b"
      }
    },
    {
      "cell_type": "markdown",
      "source": [
        "```\n",
        "JOIN_DATA[\"범주화3_멤버십 사용 횟수\"] = pd.cut(JOIN_DATA['멤버십 사용 횟수'], bins = 3, right = True)\n",
        "JOIN_DATA[\"범주화4_멤버십 사용 횟수\"] = pd.cut(JOIN_DATA['멤버십 사용 횟수'], bins = 4, right = True)\n",
        "JOIN_DATA[\"범주화5_멤버십 사용 횟수\"] = pd.cut(JOIN_DATA['멤버십 사용 횟수'], bins = 5, right = True)\n",
        "\n",
        "Counter(JOIN_DATA[\"범주화3_멤버십 사용 횟수\"])\n",
        "\n",
        "Counter({Interval(-0.033, 11.0, closed='right'): 98063,\n",
        "         Interval(11.0, 22.0, closed='right'): 1627,\n",
        "         Interval(22.0, 33.0, closed='right'): 309})\n",
        "\n",
        "Counter(JOIN_DATA[\"범주화4_멤버십 사용 횟수\"])\n",
        "\n",
        "Counter({Interval(-0.033, 8.25, closed='right'): 95177,\n",
        "         Interval(8.25, 16.5, closed='right'): 4145,\n",
        "         Interval(16.5, 24.75, closed='right'): 413,\n",
        "         Interval(24.75, 33.0, closed='right'): 264})\n",
        "\n",
        "Counter(JOIN_DATA[\"범주화5_멤버십 사용 횟수\"])\n",
        "\n",
        "Counter({Interval(-0.033, 6.6, closed='right'): 91069,\n",
        "         Interval(6.6, 13.2, closed='right'): 7771,\n",
        "         Interval(13.2, 19.8, closed='right'): 756,\n",
        "         Interval(26.4, 33.0, closed='right'): 224,\n",
        "         Interval(19.8, 26.4, closed='right'): 179})\n",
        "```"
      ],
      "metadata": {
        "id": "I9v4wvTEuxdw"
      }
    },
    {
      "cell_type": "code",
      "source": [
        "# JOIN_DATA[\"이상치_범주화3_멤버십 사용 횟수\"] = pd.cut(JOIN_DATA['멤버십 사용 횟수'], bins = 3, right = True)\n",
        "# JOIN_DATA[\"이상치_범주화4_멤버십 사용 횟수\"] = pd.cut(JOIN_DATA['멤버십 사용 횟수'], bins = 4, right = True)\n",
        "# JOIN_DATA[\"이상치_범주화5_멤버십 사용 횟수\"] = pd.cut(JOIN_DATA['멤버십 사용 횟수'], bins = 5, right = True)"
      ],
      "metadata": {
        "id": "BaijG2xouMBd"
      },
      "execution_count": null,
      "outputs": []
    },
    {
      "cell_type": "code",
      "source": [
        "def percentileOutlier(JOIN_DATA: pd.DataFrame, percent: float, COLUMN: str):\n",
        "  np.percentile(JOIN_DATA[COLUMN], percent)\n",
        "\n",
        "  JOIN_DATA[COLUMN][\n",
        "      JOIN_DATA[COLUMN] >= np.percentile(JOIN_DATA[COLUMN], percent)] = np.percentile(JOIN_DATA[COLUMN], percent)\n",
        "  return JOIN_DATA[COLUMN]"
      ],
      "metadata": {
        "id": "t6LVL_8cpE6i"
      },
      "execution_count": null,
      "outputs": []
    },
    {
      "cell_type": "code",
      "source": [
        "for COLUMN in ['멤버십 사용 횟수','소액결제 사용 횟수', '쿠팡사용일수', '네이버 쇼핑 사용일수', '11번가 사용일수', '당근마켓 사용일수', '옥션, G마켓 사용일수', '요기요 사용일수', '배달의 민족 사용일수', '쿠팡이츠 사용일수', '공연장방문횟수', '극장 방문 횟수', '자동차 극장 방문횟수']:\n",
        "  JOIN_DATA[COLUMN] = percentileOutlier(JOIN_DATA = JOIN_DATA, percent = 99.9, COLUMN = COLUMN)"
      ],
      "metadata": {
        "id": "uRRDvMFopkaZ"
      },
      "execution_count": null,
      "outputs": []
    },
    {
      "cell_type": "code",
      "source": [
        "JOIN_DATA[['멤버십 사용 횟수','소액결제 사용 횟수', '쿠팡사용일수', '네이버 쇼핑 사용일수', '11번가 사용일수', '당근마켓 사용일수', '옥션, G마켓 사용일수', '요기요 사용일수', '배달의 민족 사용일수', '쿠팡이츠 사용일수', '공연장방문횟수', '극장 방문 횟수', '자동차 극장 방문횟수']].describe()"
      ],
      "metadata": {
        "id": "qCAztsgVna1c"
      },
      "execution_count": null,
      "outputs": []
    },
    {
      "cell_type": "code",
      "source": [
        "for COLUMN in ['멤버십 사용 횟수','소액결제 사용 횟수', '쿠팡사용일수', '네이버 쇼핑 사용일수', '11번가 사용일수', '당근마켓 사용일수', '옥션, G마켓 사용일수', '요기요 사용일수', '배달의 민족 사용일수', '쿠팡이츠 사용일수', '공연장방문횟수', '극장 방문 횟수', '자동차 극장 방문횟수']:\n",
        "  JOIN_DATA[COLUMN] = pd.cut(JOIN_DATA[COLUMN], bins = 5, right = True)"
      ],
      "metadata": {
        "id": "rb1v_4-1tdlG"
      },
      "execution_count": null,
      "outputs": []
    },
    {
      "cell_type": "code",
      "source": [
        "class NumericPreprocessing():\n",
        "  def __init__(self, DATA_LIST: List, MAIN_DATA: pd.DataFrame):\n",
        "    self.DATA_LIST = DATA_LIST\n",
        "    self.MAIN_DATA = MAIN_DATA\n",
        "\n",
        "\n",
        "\n",
        "# 상하단 코딩\n",
        "  # 데이터 배열 또는 범위에서 k값에 해당하는 백분위수를 나타내는 숫자 : 백분위수 값(k-익명성)\n",
        "  def percentileOutlierSearch(self, percent, select_columns, outlierTF_colname,\n",
        "                 lower_limit, upper_limit):\n",
        "    # [1] 경계값 설정 1 ~ 10%\n",
        "    print( self.MAIN_DATA[select_columns].loc[:, self.MAIN_DATA[select_columns] <= lower_limit] )\n",
        "    print( self.MAIN_DATA[select_columns].loc[:, self.MAIN_DATA[select_columns] >= upper_limit] )\n",
        "\n",
        "    # [2] 상단 이상치 검색하여 새로운 컬럼 생성\n",
        "    # [3] 하단 이상치 검색하여 새로운 컬럼 생성\n",
        "    outlier_index = self.MAIN_DATA[select_columns].loc[\n",
        "        :, (self.MAIN_DATA[select_columns] <= lower_limit) or (self.MAIN_DATA[select_columns] >= upper_limit)].index.tolist()\n",
        "\n",
        "    # [4] 상하단 이상치 검색\n",
        "    self.MAIN_DATA[outlierTF_colname] = 0\n",
        "    self.MAIN_DATA.iloc[outlier_index, self.MAIN_DATA.columns.get_loc(outlierTF_colname)]\n",
        "    return self.MAIN_DATA\n",
        "\n",
        "    # [1~4] 단, 상하단 이상치를 나누어 검색할 수 없다는 한계 有\n",
        "    # threshold = np.percentile(self.MAIN_DATA[select_columns], percent)\n",
        "    # self.MAIN_DATA[outlierTF_colname] =  self.MAIN_DATA[select_columns].apply(\n",
        "       # lambda data: \"SAFE\" if (data <= threshold) or (data >= threshold) else \"OUTLIER\")\n",
        "\n",
        "  # def percentileOutlierDrop()\n",
        "    # [5] 이상치 대상 삭제 처리\n",
        "\n",
        "\n",
        "\n",
        "# 차분 프라이버시\n",
        "  def timeSeriesDifferencing(self, select_columns):\n",
        "    y_differencing = self.MAIN_DATA[select_columns].diff()\n",
        "    y_differencing.fillna(method = \"ffill\", inplace = True)\n",
        "    y_differencing.fillna(method = \"bfill\", inplace = True)\n",
        "    y_differencing.columns = [\"y_difference\"]\n",
        "      # if \"y_difference\" not in dataframe.columns: dataframe = pd.concat([dataframe, Y_differencing], axis = 1)\n",
        "    return y_differencing\n",
        "\n",
        "  def timeSeriesFinalData(self):\n",
        "    differencing_method_return = pd.DataFrame()\n",
        "    self.MAIN_DATA.info()\n",
        "    for col_name in self.MAIN_DATA.columns:\n",
        "      differencing_method_return[col_name] = self.timeSeriesDifferencing(select_columns = col_name)\n",
        "    return differencing_method_return\n",
        "\n",
        "\n",
        "# 최댓값, 최빈값, 중간값, 평균값, 최솟값\n",
        "# 라운드 : 지정 실수 자릿수로 올림 또는 내림\n",
        "  # 문제는 숫자의 자릿수와 라운딩 자릿수의 유실되는 문제 발생(0)\n",
        "  # 대안은 랜덤 라운딩\n",
        "\n",
        "\n",
        "# 수치형을 범주형으로 변환하는 범주화\n",
        "  # 몫 : 지정된 숫자를 나누어 몫 구하기\n",
        "  # 샘플링 : 지정된 범위에서 임의의 값을 생성"
      ],
      "metadata": {
        "id": "frjAsbr6E5pT"
      },
      "execution_count": null,
      "outputs": []
    },
    {
      "cell_type": "markdown",
      "source": [
        "#### 범주화\n",
        "    \n",
        "    제시된 샘플데이터를 대상으로 기준단위로 나누고, 최대/최소 중 어디에 포함되는 지를 파악, 수치형을 범주형으로 변환\n",
        "    \n",
        "    기호의 의미 이해 — [ ] : 이상, 이하 / ( ) : 초과, 미만\n",
        "    \n",
        "    범위시작(몫), 범위 끝(몫+1) → **범주 데이터 : [ )**\n",
        "    \n",
        "    - 범위 끝 : = QUOTIENT(입력값, 기준단위)+1\n",
        "    - 범주데이터 : = CONCATENATE(”[”,QUOTIENT(입력값, 기준단위)*기준단위,”,”,(QUOTIENT(입력값, 기준단위)+1)*기준단위,”)”)"
      ],
      "metadata": {
        "id": "OYtSI5OdFyxy"
      }
    },
    {
      "cell_type": "markdown",
      "source": [
        "#### 코드화\n",
        "    \n",
        "    [종교], [수능등급]등 범주형 데이터를 다중코드로 처리할 때\n",
        "    \n",
        "    [성별] : 여자가 현격히 적거나 남자가 현격히 적으면 특정될 수 있으니까 다중코드로 처리\n",
        "    \n",
        "    = INDEX(데이터범위, 범위내 선택할 열)\n",
        "    \n",
        "    = RANDBETWEEN(난수 최소값, 난수 최대값) - 난수의 범위 설정\n",
        "    \n",
        "    = IF(입력값 = “남”, INDEX(데이터범위, RANDBETWEEN(난수 최소값, 난수 최대값)), INDEX(데이터범위, RANDBETWEEN(난수 최소값, 난수 최대값)))"
      ],
      "metadata": {
        "id": "3Qs6EnHOF1pb"
      }
    },
    {
      "cell_type": "code",
      "source": [
        "\"\"\"\n",
        "def outlierDetection(dataframe, dataframe_columns: List):\n",
        "                     # remove_column_list: List):\n",
        "    # for column in remove_column_list:\n",
        "      # dataframe_columns.remove(column)\n",
        "\n",
        "    for column in dataframe_columns:\n",
        "      column_data = dataframe[column]\n",
        "      three_sigma = column_data.mean() + 3 * column_data.std()\n",
        "      # Q3 = column_data.quantile(0.75)\n",
        "      # IQR = Q3-Q1\n",
        "      # 이상치 경계값 계산\n",
        "      # 이상치를 경계값으로 처리\n",
        "      print(three_sigma)\n",
        "      dataframe[column] = dataframe[column].apply(lambda x: three_sigma if x >= three_sigma else x)\n",
        "\n",
        "    return dataframe[dataframe_columns]\n",
        "\"\"\""
      ],
      "metadata": {
        "colab": {
          "base_uri": "https://localhost:8080/",
          "height": 72
        },
        "id": "A8zDOon2w7G9",
        "outputId": "610542fc-092d-44ae-e583-bef01c470398"
      },
      "execution_count": null,
      "outputs": [
        {
          "output_type": "execute_result",
          "data": {
            "text/plain": [
              "'\\ndef outlierDetection(dataframe, dataframe_columns: List):\\n                     # remove_column_list: List):\\n    # for column in remove_column_list:\\n      # dataframe_columns.remove(column)\\n\\n    for column in dataframe_columns:\\n      column_data = dataframe[column]\\n      three_sigma = column_data.mean() + 3 * column_data.std()\\n      # Q3 = column_data.quantile(0.75)\\n      # IQR = Q3-Q1\\n      # 이상치 경계값 계산\\n      # 이상치를 경계값으로 처리\\n      print(three_sigma)\\n      dataframe[column] = dataframe[column].apply(lambda x: three_sigma if x >= three_sigma else x)\\n    \\n    return dataframe[dataframe_columns]\\n'"
            ],
            "application/vnd.google.colaboratory.intrinsic+json": {
              "type": "string"
            }
          },
          "metadata": {},
          "execution_count": 61
        }
      ]
    },
    {
      "cell_type": "code",
      "source": [
        "# JOIN_DATA[['패스트패션(지수)', '명품의류(지수)', '신발(지수)', '배달음식(지수)', '넷플릭스(지수)', '영화(지수)', '대형마트(지수)', '오픈마켓(지수)', '홈쇼핑(지수)', '국외직접구매(지수)', '면세점/백화점(지수)', '화장품(지수)', '이미용성형(지수)', '국내여행(지수)', '해외여행(지수)']] = outlierDetection(\n",
        "#    dataframe = JOIN_DATA, dataframe_columns = ['패스트패션(지수)', '명품의류(지수)', '신발(지수)', '배달음식(지수)', '넷플릭스(지수)', '영화(지수)', '대형마트(지수)', '오픈마켓(지수)', '홈쇼핑(지수)', '국외직접구매(지수)', '면세점/백화점(지수)', '화장품(지수)', '이미용성형(지수)', '국내여행(지수)', '해외여행(지수)'])"
      ],
      "metadata": {
        "id": "tdfxIeieGR5e"
      },
      "execution_count": null,
      "outputs": []
    },
    {
      "cell_type": "code",
      "source": [
        "for COLUMN in ['패스트패션(지수)', '명품의류(지수)', '신발(지수)', '배달음식(지수)', '넷플릭스(지수)', '영화(지수)', '대형마트(지수)', '오픈마켓(지수)', '홈쇼핑(지수)', '국외직접구매(지수)', '면세점/백화점(지수)', '화장품(지수)', '이미용성형(지수)', '국내여행(지수)', '해외여행(지수)']:\n",
        "  JOIN_DATA[COLUMN] = pd.cut(JOIN_DATA[COLUMN], bins = 3, right = True)"
      ],
      "metadata": {
        "id": "hPBaoCHQxzjW"
      },
      "execution_count": null,
      "outputs": []
    },
    {
      "cell_type": "code",
      "source": [
        "JOIN_DATA[['패스트패션(지수)', '명품의류(지수)', '신발(지수)', '배달음식(지수)', '넷플릭스(지수)', '영화(지수)', '대형마트(지수)', '오픈마켓(지수)', '홈쇼핑(지수)', '국외직접구매(지수)', '면세점/백화점(지수)', '화장품(지수)', '이미용성형(지수)', '국내여행(지수)', '해외여행(지수)']].describe()"
      ],
      "metadata": {
        "id": "cBpEJzPmwTeQ"
      },
      "execution_count": null,
      "outputs": []
    },
    {
      "cell_type": "code",
      "source": [
        "MAIN_DATA.describe()"
      ],
      "metadata": {
        "id": "SvR5Ma1pwm2Y"
      },
      "execution_count": null,
      "outputs": []
    },
    {
      "cell_type": "code",
      "source": [
        "# SKT_INDEX_DATA"
      ],
      "metadata": {
        "id": "Aw6V7ST7w0p8"
      },
      "execution_count": null,
      "outputs": []
    },
    {
      "cell_type": "code",
      "source": [
        "JOIN_DATA.info()"
      ],
      "metadata": {
        "id": "SiFyIdwUGS9g"
      },
      "execution_count": null,
      "outputs": []
    },
    {
      "cell_type": "code",
      "source": [
        "JOIN_DATA[JOIN_DATA[\"익명처리_상위주소\"] == \"제주특별자치도 서귀포시\"]"
      ],
      "metadata": {
        "id": "Vggcu967zMBq"
      },
      "execution_count": null,
      "outputs": []
    },
    {
      "cell_type": "code",
      "source": [
        "\"SKT_INDEX_DATA"
      ],
      "metadata": {
        "id": "a0JXMk6HzFO7"
      },
      "execution_count": null,
      "outputs": []
    },
    {
      "cell_type": "code",
      "source": [
        "JOIN_DATA[\"행번호\"]"
      ],
      "metadata": {
        "id": "W0QtlK3Kz5He"
      },
      "execution_count": null,
      "outputs": []
    },
    {
      "cell_type": "code",
      "source": [
        "DATA = pd.DataFrame(JOIN_DATA[JOIN_DATA[\"행번호\"] == 93228])"
      ],
      "metadata": {
        "id": "-EXAmt860Hvr"
      },
      "execution_count": null,
      "outputs": []
    },
    {
      "cell_type": "code",
      "source": [
        "FINAL_DATA = pd.concat([JOIN_DATA, DATA])"
      ],
      "metadata": {
        "id": "OV7CR4goves8"
      },
      "execution_count": null,
      "outputs": []
    },
    {
      "cell_type": "code",
      "source": [
        "FINAL_DATA.iloc[100000, 0] = 28519\n",
        "FINAL_DATA.iloc[100000, 1] = \"D15163615\""
      ],
      "metadata": {
        "id": "wJRRvZxS0QZa"
      },
      "execution_count": null,
      "outputs": []
    },
    {
      "cell_type": "code",
      "source": [
        "# FINAL_DATA.drop(\"생년월일\", axis = 1, inplace = True)\n",
        "FINAL_DATA.drop([0, 1], axis = 1, inplace = True)"
      ],
      "metadata": {
        "id": "QFg1Kx2m0wQ2"
      },
      "execution_count": null,
      "outputs": []
    },
    {
      "cell_type": "code",
      "source": [
        "FINAL_DATA"
      ],
      "metadata": {
        "id": "5DB0p1qj15yS"
      },
      "execution_count": null,
      "outputs": []
    },
    {
      "cell_type": "code",
      "source": [
        "FINAL_DATA.to_csv(\"/content/drive/MyDrive/2023 가명익명처리 해커톤/JOIN_DATA.csv\", index = False)"
      ],
      "metadata": {
        "id": "Nd6xLi2JGfUt"
      },
      "execution_count": null,
      "outputs": []
    }
  ]
}
