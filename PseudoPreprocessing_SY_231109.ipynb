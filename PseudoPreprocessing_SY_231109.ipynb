{
  "nbformat": 4,
  "nbformat_minor": 0,
  "metadata": {
    "colab": {
      "provenance": [],
      "collapsed_sections": [
        "-M5q7yQsteEQ"
      ],
      "authorship_tag": "ABX9TyPmra7Z4aM/UBsB960wtT5m",
      "include_colab_link": true
    },
    "kernelspec": {
      "name": "python3",
      "display_name": "Python 3"
    },
    "language_info": {
      "name": "python"
    }
  },
  "cells": [
    {
      "cell_type": "markdown",
      "metadata": {
        "id": "view-in-github",
        "colab_type": "text"
      },
      "source": [
        "<a href=\"https://colab.research.google.com/github/ksydata/PseudonymizeData/blob/main/PseudoPreprocessing_SY_231109.ipynb\" target=\"_parent\"><img src=\"https://colab.research.google.com/assets/colab-badge.svg\" alt=\"Open In Colab\"/></a>"
      ]
    },
    {
      "cell_type": "markdown",
      "source": [
        "#### 필요한 라이브러리, 모듈 로드"
      ],
      "metadata": {
        "id": "-M5q7yQsteEQ"
      }
    },
    {
      "cell_type": "code",
      "execution_count": null,
      "metadata": {
        "colab": {
          "base_uri": "https://localhost:8080/"
        },
        "id": "hY4gccN6hMbN",
        "outputId": "f0393def-e56c-4a8a-a9c0-f25591e8e3dc"
      },
      "outputs": [
        {
          "output_type": "stream",
          "name": "stdout",
          "text": [
            "Mounted at /content/drive\n"
          ]
        }
      ],
      "source": [
        "#  데이터 처리 모듈\n",
        "import pandas as pd\n",
        "from sklearn.impute import KNNImputer\n",
        "# !pip install miceforest\n",
        "# import miceforest as mf\n",
        "\n",
        "# 행렬 등 통계 연산 모듈\n",
        "import numpy as np\n",
        "# 지수형 표기법 e를 연속형 변환\n",
        "pd.options.display.float_format = '{:.4f}'.format\n",
        "# 타입 어노테이션(Any, Sequencsss의 메서드 활용)\n",
        "from typing import *\n",
        "import os\n",
        "\n",
        "# 구글 드라이브 마운트\n",
        "from google.colab import drive\n",
        "drive.mount(\"/content/drive\")\n",
        "import os\n",
        "\n",
        "# 조합 찾는 반복문 메서드\n",
        "from itertools import permutations\n",
        "from itertools import combinations\n",
        "\n",
        "# 추상 클래스와 추상 메서드, 데코레이터 활용 모듈\n",
        "from abc import ABC, abstractmethod"
      ]
    },
    {
      "cell_type": "markdown",
      "source": [
        "#### 데이터 로드"
      ],
      "metadata": {
        "id": "XSBc-hBQto4s"
      }
    },
    {
      "cell_type": "code",
      "source": [
        "class GoogleDriveDataLoad:\n",
        "  def __init__(self):\n",
        "    self.file_path = None\n",
        "    self.file_name = None\n",
        "\n",
        "  def loadData(# self,\n",
        "               file_path: str, file_name: str, encoder: str, id: int) -> pd.DataFrame:\n",
        "    return pd.read_csv(\n",
        "        os.path.join(file_path, file_name), encoding = encoder, index_col = id)"
      ],
      "metadata": {
        "id": "g4nv7BdhhzBb"
      },
      "execution_count": null,
      "outputs": []
    },
    {
      "cell_type": "code",
      "source": [
        "load = GoogleDriveDataLoad"
      ],
      "metadata": {
        "id": "wtGexsH_i6AS"
      },
      "execution_count": null,
      "outputs": []
    },
    {
      "cell_type": "code",
      "source": [
        "DATA_LIST: Dict = {}\n",
        "FILE_LIST = os.listdir(\"/content/drive/MyDrive/DataArchive/data_sample/\")"
      ],
      "metadata": {
        "id": "2P-gvP53uG5g"
      },
      "execution_count": null,
      "outputs": []
    },
    {
      "cell_type": "code",
      "source": [
        "for index, file in zip(list(range(0, 7, 1)), FILE_LIST):\n",
        "  data = load.loadData(\n",
        "      file_path = \"/content/drive/MyDrive/DataArchive/data_sample/\",\n",
        "      file_name = file,\n",
        "      encoder = \"utf-8\",\n",
        "      id = 0)\n",
        "  DATA_LIST[file] = data"
      ],
      "metadata": {
        "id": "-8r1WbnZlHtQ"
      },
      "execution_count": null,
      "outputs": []
    },
    {
      "cell_type": "code",
      "source": [
        "for index in range(0, 7, 1):\n",
        "  print(FILE_LIST[index])\n",
        "  DATA_LIST[FILE_LIST[index]].info()"
      ],
      "metadata": {
        "id": "zvs9Bw0Vp_vL",
        "colab": {
          "base_uri": "https://localhost:8080/"
        },
        "outputId": "95fed138-5da7-4114-be30-1b9067f6506a"
      },
      "execution_count": null,
      "outputs": [
        {
          "output_type": "stream",
          "name": "stdout",
          "text": [
            "실무자_통신1_v2.csv\n",
            "<class 'pandas.core.frame.DataFrame'>\n",
            "Int64Index: 100000 entries, 0 to 99999\n",
            "Data columns (total 17 columns):\n",
            " #   Column   Non-Null Count   Dtype \n",
            "---  ------   --------------   ----- \n",
            " 0   나이       100000 non-null  int64 \n",
            " 1   이름       100000 non-null  object\n",
            " 2   성별       100000 non-null  object\n",
            " 3   우편번호     100000 non-null  int64 \n",
            " 4   상세주소     100000 non-null  object\n",
            " 5   핸드폰번호    100000 non-null  object\n",
            " 6   업종명      100000 non-null  object\n",
            " 7   가입상품     100000 non-null  object\n",
            " 8   요금       100000 non-null  int64 \n",
            " 9   가입일      100000 non-null  int64 \n",
            " 10  회원유형     100000 non-null  object\n",
            " 11  블랙리스트여부  100000 non-null  object\n",
            " 12  연체횟수     100000 non-null  int64 \n",
            " 13  멤버쉽등급    100000 non-null  object\n",
            " 14  콘텐츠구매여부  100000 non-null  object\n",
            " 15  구매금액     100000 non-null  int64 \n",
            " 16  부가서비스    100000 non-null  object\n",
            "dtypes: int64(6), object(11)\n",
            "memory usage: 13.7+ MB\n",
            "실무자_외부결합2_교통카드정보_v1.csv\n",
            "<class 'pandas.core.frame.DataFrame'>\n",
            "Int64Index: 95000 entries, 1 to 95000\n",
            "Data columns (total 11 columns):\n",
            " #   Column             Non-Null Count  Dtype \n",
            "---  ------             --------------  ----- \n",
            " 0   이름                 95000 non-null  object\n",
            " 1   나이                 95000 non-null  int64 \n",
            " 2   성별                 95000 non-null  object\n",
            " 3   핸드폰번호              95000 non-null  object\n",
            " 4   평일한달평균대중교통이용횟수(회)  95000 non-null  int64 \n",
            " 5   평일한달평균대중교통비용(원)    95000 non-null  int64 \n",
            " 6   평일한달평균환승횟수(회)      95000 non-null  int64 \n",
            " 7   평일한달평균환승이동시간(분)    95000 non-null  int64 \n",
            " 8   평일한달평균환승대기시간(분)    95000 non-null  int64 \n",
            " 9   평일환승최대사용지역         95000 non-null  object\n",
            " 10  평일환승최소사용지역         95000 non-null  object\n",
            "dtypes: int64(6), object(5)\n",
            "memory usage: 8.7+ MB\n",
            "실무자_외부결합2_A대학교_v1.csv\n",
            "<class 'pandas.core.frame.DataFrame'>\n",
            "Int64Index: 95000 entries, 1 to 95000\n",
            "Data columns (total 7 columns):\n",
            " #   Column  Non-Null Count  Dtype \n",
            "---  ------  --------------  ----- \n",
            " 0   이름      95000 non-null  object\n",
            " 1   나이      95000 non-null  int64 \n",
            " 2   성별      95000 non-null  object\n",
            " 3   핸드폰번호   95000 non-null  object\n",
            " 4   집우편번호   95000 non-null  int64 \n",
            " 5   집상세주소   95000 non-null  object\n",
            " 6   구성원구분   95000 non-null  object\n",
            "dtypes: int64(2), object(5)\n",
            "memory usage: 5.8+ MB\n",
            "실무자_외부결합1_숙박어플_v1.csv\n",
            "<class 'pandas.core.frame.DataFrame'>\n",
            "Int64Index: 95000 entries, 1 to 95000\n",
            "Data columns (total 8 columns):\n",
            " #   Column    Non-Null Count  Dtype \n",
            "---  ------    --------------  ----- \n",
            " 0   이름        95000 non-null  object\n",
            " 1   생년월일      95000 non-null  object\n",
            " 2   성별        95000 non-null  object\n",
            " 3   이메일주소     95000 non-null  object\n",
            " 4   핸드폰번호     95000 non-null  object\n",
            " 5   비지니스회원여부  95000 non-null  object\n",
            " 6   서비스이용지역   95000 non-null  object\n",
            " 7   서비스이용일    95000 non-null  object\n",
            "dtypes: object(8)\n",
            "memory usage: 6.5+ MB\n",
            "실무자_외부결합1_카드결제_v1.csv\n",
            "<class 'pandas.core.frame.DataFrame'>\n",
            "Int64Index: 95000 entries, 1 to 95000\n",
            "Data columns (total 9 columns):\n",
            " #   Column   Non-Null Count  Dtype \n",
            "---  ------   --------------  ----- \n",
            " 0   이름       95000 non-null  object\n",
            " 1   성별       95000 non-null  object\n",
            " 2   핸드폰번호    95000 non-null  object\n",
            " 3   생년월일     95000 non-null  object\n",
            " 4   결제일      95000 non-null  object\n",
            " 5   결제금액     95000 non-null  int64 \n",
            " 6   가맹점주소    95000 non-null  object\n",
            " 7   가맹점업종코드  95000 non-null  object\n",
            " 8   가맹점업종명   95000 non-null  object\n",
            "dtypes: int64(1), object(8)\n",
            "memory usage: 7.2+ MB\n",
            "모의데이터_금융.csv\n",
            "<class 'pandas.core.frame.DataFrame'>\n",
            "Int64Index: 95000 entries, 0 to 94999\n",
            "Data columns (total 19 columns):\n",
            " #   Column        Non-Null Count  Dtype \n",
            "---  ------        --------------  ----- \n",
            " 0   이름            95000 non-null  object\n",
            " 1   성별            95000 non-null  object\n",
            " 2   나이            95000 non-null  int64 \n",
            " 3   핸드폰번호         95000 non-null  object\n",
            " 4   우편번호          95000 non-null  int64 \n",
            " 5   집주소           95000 non-null  object\n",
            " 6   주거유형          95000 non-null  object\n",
            " 7   소득분위          95000 non-null  int64 \n",
            " 8   신용평가모델점수      95000 non-null  int64 \n",
            " 9   상환위험지수        95000 non-null  int64 \n",
            " 10  신용카드월사용금액     95000 non-null  int64 \n",
            " 11  신용카드월현금서비스금액  95000 non-null  int64 \n",
            " 12  신용카드발급수       95000 non-null  int64 \n",
            " 13  해지카드수         95000 non-null  int64 \n",
            " 14  대출여부          95000 non-null  object\n",
            " 15  대출총금액         95000 non-null  int64 \n",
            " 16  미상환대출금액       95000 non-null  int64 \n",
            " 17  연금수급여부        95000 non-null  object\n",
            " 18  연금수급액(월)      95000 non-null  int64 \n",
            "dtypes: int64(12), object(7)\n",
            "memory usage: 14.5+ MB\n",
            "모의데이터_유통.csv\n",
            "<class 'pandas.core.frame.DataFrame'>\n",
            "Int64Index: 85000 entries, 0 to 84999\n",
            "Data columns (total 15 columns):\n",
            " #   Column         Non-Null Count  Dtype \n",
            "---  ------         --------------  ----- \n",
            " 0   이름             85000 non-null  object\n",
            " 1   성별             85000 non-null  object\n",
            " 2   나이             85000 non-null  int64 \n",
            " 3   가입일            85000 non-null  int64 \n",
            " 4   핸드폰번호          85000 non-null  object\n",
            " 5   우편번호           85000 non-null  int64 \n",
            " 6   배송주소           85000 non-null  object\n",
            " 7   특정상품군구매건수(도서)  85000 non-null  int64 \n",
            " 8   특정상품군구매금액(도서)  85000 non-null  int64 \n",
            " 9   특정상품군구매건수(문화)  85000 non-null  int64 \n",
            " 10  특정상품군구매금액(문화)  85000 non-null  int64 \n",
            " 11  특정상품군구매건수(교육)  85000 non-null  int64 \n",
            " 12  특정상품군구매금액(교육)  85000 non-null  int64 \n",
            " 13  멤버쉽이용금액        85000 non-null  int64 \n",
            " 14  상품권이용금액        85000 non-null  int64 \n",
            "dtypes: int64(11), object(4)\n",
            "memory usage: 10.4+ MB\n"
          ]
        }
      ]
    },
    {
      "cell_type": "markdown",
      "source": [
        "### 1.가명처리 및 프라이버시 보호 모델"
      ],
      "metadata": {
        "id": "jhJmAoI-qyTw"
      }
    },
    {
      "cell_type": "markdown",
      "source": [
        "#### 1.1. 개인정보의 삭제 기술\n",
        "* 삭제(suppression)\n",
        "* 부분삭제(Partial suppression)\n",
        "* 행 항목 삭제(Record suppression)\n",
        "* 로컬 삭제(local suppression)\n",
        "* 마스킹(masking)\n",
        "\n",
        "\n",
        "\n",
        "\n",
        "\n"
      ],
      "metadata": {
        "id": "EJQ-B7MNskmF"
      }
    },
    {
      "cell_type": "markdown",
      "source": [
        "#### 1.2. 개인정보 일부 또는 전부 대체\n",
        "* 총계처리(aggregation), 부분총계(micro aggregation)\n",
        "* 일반화(범주화) 기술\n",
        "  \n",
        " : 일반 라운딩(rounding)\n",
        "\n",
        " : 랜덤 라운딩(random rounding)\n",
        "\n",
        " : 제어 라운딩(controlled rounding)\n",
        "\n",
        " : 상하단코딩(top and bottom coding)\n",
        "\n",
        " : 로컬 일반화(local generalization)\n",
        "\n",
        " : 범위 방법(data range)\n",
        "\n",
        " : 문자 데이터 범주화(categorization of character data)"
      ],
      "metadata": {
        "id": "tWKlgzkyskb8"
      }
    },
    {
      "cell_type": "markdown",
      "source": [
        "#### 1.2. 개인정보 일부 또는 전부 대체\n",
        "* 암호화\n",
        "\n",
        "  : 양방향 암호화(two-way encryption)\n",
        "\n",
        "  : 일방향 암호화, 암호학적 해시함수(one-way encryption, cryptographic hash function)\n",
        "\n",
        "  : 순서보존 암호화(order-preserving encryption)\n",
        "\n",
        "  : 형태보존 암호화(formatformat-preserving encryption)\n",
        "\n",
        "  : 동형 암호화(homorphic encryption)\n",
        "\n",
        "  : 다형성 암호화(polymorphic encryption)"
      ],
      "metadata": {
        "id": "qH_zn4FivT6r"
      }
    },
    {
      "cell_type": "markdown",
      "source": [
        "#### 1.3. 무작위 기술"
      ],
      "metadata": {
        "id": "Of6kF7MEw4wO"
      }
    },
    {
      "cell_type": "markdown",
      "source": [
        "* 활용 통신 데이터 요구수준표 및 항목별 가명처리 계획서\n",
        "\n",
        "| 연번 | 변수명 | 변수 설명 | 처리 방법 1 | 처리 수준 1 | 처리 방법 2 | 처리 수준 2 |\n",
        "| --- | --- | --- | --- | --- | --- | --- |\n",
        "| 0 | 일련번호 | 데이터 구별을 위한 순번 |  |  |  |  |\n",
        "| 1 | 나이 | 20세 ~ 80세, 상세 나이 | 상하단 코딩 | 0.01 |  |  |\n",
        "| 2 | 이름 | 이름 | 삭제 |  |  |  |\n",
        "| 3 | 성별 | male / female | 원본유지 |  |  |  |\n",
        "| 4 | 우편번호 | 5자릿수 우편번호 | 삭제 |  |  |  |\n",
        "| 5 | 상세주소 | 상세주소 | 범주화 | 읍면동 |  |  |\n",
        "| 6 | 휴대폰 번호 | 핸드폰 번호 | 삭제 |  |  |  |\n",
        "| 7 | 직업 | 표준산업분류 대분류 이름 | 원본유지 |  |  |  |\n",
        "| 8 | 가입상품 | SKT 인터넷 상품 | 원본유지 |  |  |  |\n",
        "| 9 | 요금 | SKT 인터넷 상품요금 | 상하단 코딩 | 0.01 |  |  |\n",
        "| 10 | 가입일 | 2018 ~ 2021년, 5년 동안 가입한 고객 | 범주화 | 연월 |  |  |\n",
        "| 11 | 회원유형 | 홀, 모바일, 개인사업자, 법인으로 구분 | 원본유지 |  |  |  |\n",
        "| 12 | 블랙리스트 유형 | 악성 클레임 고객 여부 | 삭제 |  |  |  |\n",
        "| 13 | 연체 횟수 | 5년간 요금 연체 횟수 | 상하단 코딩 | 0.01 |  |  |\n",
        "| 14 | 멤버십 등급 | VVIP, VIP, GOLD, SILVER, WHITE, 일반으로 구분 | 원본유지 |  |  |  |\n",
        "| 15 | 콘텐츠 구매 여부 | 인터넷 콘텐츠 구매 여부 | 원본유지 |  |  |  |\n",
        "| 16 | 구매금액 | 인터넷 콘텐츠 구매 고객의 총 구매금액 | 라운딩 | 3 | 상하단 코딩 | 0.01 |\n",
        "| 17 | 부가 서비스 | 악성코드 차단, 가디언, 세이퍼플러스, 원스톱, 미가입으로 구분 | 원본유지 |  |  |  |"
      ],
      "metadata": {
        "id": "qLYgwIBwJLwL"
      }
    },
    {
      "cell_type": "code",
      "source": [
        "class Pseudonymizer(ABC):\n",
        "  \"\"\"가명처리 추상 클래스 및 추상 메서드 선언\n",
        "\n",
        "  클래스 변수\n",
        "  -----------\n",
        "  클래스 변수는 당장 필요하지 않다.\n",
        "  다만 모든 객체가 같은 값(예: 상하단코딩 경계값의 기준, 라운딩 수준)을\n",
        "  가지도록 할당할 경우 생성한다.\n",
        "  \"\"\"\n",
        "  @abstractmethod\n",
        "  def pseudonymizeData(self, value):\n",
        "    \"\"\"확장성을 갖춘 가명처리 클래스를 만들어 특정 가명처리 기법으로 구체화하기 위한 추상 메서드\"\"\"\n",
        "    pass"
      ],
      "metadata": {
        "id": "yWDvmLJsJ_YY"
      },
      "execution_count": null,
      "outputs": []
    },
    {
      "cell_type": "code",
      "source": [
        "class SuppressingPseudonymizer(Pseudonymizer):\n",
        "  \"\"\"삭제[부분, 로컬, 행, 열] 클래스\"\"\"\n",
        "\n",
        "  def __init__(self, row, feature):\n",
        "    self.row = row\n",
        "    self.feature = feature\n",
        "\n",
        "  def pseudonymizeData(self, value):\n",
        "    if self.row is not None:\n",
        "      return value.drop(columns = self.feature)\n",
        "    elif self.feature is not None:\n",
        "      return value.drop(index = self.row)\n",
        "    else:\n",
        "      pass"
      ],
      "metadata": {
        "id": "T8ZRy5XA0_XC"
      },
      "execution_count": null,
      "outputs": []
    },
    {
      "cell_type": "code",
      "source": [
        "class MaskingPseudonymizer(Pseudonymizer):\n",
        "  \"\"\"마스킹 클래스\n",
        "\n",
        "  자식 클래스 메서드 오버라이딩\n",
        "  -----------------------------\n",
        "  구체 상속 클래스 선언 시 @property와 @psuedonymizeData.setter 데코레이터로 추상화한다.\n",
        "  개인식별정보 또는 민감정보 마스킹 시 그 변수 값을 외부에서 접근하지 못하도록 막기 위한 의도\"\"\"\n",
        "\n",
        "  def __init__(self, mask_character):\n",
        "    self.mask_character = mask_character\n",
        "\n",
        "  def pseudonymizeData(self, value):\n",
        "    \"\"\"데이터를 문자열로 변환하고 그 길이만큼 마스킹 문자로 구성된 문자열로 대체하는 메서드\"\"\"\n",
        "    return len(str(value)) * str(self.mask_character)"
      ],
      "metadata": {
        "id": "nvPXA1vkx8tY"
      },
      "execution_count": null,
      "outputs": []
    },
    {
      "cell_type": "code",
      "source": [
        "class RoundingPseudonymizer(Pseudonymizer):\n",
        "  \"\"\"라운딩[일반, 랜덤] 클래스\"\"\"\n",
        "\n",
        "  def __init__(self, decimal):\n",
        "    self.decimal = decimal\n",
        "    # precision or decimal\n",
        "\n",
        "  def pseudonymizeData(self, value):\n",
        "    \"\"\"반올림, 내림, 올림 등 라운딩 로직 구현 메서드: 주어진 소수 자릿수에 따라 데이터를 라운딩\"\"\"\n",
        "    return round( float(value), self.decimal )"
      ],
      "metadata": {
        "id": "5XDtW0Ls0J6Z"
      },
      "execution_count": null,
      "outputs": []
    },
    {
      "cell_type": "code",
      "source": [
        "class TopAndBottomCodingPseudonymizer(Pseudonymizer):\n",
        "  \"\"\"상하단코딩 클래스\"\"\"\n",
        "\n",
        "  # def __init__(self, ):\n",
        "\n",
        "  def pseudonymizeData(self, value):\n",
        "    \"\"\"적은 수의 분포를 가진 양 끝단의 정보를 범주화 등의 기법을 적용하여 식별성을 낮추는 메서드\"\"\"\n",
        "    # if value is\n",
        "\n",
        "    return value\n",
        "    # valuevalue는 데이터프레임 람다 함수 내 익명(적적용)함수를 통해통해서 들어가므로 분포를 고려하는 방식을 적용하는게 쉽지는 않음"
      ],
      "metadata": {
        "id": "9eskSEfwKbY7"
      },
      "execution_count": null,
      "outputs": []
    },
    {
      "cell_type": "code",
      "source": [
        "class CategorizationPseudonymizer(Pseudonymizer):\n",
        "  \"\"\"범주화 클래스\"\"\"\n",
        "\n",
        "  def __init__(self, categories):\n",
        "    self.categories = categories\n",
        "\n",
        "  def pseudonymizeData(self, value, **kwargs):\n",
        "    \"\"\"범주화 로직 구현 메서드(범주화된 값으로 대체하거나 새로운 범주로 매핑)\"\"\"\n",
        "    # pd.cut외에 다른 방법은? 구간별로 분포를 나누고 범주를 할당하기 위해서는\n",
        "    # if type(value) is str:\n",
        "      #\n",
        "    # elif type(value) is integer:\n",
        "      #\n",
        "    # elif type(value) is float:\n",
        "      #\n",
        "    # else:\n",
        "      # 해당 변수의 자료형 자체를 범주화 클래스의 가명처리 인스턴스 적용 후에는, astype()로 범주형 변환\n",
        "    return value"
      ],
      "metadata": {
        "id": "afTkcHn9zNkw"
      },
      "execution_count": null,
      "outputs": []
    },
    {
      "cell_type": "code",
      "source": [
        "class HashingPseudonymizer(Pseudonymizer):\n",
        "  \"\"\"해시 알고리즘 SHA256 등을 활용한 암호화(추가정보) 생성 클래스\"\"\"\n",
        "\n",
        "  def pseudonymizeData(self, value, encoder):\n",
        "    \"\"\"sha256 알고리즘 기반의 해시함수 모듈로 해시값을 생성하되, 받은 문자열 합 일련번호에 솔트값을 추가하여 결합키 생성 메서드\n",
        "    문제\n",
        "    ----\n",
        "    1. 동일한 메시지는 동일한 다이제스트를 갖는다(레인보우테이블 공격으로 다이제스트의 원문을 쉽게 얻을 수 있다)\n",
        "    2. 생일 역설에 의한 해시충돌 브루스포스(무차별 대입 공격)\n",
        "\n",
        "    대안\n",
        "    ----\n",
        "    crypt 모듈 — 유닉스 비밀번호 확인 함수\n",
        "\n",
        "    \"\"\"\n",
        "    import hashlib\n",
        "    value.split\n",
        "    return hashlib.sha256( str(valueㅇ하).encode(encoder) ).hexdigest()"
      ],
      "metadata": {
        "id": "KAo2PTRx2jYk"
      },
      "execution_count": null,
      "outputs": []
    },
    {
      "cell_type": "markdown",
      "source": [
        "##### Hashing Alghorithm\n",
        "\n",
        "* 해싱 알고리즘이란 키 값을 해시 함수에 대입하여 나온 결과 를 주소로 사용(인덱스)하여 바로 값에 접근하게 할 수 있도록 하는 방법을 말한다. 즉, 해싱이란 각 사용장의 일반 텍스트 암호를 가져와 단방향 수학함수를 통해 암호화를 실행하여 고유한 숫자 및 문자열 해시를 생성하는 것을 말한다.\n",
        "\n",
        "* **제곱법**이란 키 값을 **제곱한 후 중간의 몇 자리**를 선택하고 그 중간값을 주소로 이용하는법\n",
        "* **제산법**이란 레코드 키 값을 **소수로 나누어 나머지 값**을 주소(버킷)로 결정하는 방법\n",
        "* **중첩법(폴딩법)**이란 길이를 동일하게 여러 부분으로 나누고 더하거나 XOR하여 주소를 이동하는 방법\n",
        "* **숫자분석법**이란 각 숫자의 분포를 이용하여 균등한 분포의 숫자를 선택하여 사용하는 방법\n",
        "* **기수 변환법**이란 주어진 키 값을 다른 진법으로 변환하여 얻은 값을 주소로 사용하는 방법\n",
        "* **무작위 방법**이란 난수를 발생시켜 탐색을 위한 해시의 경우 충돌이 발생하면 다음 난수로 이동하는 방법\n"
      ],
      "metadata": {
        "id": "mFbpjtyCT1tQ"
      }
    },
    {
      "cell_type": "code",
      "source": [
        "class Pseudonym:\n",
        "  def __init__(self, dataframe):\n",
        "    \"\"\"원본정보(재현 데이터)와 가명처리 구체 클래스를 인스턴스 변수로 선언하는 초기화 생성자\"\"\"\n",
        "    self._dataframe = dataframe.copy()\n",
        "    self._pseudonymizers = []\n",
        "    self._pseudonymDictionary = {}\n",
        "\n",
        "  def addPseudonymizers(self, pseudonymizer):\n",
        "    \"\"\"가명처리 추상 클래스에 대한 자식 클래스를 입력받는 psuedonymizer 파라미터를 가진 메서드\"\"\"\n",
        "    if isinstance(pseudonymizer, Pseudonymizer):\n",
        "      self._pseudonymizers.append(pseudonymizer)\n",
        "    else:\n",
        "      print(\"입력받은 {} 기술은 가명처리 기법에 추가할 수 없습니다.\".format(pseudonymizer))\n",
        "\n",
        "  def addDictionary(self, column):\n",
        "    \"\"\"외부 접근을 막아야 하는 개인식별정보 컬럼과 가명처리 기법을 딕셔너리로 추가하는 메서드\"\"\"\n",
        "    self._pseudonymDictionary[column] = self._pseudonymizers\n",
        "\n",
        "  def pseudonymizeData(self):\n",
        "    \"\"\"가명처리 기법을 컬럼에 적용하는 메서드\"\"\"\n",
        "    for column, pseudonymizers in self._pseudonymDictionary.items():\n",
        "      for pseudonymizer in pseudonymizers:\n",
        "        self._dataframe[column] = self._dataframe[column].apply(pseudonymizer.pseudonymizeData)\n",
        "\n",
        "  def getPseudonymizedDataframe(self):\n",
        "    \"\"\"가명처리 데이터 반환\"\"\"\n",
        "    return self._dataframe"
      ],
      "metadata": {
        "id": "58ImAIs8MSLu"
      },
      "execution_count": null,
      "outputs": []
    },
    {
      "cell_type": "code",
      "source": [
        "PseudoSKT = Pseudonym(dataframe = DATA_LIST[FILE_LIST[0]])"
      ],
      "metadata": {
        "id": "_FpohtFkvbRk"
      },
      "execution_count": null,
      "outputs": []
    },
    {
      "cell_type": "code",
      "source": [],
      "metadata": {
        "id": "i_HOl0rALec7"
      },
      "execution_count": null,
      "outputs": []
    },
    {
      "cell_type": "code",
      "source": [],
      "metadata": {
        "id": "FeP0kFWRLeZX"
      },
      "execution_count": null,
      "outputs": []
    },
    {
      "cell_type": "code",
      "source": [],
      "metadata": {
        "id": "cfMrUmf0LeXr"
      },
      "execution_count": null,
      "outputs": []
    },
    {
      "cell_type": "code",
      "source": [
        "help(Pseudonymizer)\n",
        "help(Pseudonym)"
      ],
      "metadata": {
        "colab": {
          "base_uri": "https://localhost:8080/"
        },
        "id": "pKEutjEfEaKH",
        "outputId": "578d0887-efbd-44eb-d9b9-5bd9cfcb6df1"
      },
      "execution_count": null,
      "outputs": [
        {
          "output_type": "stream",
          "name": "stdout",
          "text": [
            "Help on class Pseudonymizer in module __main__:\n",
            "\n",
            "class Pseudonymizer(abc.ABC)\n",
            " |  가명처리 추상 클래스 및 추상 메서드 선언\n",
            " |  \n",
            " |  클래스 변수\n",
            " |  -----------\n",
            " |  클래스 변수는 당장 필요하지 않다.\n",
            " |  다만 모든 객체가 같은 값(예: 상하단코딩 경계값의 기준, 라운딩 수준)을\n",
            " |  가지도록 할당할 경우 생성한다.\n",
            " |  \n",
            " |  Method resolution order:\n",
            " |      Pseudonymizer\n",
            " |      abc.ABC\n",
            " |      builtins.object\n",
            " |  \n",
            " |  Methods defined here:\n",
            " |  \n",
            " |  pseudonymizeData(self, value)\n",
            " |      확장성을 갖춘 가명처리 클래스를 만들어 특정 가명처리 기법으로 구체화하기 위한 추상 메서드\n",
            " |  \n",
            " |  ----------------------------------------------------------------------\n",
            " |  Data descriptors defined here:\n",
            " |  \n",
            " |  __dict__\n",
            " |      dictionary for instance variables (if defined)\n",
            " |  \n",
            " |  __weakref__\n",
            " |      list of weak references to the object (if defined)\n",
            " |  \n",
            " |  ----------------------------------------------------------------------\n",
            " |  Data and other attributes defined here:\n",
            " |  \n",
            " |  __abstractmethods__ = frozenset({'pseudonymizeData'})\n",
            "\n",
            "Help on class Pseudonym in module __main__:\n",
            "\n",
            "class Pseudonym(builtins.object)\n",
            " |  Pseudonym(dataframe)\n",
            " |  \n",
            " |  Methods defined here:\n",
            " |  \n",
            " |  __init__(self, dataframe)\n",
            " |      원본정보(재현 데이터)와 가명처리 구체 클래스를 인스턴스 변수로 선언하는 초기화 생성자\n",
            " |  \n",
            " |  addDictionary(self, column)\n",
            " |      외부 접근을 막아야 하는 개인식별정보 컬럼과 가명처리 기법을 딕셔너리로 추가하는 메서드\n",
            " |  \n",
            " |  addPseudonymizers(self, pseudonymizer)\n",
            " |      가명처리 추상 클래스에 대한 자식 클래스를 입력받는 psuedonymizer 파라미터를 가진 메서드\n",
            " |  \n",
            " |  getPseudonymizedDataframe(self)\n",
            " |      가명처리 데이터 반환\n",
            " |  \n",
            " |  pseudonymizeData(self)\n",
            " |      가명처리 기법을 컬럼에 적용하는 메서드\n",
            " |  \n",
            " |  ----------------------------------------------------------------------\n",
            " |  Data descriptors defined here:\n",
            " |  \n",
            " |  __dict__\n",
            " |      dictionary for instance variables (if defined)\n",
            " |  \n",
            " |  __weakref__\n",
            " |      list of weak references to the object (if defined)\n",
            "\n"
          ]
        }
      ]
    },
    {
      "cell_type": "markdown",
      "source": [
        "### 2.가명결합"
      ],
      "metadata": {
        "id": "co06dD9orAhv"
      }
    },
    {
      "cell_type": "markdown",
      "source": [
        "#### 2.1. 결합키 연계정보 생성\n",
        "\n",
        "* 결합전문기관을 통해 가명정보를 결합하기 위해\n",
        "* 가명정보 결합 및 반출 고시에 의하여\n",
        "* 결합키관리기관을 통한 일련번호를 중심으로 결합키 테이블을 만들고 결합키 연계정보를 생성\n",
        "\n",
        "* {속성정보} -> 결합전문기관 {결합키, 일련번호} -> 결합키관리기관\n",
        "* 결합키에 대한 접촉 레이어를 최소화하기 위해"
      ],
      "metadata": {
        "id": "hk5vF0SZt_EX"
      }
    },
    {
      "cell_type": "markdown",
      "source": [
        "| 연번 | 가명처리 관련 서류 | 시트 내 세부 문서(비고) |\n",
        "| --- | --- | --- |\n",
        "| **1단계 목적 설정 등 사전 준비 : 가명정보 목적 적합성 및 이용항목 적합성** |\n",
        "| 1 | 가명정보 이용 제공 신청서 |  |\n",
        "| 2 | 가명처리 및 결합 목적 증빙자료 |  |\n",
        "| 3 | 이용환경에 대한 보호수준을 확인할 수 있는 서류 | 내부관리계획서 내 가명처리 관련 사항 및 가명정보에 대한 안전조치 이행 확약서 |\n",
        "| 4 | 처리 위탁 및 제3자 제공에 대한 계약서 |  |\n",
        "| **2단계 처리 대상의 위험성 검토 : 식별위험성 검토 결과보고서의 적정성** |\n",
        "| 5 | 원본데이터파일 |  |\n",
        "| 6 | 데이터위험성검토자료 | 원본데이터 상세 명세 및 개인정보유형분류표(ID, QI, SA, NSA) |\n",
        "| 7 | 활용데이터 요구 수준표 | |\n",
        "| 8 | 식별 위험성 검토 결과보고서 |  |\n",
        "| **3단계 가명처리 : 가명처리 방법 및 수준 정의표 적정성** |\n",
        "| 9 | 항목별 가명처리계획 |  |\n",
        "| 10 | 가명처리된 데이터 |  |\n",
        "| 11 | 가명정보 처리(이용 및 제공) 기초자료 | 가명처리 기초자료 명세서 및 데이터 분포 |\n",
        "| **4단계 적정성 검토 : 처리수준에 따른 처리결과의 정확성 및 처리결과의 목적 달성 가능성** |\n",
        "| 12 | 비밀유지의무 서약서 |  |\n",
        "| 13 | 이해상충 서약서 |  |\n",
        "| 14 | 적정성 검토 결과서(검토위원용) |  |\n",
        "| 15 | 적정성 검토 종합결과서 |  |\n",
        "| |\n",
        "| **1단계 결합신청** |\n",
        "| 16 | 결합신청서 | 이용기관으로서 결합신청서 양식 |\n",
        "| 17 | 결합신청서 첨부서류 | (1) 사업자등록증, 법인등기사항전부증명서 등 결합신청자 관련 서류 1부 |\n",
        "|   |                      | (2) 결합 목적을 증명할 수 있는 서류 1부(결합된 정보를 반출하려는 자에 한함) |\n",
        "|   |                      | (3) 결합 대상 가명정보에 관한 서류(전체 항목명 가명처리 대상 항목명, 가명처리 내역 등) |\n",
        "| **2단계 결합 및 추가 가명처리** |\n",
        "| **3단계 반출 및 활용** |\n",
        "| 18 | 반출신청서 | 이용기관이 제출 |\n",
        "| 19 | 반출정보에 대한 안전조치 이행 확약서 | 이용기관이 제출 |"
      ],
      "metadata": {
        "id": "GtRFBLUACrC3"
      }
    },
    {
      "cell_type": "markdown",
      "source": [
        "#### 2.2. 시나리오 기반의 외부결합\n",
        "\n",
        "* 관광\n",
        "\n",
        "  (배경) 지역의 A대학교 임직원 및 학생들의 정보와 교통카드 데이터와 결합하여 대중교통 이용현황을 분석하여 셔틀버스 노선과 배차시스템을 개선하고자 한다.\n",
        "\n",
        "  (수행내용) 가명정보 결합 신청서를 작성하고 가명정보 결합키관리기관과 결합전문기관에 제출할 데이터를 생성한다.\n",
        "\n",
        "  (필요자료) 데이터셋, 가명처리 및 가명정보 결합 신청서\n",
        "\n",
        "* 활용 데이터 요구수준표 및 항목별 가명처리 계획서\n",
        "\n",
        "| 연번 | 변수명 | 변수 설명 | 처리 방법 1 | 처리 수준 1 | 처리 방법 2 | 처리 수준 2 |\n",
        "| --- | --- | --- | --- | --- | --- | --- |\n",
        "| 0 | 일련번호 | 데이터 구별을 위한 순번 |  |  |  |  |\n",
        "| 1 | 나이 | 19 ~ 55 상세 나이 | 상하단 코딩 | 0.01 | 분포도를 준비하여 내부가명처리부서 및 외부결합기관에 제출 |  |\n",
        "| 2 | 이름 | 이름 | 삭제 |  |  |  |\n",
        "| 3 | 성별 | male / female | 원본유지 |  |  |  |\n",
        "| 4 | 집 우편번호 | 5자릿수 우편번호 | 삭제 |  |  |  |\n",
        "| 5 | 집 주소 | 시군구 읍면동 상세주소 | 범주화 | 읍면동 수준 | (빈도 낮으면) 로컬 삭제 | 빈도 3 이하  |\n",
        "| 6 | 휴대전화번호 | 핸드폰 번호 | **결합키 생성 후 삭제** |  |  |  |\n",
        "| 7 | 구성원 구분 | 학생, 교수, 교직원, 기타 | 원본유지 |  |  |  |\n",
        "\n",
        "* 데이터 위험성 검토 시 **식별성 유무, 특이정보 유무, 재식별 시 영향도**에 대하여 검토한다."
      ],
      "metadata": {
        "id": "28iEdNOJBxSc"
      }
    },
    {
      "cell_type": "code",
      "source": [],
      "metadata": {
        "id": "zsGxBVd6EB3Z"
      },
      "execution_count": null,
      "outputs": []
    },
    {
      "cell_type": "code",
      "source": [],
      "metadata": {
        "id": "yE4KXzHXrI5G"
      },
      "execution_count": null,
      "outputs": []
    },
    {
      "cell_type": "code",
      "source": [],
      "metadata": {
        "id": "xVYzbtntECAd"
      },
      "execution_count": null,
      "outputs": []
    },
    {
      "cell_type": "code",
      "source": [],
      "metadata": {
        "id": "HGtibc5mrIz-"
      },
      "execution_count": null,
      "outputs": []
    },
    {
      "cell_type": "code",
      "source": [],
      "metadata": {
        "id": "dHqc0F2u-ecX"
      },
      "execution_count": null,
      "outputs": []
    },
    {
      "cell_type": "code",
      "source": [],
      "metadata": {
        "id": "g_UiwL4J-eZC"
      },
      "execution_count": null,
      "outputs": []
    },
    {
      "cell_type": "code",
      "source": [],
      "metadata": {
        "id": "VLLQpP9i-eWF"
      },
      "execution_count": null,
      "outputs": []
    }
  ]
}