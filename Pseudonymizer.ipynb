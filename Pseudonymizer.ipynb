{
  "nbformat": 4,
  "nbformat_minor": 0,
  "metadata": {
    "colab": {
      "provenance": [],
      "authorship_tag": "ABX9TyMxQ1uYrX7r4YXKd8ZIpxSk"
    },
    "kernelspec": {
      "name": "python3",
      "display_name": "Python 3"
    },
    "language_info": {
      "name": "python"
    }
  },
  "cells": [
    {
      "cell_type": "markdown",
      "source": [
        "### 1.**필요한 라이브러리, 모듈 로드**\n",
        "* https://eu4ng.tistory.com/37"
      ],
      "metadata": {
        "id": "GyC9k9a5xWDF"
      }
    },
    {
      "cell_type": "code",
      "execution_count": 1,
      "metadata": {
        "colab": {
          "base_uri": "https://localhost:8080/"
        },
        "id": "ZAw-RTcgxL2r",
        "outputId": "a218e171-e134-4755-f38e-3fcd8b1e9057"
      },
      "outputs": [
        {
          "output_type": "stream",
          "name": "stdout",
          "text": [
            "Mounted at /content/drive\n"
          ]
        }
      ],
      "source": [
        "#  데이터 처리 모듈\n",
        "import pandas as pd\n",
        "from sklearn.impute import KNNImputer\n",
        "\n",
        "# 행렬 등 통계 연산 모듈\n",
        "import numpy as np\n",
        "\n",
        "# 지수형 표기법 e를 연속형 변환\n",
        "pd.options.display.float_format = '{:.4f}'.format\n",
        "\n",
        "# 타입 어노테이션(Any, Sequencsss의 메서드 활용)\n",
        "from typing import *\n",
        "import os\n",
        "\n",
        "# 정규표현식(Regex)\n",
        "import re\n",
        "\n",
        "# 구글 드라이브 마운트\n",
        "from google.colab import drive\n",
        "drive.mount(\"/content/drive\")\n",
        "import os\n",
        "\n",
        "# 조합 찾는 반복문 메서드\n",
        "from itertools import permutations\n",
        "from itertools import combinations\n",
        "\n",
        "# 추상 클래스와 추상 메서드, 데코레이터 활용 모듈\n",
        "from abc import ABC, abstractmethod"
      ]
    },
    {
      "cell_type": "markdown",
      "source": [
        "### 2.**데이터 로드**"
      ],
      "metadata": {
        "id": "Xn_IGQUoxY1y"
      }
    },
    {
      "cell_type": "code",
      "source": [
        "class GoogleDriveDataLoad:\n",
        "  def __init__(self):\n",
        "    self.file_path = None\n",
        "    self.file_name = None\n",
        "\n",
        "  def loadData(#self,\n",
        "               file_path: str, file_name: str, encoder: str, id: int) -> pd.DataFrame:\n",
        "    return pd.read_csv(\n",
        "        os.path.join(file_path, file_name), encoding = encoder, index_col = id)"
      ],
      "metadata": {
        "id": "K4SCY9UNxXSD"
      },
      "execution_count": 3,
      "outputs": []
    },
    {
      "cell_type": "code",
      "source": [
        "load = GoogleDriveDataLoad"
      ],
      "metadata": {
        "id": "wtGexsH_i6AS"
      },
      "execution_count": 4,
      "outputs": []
    },
    {
      "cell_type": "code",
      "source": [
        "DATA_LIST: Dict = {}\n",
        "FILE_LIST = os.listdir(\"/content/drive/MyDrive/PseudonymizeData/Data Archive\")"
      ],
      "metadata": {
        "id": "2P-gvP53uG5g"
      },
      "execution_count": 5,
      "outputs": []
    },
    {
      "cell_type": "code",
      "source": [
        "for index, file in zip(list(range(0, 7, 1)), FILE_LIST):\n",
        "  data = load.loadData(\n",
        "      file_path = \"/content/drive/MyDrive/PseudonymizeData/Data Archive\",\n",
        "      file_name = file,\n",
        "      encoder = \"utf-8\",\n",
        "      id = 0)\n",
        "  DATA_LIST[file] = data"
      ],
      "metadata": {
        "id": "-8r1WbnZlHtQ"
      },
      "execution_count": 6,
      "outputs": []
    },
    {
      "cell_type": "code",
      "source": [
        "for index in range(0, 7, 1):\n",
        "  print(\"\\n\", FILE_LIST[index])\n",
        "  DATA_LIST[FILE_LIST[index]].info()"
      ],
      "metadata": {
        "id": "zvs9Bw0Vp_vL"
      },
      "execution_count": null,
      "outputs": []
    },
    {
      "cell_type": "code",
      "source": [
        "DATA_LIST[FILE_LIST[0]]"
      ],
      "metadata": {
        "id": "dpRc-LJG0-YA"
      },
      "execution_count": null,
      "outputs": []
    },
    {
      "cell_type": "markdown",
      "source": [
        "### 3.**가명처리 클래스**"
      ],
      "metadata": {
        "id": "pow09E7LxuH5"
      }
    },
    {
      "cell_type": "markdown",
      "source": [
        "* 활용 통신 데이터 요구수준표 및 항목별 가명처리 계획서\n",
        "\n",
        "| 연번 | 변수명 | 변수 설명 | 처리 방법 1 | 처리 수준 1 | 처리 방법 2 | 처리 수준 2 |\n",
        "| --- | --- | --- | --- | --- | --- | --- |\n",
        "| 0 | 일련번호 | 데이터 구별을 위한 순번 |  |  |  |  |\n",
        "| 1 | 나이 | 20세 ~ 80세, 상세 나이 | 상하단 코딩 | 0.01 |  |  |\n",
        "| 2 | 이름 | 이름 | 삭제 |  |  |  |\n",
        "| 3 | 성별 | male / female | 원본유지 |  |  |  |\n",
        "| 4 | 우편번호 | 5자릿수 우편번호 | 삭제 |  |  |  |\n",
        "| 5 | 상세주소 | 상세주소 | 범주화 | 읍면동 |  |  |\n",
        "| 6 | 휴대폰 번호 | 핸드폰 번호 | 삭제 |  |  |  |\n",
        "| 7 | 직업 | 표준산업분류 대분류 이름 | 원본유지 |  |  |  |\n",
        "| 8 | 가입상품 | SKT 인터넷 상품 | 원본유지 |  |  |  |\n",
        "| 9 | 요금 | SKT 인터넷 상품요금 | 상하단 코딩 | 0.01 |  |  |\n",
        "| 10 | 가입일 | 2018 ~ 2021년, 5년 동안 가입한 고객 | 범주화 | 연월 |  |  |\n",
        "| 11 | 회원유형 | 홀, 모바일, 개인사업자, 법인으로 구분 | 원본유지 |  |  |  |\n",
        "| 12 | 블랙리스트 유형 | 악성 클레임 고객 여부 | 삭제 |  |  |  |\n",
        "| 13 | 연체 횟수 | 5년간 요금 연체 횟수 | 상하단 코딩 | 0.01 |  |  |\n",
        "| 14 | 멤버십 등급 | VVIP, VIP, GOLD, SILVER, WHITE, 일반으로 구분 | 원본유지 |  |  |  |\n",
        "| 15 | 콘텐츠 구매 여부 | 인터넷 콘텐츠 구매 여부 | 원본유지 |  |  |  |\n",
        "| 16 | 구매금액 | 인터넷 콘텐츠 구매 고객의 총 구매금액 | 라운딩 | 3 | 상하단 코딩 | 0.01 |\n",
        "| 17 | 부가 서비스 | 악성코드 차단, 가디언, 세이퍼플러스, 원스톱, 미가입으로 구분 | 원본유지 |  |  |  |"
      ],
      "metadata": {
        "id": "Psef7C4s0Qcg"
      }
    },
    {
      "cell_type": "markdown",
      "source": [
        "### 4.구현의 핵심 목표는 **가명처리 패키지를 구조화하고 필요한 기능을 제공하기 위해 디렉토리 구조와 객체 및 속성을 설계**함에 있다."
      ],
      "metadata": {
        "id": "jMN5M_KTy4ec"
      }
    },
    {
      "cell_type": "code",
      "source": [
        "class Pseudonymizer(ABC):\n",
        "    \"\"\"가명처리 추상 클래스 및 추상 메서드 선언\"\"\"\n",
        "    @abstractmethod\n",
        "    def pseudonymizeData(self, value):\n",
        "        \"\"\"확장성을 갖춘 가명처리 클래스를 만들어 특정 가명처리 기법으로 구체화하기 위한 추상 메서드\"\"\"\n",
        "        pass"
      ],
      "metadata": {
        "id": "vLCP-aahxwZc"
      },
      "execution_count": 9,
      "outputs": []
    },
    {
      "cell_type": "code",
      "source": [
        "DATA_LIST[FILE_LIST[0]].head(3)"
      ],
      "metadata": {
        "colab": {
          "base_uri": "https://localhost:8080/",
          "height": 282
        },
        "id": "Lj-8m8Ht_Sal",
        "outputId": "5da849c6-626d-40de-bdac-58ada620100d"
      },
      "execution_count": 10,
      "outputs": [
        {
          "output_type": "execute_result",
          "data": {
            "text/plain": [
              "    이름      성별  나이          핸드폰번호   우편번호                              집주소  \\\n",
              "0  강현심  female  80  010-1826-4535  27218        충청북도 제천시 수산면 옥순봉로6길 61-32   \n",
              "1  서삼봉  female  30  010-1765-1467  12736            경기도 광주시 초월읍 도곡길 109-9   \n",
              "2  팽상아  female  53  010-6593-5091  51292  경상남도 창원시 마산회원구 회원남32길 28-1(회원동)   \n",
              "\n",
              "                   주거유형  소득분위  신용평가모델점수  상환위험지수  신용카드월사용금액  신용카드월현금서비스금액  \\\n",
              "0  판잣집, 비닐하우스, 컨테이너, 움막     6       441      61    5357418       8583708   \n",
              "1                 다세대주택     8       515      10    8870904       5328233   \n",
              "2  판잣집, 비닐하우스, 컨테이너, 움막     1       269      17    8525658       2005663   \n",
              "\n",
              "   신용카드발급수  해지카드수 대출여부  대출총금액  미상환대출금액 연금수급여부  연금수급액(월)  \n",
              "0        3      5    N      0        0      N         0  \n",
              "1        3      1    N      0        0      N         0  \n",
              "2        6      5    N      0        0      N         0  "
            ],
            "text/html": [
              "\n",
              "  <div id=\"df-8daad56c-6134-4e54-9165-28cc7051f00c\" class=\"colab-df-container\">\n",
              "    <div>\n",
              "<style scoped>\n",
              "    .dataframe tbody tr th:only-of-type {\n",
              "        vertical-align: middle;\n",
              "    }\n",
              "\n",
              "    .dataframe tbody tr th {\n",
              "        vertical-align: top;\n",
              "    }\n",
              "\n",
              "    .dataframe thead th {\n",
              "        text-align: right;\n",
              "    }\n",
              "</style>\n",
              "<table border=\"1\" class=\"dataframe\">\n",
              "  <thead>\n",
              "    <tr style=\"text-align: right;\">\n",
              "      <th></th>\n",
              "      <th>이름</th>\n",
              "      <th>성별</th>\n",
              "      <th>나이</th>\n",
              "      <th>핸드폰번호</th>\n",
              "      <th>우편번호</th>\n",
              "      <th>집주소</th>\n",
              "      <th>주거유형</th>\n",
              "      <th>소득분위</th>\n",
              "      <th>신용평가모델점수</th>\n",
              "      <th>상환위험지수</th>\n",
              "      <th>신용카드월사용금액</th>\n",
              "      <th>신용카드월현금서비스금액</th>\n",
              "      <th>신용카드발급수</th>\n",
              "      <th>해지카드수</th>\n",
              "      <th>대출여부</th>\n",
              "      <th>대출총금액</th>\n",
              "      <th>미상환대출금액</th>\n",
              "      <th>연금수급여부</th>\n",
              "      <th>연금수급액(월)</th>\n",
              "    </tr>\n",
              "  </thead>\n",
              "  <tbody>\n",
              "    <tr>\n",
              "      <th>0</th>\n",
              "      <td>강현심</td>\n",
              "      <td>female</td>\n",
              "      <td>80</td>\n",
              "      <td>010-1826-4535</td>\n",
              "      <td>27218</td>\n",
              "      <td>충청북도 제천시 수산면 옥순봉로6길 61-32</td>\n",
              "      <td>판잣집, 비닐하우스, 컨테이너, 움막</td>\n",
              "      <td>6</td>\n",
              "      <td>441</td>\n",
              "      <td>61</td>\n",
              "      <td>5357418</td>\n",
              "      <td>8583708</td>\n",
              "      <td>3</td>\n",
              "      <td>5</td>\n",
              "      <td>N</td>\n",
              "      <td>0</td>\n",
              "      <td>0</td>\n",
              "      <td>N</td>\n",
              "      <td>0</td>\n",
              "    </tr>\n",
              "    <tr>\n",
              "      <th>1</th>\n",
              "      <td>서삼봉</td>\n",
              "      <td>female</td>\n",
              "      <td>30</td>\n",
              "      <td>010-1765-1467</td>\n",
              "      <td>12736</td>\n",
              "      <td>경기도 광주시 초월읍 도곡길 109-9</td>\n",
              "      <td>다세대주택</td>\n",
              "      <td>8</td>\n",
              "      <td>515</td>\n",
              "      <td>10</td>\n",
              "      <td>8870904</td>\n",
              "      <td>5328233</td>\n",
              "      <td>3</td>\n",
              "      <td>1</td>\n",
              "      <td>N</td>\n",
              "      <td>0</td>\n",
              "      <td>0</td>\n",
              "      <td>N</td>\n",
              "      <td>0</td>\n",
              "    </tr>\n",
              "    <tr>\n",
              "      <th>2</th>\n",
              "      <td>팽상아</td>\n",
              "      <td>female</td>\n",
              "      <td>53</td>\n",
              "      <td>010-6593-5091</td>\n",
              "      <td>51292</td>\n",
              "      <td>경상남도 창원시 마산회원구 회원남32길 28-1(회원동)</td>\n",
              "      <td>판잣집, 비닐하우스, 컨테이너, 움막</td>\n",
              "      <td>1</td>\n",
              "      <td>269</td>\n",
              "      <td>17</td>\n",
              "      <td>8525658</td>\n",
              "      <td>2005663</td>\n",
              "      <td>6</td>\n",
              "      <td>5</td>\n",
              "      <td>N</td>\n",
              "      <td>0</td>\n",
              "      <td>0</td>\n",
              "      <td>N</td>\n",
              "      <td>0</td>\n",
              "    </tr>\n",
              "  </tbody>\n",
              "</table>\n",
              "</div>\n",
              "    <div class=\"colab-df-buttons\">\n",
              "\n",
              "  <div class=\"colab-df-container\">\n",
              "    <button class=\"colab-df-convert\" onclick=\"convertToInteractive('df-8daad56c-6134-4e54-9165-28cc7051f00c')\"\n",
              "            title=\"Convert this dataframe to an interactive table.\"\n",
              "            style=\"display:none;\">\n",
              "\n",
              "  <svg xmlns=\"http://www.w3.org/2000/svg\" height=\"24px\" viewBox=\"0 -960 960 960\">\n",
              "    <path d=\"M120-120v-720h720v720H120Zm60-500h600v-160H180v160Zm220 220h160v-160H400v160Zm0 220h160v-160H400v160ZM180-400h160v-160H180v160Zm440 0h160v-160H620v160ZM180-180h160v-160H180v160Zm440 0h160v-160H620v160Z\"/>\n",
              "  </svg>\n",
              "    </button>\n",
              "\n",
              "  <style>\n",
              "    .colab-df-container {\n",
              "      display:flex;\n",
              "      gap: 12px;\n",
              "    }\n",
              "\n",
              "    .colab-df-convert {\n",
              "      background-color: #E8F0FE;\n",
              "      border: none;\n",
              "      border-radius: 50%;\n",
              "      cursor: pointer;\n",
              "      display: none;\n",
              "      fill: #1967D2;\n",
              "      height: 32px;\n",
              "      padding: 0 0 0 0;\n",
              "      width: 32px;\n",
              "    }\n",
              "\n",
              "    .colab-df-convert:hover {\n",
              "      background-color: #E2EBFA;\n",
              "      box-shadow: 0px 1px 2px rgba(60, 64, 67, 0.3), 0px 1px 3px 1px rgba(60, 64, 67, 0.15);\n",
              "      fill: #174EA6;\n",
              "    }\n",
              "\n",
              "    .colab-df-buttons div {\n",
              "      margin-bottom: 4px;\n",
              "    }\n",
              "\n",
              "    [theme=dark] .colab-df-convert {\n",
              "      background-color: #3B4455;\n",
              "      fill: #D2E3FC;\n",
              "    }\n",
              "\n",
              "    [theme=dark] .colab-df-convert:hover {\n",
              "      background-color: #434B5C;\n",
              "      box-shadow: 0px 1px 3px 1px rgba(0, 0, 0, 0.15);\n",
              "      filter: drop-shadow(0px 1px 2px rgba(0, 0, 0, 0.3));\n",
              "      fill: #FFFFFF;\n",
              "    }\n",
              "  </style>\n",
              "\n",
              "    <script>\n",
              "      const buttonEl =\n",
              "        document.querySelector('#df-8daad56c-6134-4e54-9165-28cc7051f00c button.colab-df-convert');\n",
              "      buttonEl.style.display =\n",
              "        google.colab.kernel.accessAllowed ? 'block' : 'none';\n",
              "\n",
              "      async function convertToInteractive(key) {\n",
              "        const element = document.querySelector('#df-8daad56c-6134-4e54-9165-28cc7051f00c');\n",
              "        const dataTable =\n",
              "          await google.colab.kernel.invokeFunction('convertToInteractive',\n",
              "                                                    [key], {});\n",
              "        if (!dataTable) return;\n",
              "\n",
              "        const docLinkHtml = 'Like what you see? Visit the ' +\n",
              "          '<a target=\"_blank\" href=https://colab.research.google.com/notebooks/data_table.ipynb>data table notebook</a>'\n",
              "          + ' to learn more about interactive tables.';\n",
              "        element.innerHTML = '';\n",
              "        dataTable['output_type'] = 'display_data';\n",
              "        await google.colab.output.renderOutput(dataTable, element);\n",
              "        const docLink = document.createElement('div');\n",
              "        docLink.innerHTML = docLinkHtml;\n",
              "        element.appendChild(docLink);\n",
              "      }\n",
              "    </script>\n",
              "  </div>\n",
              "\n",
              "\n",
              "<div id=\"df-090b9536-29d1-4ab9-b73d-9255c71e6747\">\n",
              "  <button class=\"colab-df-quickchart\" onclick=\"quickchart('df-090b9536-29d1-4ab9-b73d-9255c71e6747')\"\n",
              "            title=\"Suggest charts\"\n",
              "            style=\"display:none;\">\n",
              "\n",
              "<svg xmlns=\"http://www.w3.org/2000/svg\" height=\"24px\"viewBox=\"0 0 24 24\"\n",
              "     width=\"24px\">\n",
              "    <g>\n",
              "        <path d=\"M19 3H5c-1.1 0-2 .9-2 2v14c0 1.1.9 2 2 2h14c1.1 0 2-.9 2-2V5c0-1.1-.9-2-2-2zM9 17H7v-7h2v7zm4 0h-2V7h2v10zm4 0h-2v-4h2v4z\"/>\n",
              "    </g>\n",
              "</svg>\n",
              "  </button>\n",
              "\n",
              "<style>\n",
              "  .colab-df-quickchart {\n",
              "      --bg-color: #E8F0FE;\n",
              "      --fill-color: #1967D2;\n",
              "      --hover-bg-color: #E2EBFA;\n",
              "      --hover-fill-color: #174EA6;\n",
              "      --disabled-fill-color: #AAA;\n",
              "      --disabled-bg-color: #DDD;\n",
              "  }\n",
              "\n",
              "  [theme=dark] .colab-df-quickchart {\n",
              "      --bg-color: #3B4455;\n",
              "      --fill-color: #D2E3FC;\n",
              "      --hover-bg-color: #434B5C;\n",
              "      --hover-fill-color: #FFFFFF;\n",
              "      --disabled-bg-color: #3B4455;\n",
              "      --disabled-fill-color: #666;\n",
              "  }\n",
              "\n",
              "  .colab-df-quickchart {\n",
              "    background-color: var(--bg-color);\n",
              "    border: none;\n",
              "    border-radius: 50%;\n",
              "    cursor: pointer;\n",
              "    display: none;\n",
              "    fill: var(--fill-color);\n",
              "    height: 32px;\n",
              "    padding: 0;\n",
              "    width: 32px;\n",
              "  }\n",
              "\n",
              "  .colab-df-quickchart:hover {\n",
              "    background-color: var(--hover-bg-color);\n",
              "    box-shadow: 0 1px 2px rgba(60, 64, 67, 0.3), 0 1px 3px 1px rgba(60, 64, 67, 0.15);\n",
              "    fill: var(--button-hover-fill-color);\n",
              "  }\n",
              "\n",
              "  .colab-df-quickchart-complete:disabled,\n",
              "  .colab-df-quickchart-complete:disabled:hover {\n",
              "    background-color: var(--disabled-bg-color);\n",
              "    fill: var(--disabled-fill-color);\n",
              "    box-shadow: none;\n",
              "  }\n",
              "\n",
              "  .colab-df-spinner {\n",
              "    border: 2px solid var(--fill-color);\n",
              "    border-color: transparent;\n",
              "    border-bottom-color: var(--fill-color);\n",
              "    animation:\n",
              "      spin 1s steps(1) infinite;\n",
              "  }\n",
              "\n",
              "  @keyframes spin {\n",
              "    0% {\n",
              "      border-color: transparent;\n",
              "      border-bottom-color: var(--fill-color);\n",
              "      border-left-color: var(--fill-color);\n",
              "    }\n",
              "    20% {\n",
              "      border-color: transparent;\n",
              "      border-left-color: var(--fill-color);\n",
              "      border-top-color: var(--fill-color);\n",
              "    }\n",
              "    30% {\n",
              "      border-color: transparent;\n",
              "      border-left-color: var(--fill-color);\n",
              "      border-top-color: var(--fill-color);\n",
              "      border-right-color: var(--fill-color);\n",
              "    }\n",
              "    40% {\n",
              "      border-color: transparent;\n",
              "      border-right-color: var(--fill-color);\n",
              "      border-top-color: var(--fill-color);\n",
              "    }\n",
              "    60% {\n",
              "      border-color: transparent;\n",
              "      border-right-color: var(--fill-color);\n",
              "    }\n",
              "    80% {\n",
              "      border-color: transparent;\n",
              "      border-right-color: var(--fill-color);\n",
              "      border-bottom-color: var(--fill-color);\n",
              "    }\n",
              "    90% {\n",
              "      border-color: transparent;\n",
              "      border-bottom-color: var(--fill-color);\n",
              "    }\n",
              "  }\n",
              "</style>\n",
              "\n",
              "  <script>\n",
              "    async function quickchart(key) {\n",
              "      const quickchartButtonEl =\n",
              "        document.querySelector('#' + key + ' button');\n",
              "      quickchartButtonEl.disabled = true;  // To prevent multiple clicks.\n",
              "      quickchartButtonEl.classList.add('colab-df-spinner');\n",
              "      try {\n",
              "        const charts = await google.colab.kernel.invokeFunction(\n",
              "            'suggestCharts', [key], {});\n",
              "      } catch (error) {\n",
              "        console.error('Error during call to suggestCharts:', error);\n",
              "      }\n",
              "      quickchartButtonEl.classList.remove('colab-df-spinner');\n",
              "      quickchartButtonEl.classList.add('colab-df-quickchart-complete');\n",
              "    }\n",
              "    (() => {\n",
              "      let quickchartButtonEl =\n",
              "        document.querySelector('#df-090b9536-29d1-4ab9-b73d-9255c71e6747 button');\n",
              "      quickchartButtonEl.style.display =\n",
              "        google.colab.kernel.accessAllowed ? 'block' : 'none';\n",
              "    })();\n",
              "  </script>\n",
              "</div>\n",
              "\n",
              "    </div>\n",
              "  </div>\n"
            ]
          },
          "metadata": {},
          "execution_count": 10
        }
      ]
    },
    {
      "cell_type": "markdown",
      "source": [
        "### 5.**MaskingPseudonymizer | 마스킹 적용 사례(정규표현식을 주로 활용)**\n",
        "\n",
        "* 성명: 직접 식별자에 대해 마스킹을 적용하여 식별성을 낮출 수 있음. 단, 이름이 세글자가 아닌 경우에는 어떻게 할지(두글자이거나 네글자 이상일 경우. 한국인이 아닌 외국인일 경우 어떻게 처리할지)\n",
        "\n",
        "* 나이 : 간접 식별자에 대해 마스킹을 적용할 수는 있지만 마스킹 방식을 거의 사용하지 않음\n",
        "\n",
        "* 질병코드 : 민감 질병에 대해 마스킹을 적용하여 식별성을 낮춘 사례\n",
        "\n",
        "* 사업자 등록번호 :\n",
        "\n",
        "    (1) 법인의 종류를 알 수 없도록 가운데 마스킹(2자릿수)\n",
        "    \n",
        "    (2) 법인의 종류만 구분가능하도록 맨 마지막 마스킹(5자릿수)\n",
        "    \n",
        "* 이메일 주소 : 메일발신기관만 구분가능하도록 마스킹하거나 발신자와 발신기관 모두 구분할 수 없도록 마스킹"
      ],
      "metadata": {
        "id": "ahQILXiyy-oW"
      }
    },
    {
      "cell_type": "markdown",
      "source": [
        "* 특수문자 체크 정규식\n",
        "  \n",
        "  const regExp = /[\\{\\}\\[\\]\\/?.,;:|\\)*~`!^\\-_+<>@\\#$%&\\\\\\=\\(\\'\\\"]/g;\n",
        "\n",
        "* 모든 공백 체크 정규식\n",
        "  \n",
        "  const regExp = /\\s/g;\n",
        "\n",
        "* 숫자만 체크 정규식\n",
        "\n",
        "  const regExp = /[0-9]/g;\n",
        "\n",
        "* 이메일 체크 정규식\n",
        "  \n",
        "  const regExp = /^[0-9a-zA-Z]([-_\\.]?[0-9a-zA-Z])*@[0-9a-zA-Z]([-_\\.]?[0-9a-zA-Z])*\\.[a-zA-Z]{2,3}$/i;\n",
        "\n",
        "* 핸드폰번호 정규식\n",
        "  \n",
        "  const regExp = /^\\d{3}-\\d{3,4}-\\d{4}$/;\n",
        "\n",
        "* 일반 전화번호 정규식\n",
        "  \n",
        "  const regExp = /^\\d{2,3}-\\d{3,4}-\\d{4}$/;\n",
        "\n",
        "* 아이디나 비밀번호 정규식\n",
        "  \n",
        "  const regExp = /^[a-z0-9_]{4,20}$/;\n",
        "\n",
        "* 휴대폰번호 체크 정규식\n",
        "  \n",
        "  const regExp = /^01([0|1|6|7|8|9]?)-?([0-9]{3,4})-?([0-9]{4})$/;"
      ],
      "metadata": {
        "id": "Rnow7BAdzEoM"
      }
    },
    {
      "cell_type": "code",
      "source": [
        "# ./pseudonymizer/pseudonymizers/\n",
        "# from pseudonymizer.pseudonymizer import Pseudonymizer\n",
        "class NameMaskingModule(Pseudonymizer):\n",
        "    \"\"\"\n",
        "    성명 마스킹 클래스\n",
        "    ------------------\n",
        "    성명 식별자에 직접 마스킹을 적용하여 식별성을 낮추는 구체 클래스\n",
        "    3자릿수가 넘는 이름은 특정인에 대한 식별가능성이 높아지므로 4자릿수로 마스킹\n",
        "\n",
        "    자식 클래스 메서드 오버라이딩\n",
        "    -----------------------------\n",
        "    구체 상속 클래스 선언 시 @property와 @psuedonymizeData.setter 데코레이터로 추상화한다.\n",
        "    개인식별정보 또는 민감정보 마스킹 시 그 변수 값을 외부에서 접근하지 못하도록 막기 위한 의도\n",
        "    \"\"\"\n",
        "    def pseudonymizeData(self, name):\n",
        "        name_list = list(name)\n",
        "        if 2 <= len(name) <= 3:\n",
        "            return name_list[0] + \"*\"*(len(name)-1)\n",
        "        else:\n",
        "            # len(name) > 4:\n",
        "            return name_list[0] + \"*\"*3"
      ],
      "metadata": {
        "id": "MVRRRKLFzIe4"
      },
      "execution_count": 11,
      "outputs": []
    },
    {
      "cell_type": "code",
      "source": [
        "# from pseudonymizer.pseudonymizer import Pseudonymizer\n",
        "# import re\n",
        "# from typing import *\n",
        "\n",
        "class EmailMaskingModule(Pseudonymizer):\n",
        "    \"\"\"\n",
        "    이메일 마스킹 클래스\n",
        "    --------------------\n",
        "    이메일 주소의 메일 발신자 또는 발신기관을 구분할 수 없도록 하는 구체 클래스\n",
        "    \"\"\"\n",
        "    def __init__(self, masking_domain: bool):\n",
        "        self.masking_domain = masking_domain\n",
        "\n",
        "    def pseudonymizeData(self, email):\n",
        "        pattern_match = re.match(\n",
        "            r\"^[a-zA-z0-9]([-_\\.]?[a-zA-Z0-9])*@[a-zA-Z0-9]+\\(.[a-zA-Z]{2,3})\", email)\n",
        "            # .: 정확히 1개 문자 매칭\n",
        "            # * : 앞 패턴이 0개 이상이어야 함\n",
        "            # ? : 앞 패턴이 없거나 하나이어야 함\n",
        "            # + : 1회 이상 반복되는 패턴을 매칭\n",
        "            # \\. : 도메인과 최상위 도메인(TLD)에 대한 구분자 마침표\n",
        "            # {,} : 중괄호 안에 표기된 범위만큼 반복되는 패턴을 매칭. {3,5}는 3~5회 매칭을 의미함\n",
        "\n",
        "        if pattern_match:\n",
        "            local_part = pattern_match.group(0)\n",
        "            domain_part = pattern_match.group(1)\n",
        "            tld_part = pattern_match.group(2)\n",
        "            # local_part, domain_part = email.split(\"@\")\n",
        "\n",
        "            if self.masking_domain:\n",
        "                masked_local_part = re.sub(r\"\\S\", \"*\", local_part)\n",
        "                masked_domain_part = re.sub(r\"\\S\", \"*\", domain_part)\n",
        "                return masked_local_part + \"@\" + masked_domain_part + tld_part\n",
        "            else:\n",
        "              # self.masking_domain = False:\n",
        "                masked_local_part = re.sub(r\"\\S\", \"*\", local_part)\n",
        "                return masked_local_part + \"@\" + domain_part + tld_part\n",
        "\n",
        "        else:\n",
        "            print(\"입력받은 { }은 이메일 패턴에 매칭되지 않아 마스킹할 수 없습니다.\".format(email))\n",
        "\n",
        "        # 이메일의 표준은 인터넷 표준 기구(IETF, Internet Engineering Task Force)에서 정의\n",
        "        # re.sub(pattern, replace, text)"
      ],
      "metadata": {
        "id": "DrNAFIfe4mFD"
      },
      "execution_count": 12,
      "outputs": []
    },
    {
      "cell_type": "code",
      "source": [
        "# from pseudonymizer.pseudonymizer import Pseudonymizer\n",
        "\n",
        "class ResidentNumberMaskingModule(Pseudonymizer):\n",
        "    \"\"\"\n",
        "    주민등록번호 마스킹 클래스\n",
        "    --------------------\n",
        "    주민등록번호 뒷자리를 복원할 수 없는 비가역성 기법으로 개인의 식별을 방지하는 구체 클래스\n",
        "    \"\"\"\n",
        "    def pseudonymizeData(self, resident_number):\n",
        "        \"\"\"한국 주민등록번호의 정규표현식을 기준으로 패턴 매칭이 되는 경우 뒷자리 7자리 중\n",
        "        성별정보 1자리를 제외한 나머지 출생지정보에 대한 6자리에 대한 마스킹을 수행하는 메서드\"\"\"\n",
        "        pattern_match = re.match(r\"^\\d{6}-[1-8]\\d{6}$\", resident_number)\n",
        "\n",
        "        if pattern_match:\n",
        "            front_part, rear_part = resident_number.split(\"-\")\n",
        "            return front_part + rear_part[0] + \"*\"*6\n",
        "\n",
        "        else:\n",
        "            print(\"입력받은 { }은 주민등록번호 패턴에 매칭되지 않아 마스킹할 수 없습니다.\".format(resident_number))"
      ],
      "metadata": {
        "id": "TAWBt--Fzg-N"
      },
      "execution_count": 14,
      "outputs": []
    },
    {
      "cell_type": "markdown",
      "source": [
        "```\n",
        "class PartialSuppressingPseudonymizer(Pseudonymizer):\n",
        "  \"\"\"부분 삭제 클래스: 삭제[부분, 로컬, 행, 열]\"\"\"\n",
        "  def __init__(self):\n",
        "\n",
        "  def pseudonymizeData(self, value):\n",
        "    \"\"\"주소의 상세 지번 정보를 삭제하거나 날짜 형식에서 연-월-일을 연-월만 남기고 일자를 삭제하는 메서드\"\"\"\n",
        "```"
      ],
      "metadata": {
        "id": "Ec3IppTIzip0"
      }
    },
    {
      "cell_type": "code",
      "source": [
        "# from pseudonymizer.pseudonymizer import Pseudonymizer\n",
        "# from typing import *\n",
        "\n",
        "class BusinessNumberMaskingModule(Pseudonymizer):\n",
        "    \"\"\"\n",
        "    사업자등록번호 마스킹 클래스\n",
        "    --------------------\n",
        "    사업자등록번호의 일부(2번째 혹은 3번째 자리)를 복원할 수 없는 비가역성 기법으로 개인의 식별을 방지하는 구체 클래스\n",
        "    \"\"\"\n",
        "    def __init__(self, masking_part: str):\n",
        "        self.masking_part = masking_part\n",
        "\n",
        "    def pseudonymizeData(self, business_number):\n",
        "        \"\"\"한국 사업자등록번호의 정규표현식을 기준으로 패턴 매칭이 되는 경우 마스킹을 수행하는 메서드\"\"\"\n",
        "        pattern_match = re.match(r\"^\\d{3}-\\d{2}-\\d{5}$\", business_number)\n",
        "        # ex) 124-86-23875\n",
        "\n",
        "        if pattern_match:\n",
        "            front_part, middle_part, rear_part = business_number.split(\"-\")\n",
        "\n",
        "           # 2번째 자리인 법인의 등록지역을 마스킹할 때\n",
        "            if self.masking_part == \"middle\":\n",
        "                return front_part + \"*\"*2 + rear_part\n",
        "           # 3번째 자리인 법인의 일련번호를 마스킹할 때\n",
        "            elif self.masking_part == \"rear\":\n",
        "                return front_part + middle_part + \"*\"*5\n",
        "           # 1번째 자리인 법인의 유형만을 남기고 마스킹할 때\n",
        "            elif self.masking_part == \"both\":\n",
        "                return front_part + \"*\"*2 + \"-\" + \"*\"*5\n",
        "        else:\n",
        "            print(\"입력받은 { }은 사업자등록번호 패턴에 매칭되지 않아 마스킹할 수 없습니다.\".format(business_number))"
      ],
      "metadata": {
        "id": "u8TAnTWZzsuE"
      },
      "execution_count": 15,
      "outputs": []
    },
    {
      "cell_type": "code",
      "source": [
        "# from pseudonymizer.pseudonymizer import Pseudonymizer\n",
        "# from typing import *\n",
        "\n",
        "class PhoneNumberMaskingModule(Pseudonymizer):\n",
        "    \"\"\"\n",
        "    연락처(휴대전화번호 혹은 일반전화번호) 마스킹 클래스\n",
        "    --------------------\n",
        "    3번째 자리를 복원할 수 없는 비가역성 기법으로 개인의 식별을 방지하는 구체 클래스\n",
        "    특히 연관된 다른 정보(생년월일, 기념일, 가족 전화번호, 기존 통화내역 등)와 쉽게 결합하여 사용자가 누구인지 식별가능하다는 점에서 개인정보에 해당함\n",
        "    \"\"\"\n",
        "    def pseudonymizeData(self, phone_number):\n",
        "        \"\"\"전화번호의 정규표현식을 기준으로 패턴 매칭이 되는 경우 마스킹을 수행하는 메서드\"\"\"\n",
        "        pattern_match = re.match(r\"^\\[0-9]-\\[0-9]-\\d{4}$\", phone_number)\n",
        "\n",
        "        if pattern_match:\n",
        "            front_part, middle_part, rear_part = phone_number.split(\"-\")\n",
        "            return front_part + middle_part + \"*\"*4\n",
        "        # 다만, 전화번호 마지막 4자리는 ****와 같은 기호로 대체하지 않고 전체를 해시값으로 암호화하기도 한다는 점에 유의하여야 함\n",
        "        # 암호화와 복호화는 알고리즘 및 키 관리 등 복잡한 과정이 필요하므로 높은 보안이 필요한 경우 고려함\n",
        "        else:\n",
        "            print(\"입력받은 { }은 전화번호 패턴에 매칭되지 않아 마스킹할 수 없습니다.\".format(phone_number))"
      ],
      "metadata": {
        "id": "SYmgaMiAzsqk"
      },
      "execution_count": 16,
      "outputs": []
    },
    {
      "cell_type": "code",
      "source": [
        "# from pseudonymizer.pseudonymizers.nameMasking import NameMaskingModule\n",
        "# from pseudonymizer.pseudonymizers.emailMasking import EmailMaskingModule\n",
        "# from pseudonymizer.pseudonymizers.residentNumMasking import ResidentNumberMaskingModule\n",
        "# from pseudonymizer.pseudonymizers.businessNumMasking import BusinessNumberMaskingModule\n",
        "# from pseudonymizer.pseudonymizers.phoneNumMasking import PhoneNumberMaskingModule\n",
        "\n",
        "# import re\n",
        "# from typing import *\n",
        "\n",
        "class MaskingPseudonymizer(Pseudonymizer):\n",
        "    def __init__(self, data_type: str, masking_domain: bool, masking_part: str):\n",
        "        \"\"\"data_type은 향후 pseudonymizer.py에서 Pseudonymn 실행 클래스의\n",
        "        self._dataframe[column] 개인식별정보의 유형으로 이름, 이메일, 주민등록번호, 사업자등록번호 중 하나로 선언\"\"\"\n",
        "        self.data_type = data_type\n",
        "        self.email_masker = EmailMaskingModule(masking_domain)\n",
        "        self.name_masker = NameMaskingModule()\n",
        "        self.resident_num_masker = ResidentNumberMaskingModule()\n",
        "        self.business_num_masker = BusinessNumberMaskingModule(masking_part)\n",
        "        self.phone_num_masker = PhoneNumberMaskingModule()\n",
        "\n",
        "    def pseudonymizeData(self, data):\n",
        "        if self.data_type == \"name\":\n",
        "            return self.name_masker.pseudonymzieData(data)\n",
        "        elif self.data_type == \"email\":\n",
        "            return self.email_masker.pseudonymzieData(data)\n",
        "        elif self.data_type == \"resident_number\":\n",
        "            return self.resident_num_masker.pseudonymizeData(data)\n",
        "        elif self.data_type == \"business_number\":\n",
        "            return self.business_num_masker.pseudonymizeData(data)\n",
        "        elif self.data_type == \"phone_number\":\n",
        "            return self.phone_num_masker.pseudonymizeData(data)\n",
        "        else:\n",
        "            raise ValueError(\"유효한 마스킹 대상 개인식별정보 데이터 타입이 아닙니다.\")"
      ],
      "metadata": {
        "id": "audPFzYxzxOy"
      },
      "execution_count": 20,
      "outputs": []
    },
    {
      "cell_type": "markdown",
      "source": [
        "### 6.**RoundingPseudonymizer**\n",
        "* 일반라운딩은 np.round()함수로 처리가능하므로 구현의 의미 없으므로 제외하며,\n",
        "* 제어라운딩은 라운딩 적용 전후의 항목 합계를 일치시키면서 소요되는 높은 연산량으로 실무에서 활용하지 않으므로 제외\n",
        "* 랜덤라운딩만 구현할 예정\n",
        "* 나이, 신장, 소득, 카드지출금액, 유동인구, 사용자 수 등에 적용"
      ],
      "metadata": {
        "id": "BNAdgGCl0Ahf"
      }
    },
    {
      "cell_type": "code",
      "source": [
        "# from pseudonymizer.pseudonymizer import Pseudonymizer\n",
        "# from typing import *\n",
        "\n",
        "class RandomRoundingPseudonymizer(Pseudonymizer):\n",
        "    \"\"\"\n",
        "    랜덤라운딩 구체 클래스\n",
        "    ----------------------\n",
        "    데이터의 길이가 일정하지 않은 경우 값의 크기에 따라 처리 단위를 다르게 올림, 내림, 반올림하는 가명처리 기법\n",
        "    \"\"\"\n",
        "    def __init__(self, rounding_type):\n",
        "        self.rounding_type = rounding_type\n",
        "\n",
        "    def pseudonymizeData(self, numeric):\n",
        "        \"\"\"수치데이터를 실제 수 기준으로 자릿수 올림 또는 내림하여 일반화(범주화)하는 메서드\"\"\"\n",
        "        if self.rounding_type == \"round_up\":\n",
        "            return numeric if numeric == int(numeric) else int(numeric)+1\n",
        "        elif self.rounding_type == \"round_down\":\n",
        "            return int(numeric)\n",
        "        elif self.rounding_type == \"round\":\n",
        "            decimal_part = numeric - int(numeric)\n",
        "            return int(numeric)+1 if decimal_part >= 0.5 else int(numeric)\n",
        "        else:\n",
        "            raise ValueError(\"입력받은 {}은 유효한 라운딩 방법이 아닙니다.\".format(self.rounding_type))"
      ],
      "metadata": {
        "id": "UmsH73HU0CxI"
      },
      "execution_count": 22,
      "outputs": []
    },
    {
      "cell_type": "code",
      "source": [
        "class TopAndBottomCodingPseudonymizer(Pseudonymizer):\n",
        "  \"\"\"상하단코딩 클래스\"\"\"\n",
        "\n",
        "  # def __init__(self, ):\n",
        "\n",
        "  def pseudonymizeData(self, value):\n",
        "    \"\"\"적은 수의 분포를 가진 양 끝단의 정보를 범주화 등의 기법을 적용하여 식별성을 낮추는 메서드\"\"\"\n",
        "    # if value is\n",
        "    return value\n",
        "    # valuevalue는 데이터프레임 람다 함수 내 익명(적적용)함수를 통해통해서 들어가므로 분포를 고려하는 방식을 적용하는게 쉽지는 않음"
      ],
      "metadata": {
        "id": "xScJxvhRAdf0"
      },
      "execution_count": null,
      "outputs": []
    },
    {
      "cell_type": "code",
      "source": [
        "class CategorizationPseudonymizer(Pseudonymizer):\n",
        "  \"\"\"범주화 클래스\"\"\"\n",
        "\n",
        "  def __init__(self, categories):\n",
        "    self.categories = categories\n",
        "\n",
        "  def pseudonymizeData(self, value, **kwargs):\n",
        "    \"\"\"범주화 로직 구현 메서드(범주화된 값으로 대체하거나 새로운 범주로 매핑)\"\"\"\n",
        "    # pd.cut외에 다른 방법은? 구간별로 분포를 나누고 범주를 할당하기 위해서는\n",
        "    # if type(value) is str:\n",
        "      #\n",
        "    # elif type(value) is integer:\n",
        "      #\n",
        "    # elif type(value) is float:\n",
        "      #\n",
        "    # else:\n",
        "      # 해당 변수의 자료형 자체를 범주화 클래스의 가명처리 인스턴스 적용 후에는, astype()로 범주형 변환\n",
        "    return value"
      ],
      "metadata": {
        "id": "s0ngRbezCIzm"
      },
      "execution_count": null,
      "outputs": []
    },
    {
      "cell_type": "code",
      "source": [
        "class HashingPseudonymizer(Pseudonymizer):\n",
        "  \"\"\"해시 알고리즘 SHA256 등을 활용한 암호화(추가정보) 생성 클래스\"\"\"\n",
        "\n",
        "  def pseudonymizeData(self, value, encoder):\n",
        "    \"\"\"sha256 알고리즘 기반의 해시함수 모듈로 해시값을 생성하되, 받은 문자열 합 일련번호에 솔트값을 추가하여 결합키 생성 메서드\n",
        "    문제\n",
        "    ----\n",
        "    1. 동일한 메시지는 동일한 다이제스트를 갖는다(레인보우테이블 공격으로 다이제스트의 원문을 쉽게 얻을 수 있다)\n",
        "    2. 생일 역설에 의한 해시충돌 브루스포스(무차별 대입 공격)\n",
        "\n",
        "    대안\n",
        "    ----\n",
        "    crypt 모듈 — 유닉스 비밀번호 확인 함수\n",
        "\n",
        "    \"\"\"\n",
        "    import hashlib\n",
        "    value.split\n",
        "    return hashlib.sha256( str(value).encode(encoder) ).hexdigest()"
      ],
      "metadata": {
        "id": "xqeLTomgCIxm"
      },
      "execution_count": null,
      "outputs": []
    },
    {
      "cell_type": "code",
      "source": [],
      "metadata": {
        "id": "kncmdi19GMm1"
      },
      "execution_count": null,
      "outputs": []
    },
    {
      "cell_type": "markdown",
      "source": [
        "### 7.**동질 집합(Equivalent class) 찾기와 프라이버시 보호 모델에 따른 PPDM(Privacy Preserving Data Mining)**"
      ],
      "metadata": {
        "id": "XgOM52nZ0PdQ"
      }
    },
    {
      "cell_type": "code",
      "source": [
        "class PrivacyPreservingModel:\n",
        "    \"\"\"개인식별가능정보 속성을 기준으로 데이터를 그룹화하는 클래스\"\"\"\n",
        "    def __init__(self, dataframe):\n",
        "        self._dataframe = dataframe\n",
        "        self.equivalent_class = []\n",
        "\n",
        "    def __str__(self):\n",
        "        \"\"\"주어진 데이터 셋의 컬럼 정보를 반환하는 메서드\"\"\"\n",
        "        return self._dataframe.info()\n",
        "\n",
        "    def categorizeEquivalentClass(self, attributes: List):\n",
        "        # -> Dict[str, List[str]]:\n",
        "        \"\"\"각 행(레코드)에 대한 개인식별가능정보 속성(컬럼)들 사이에 동질 집합 확인\"\"\"\n",
        "        # groupby_data = self._dataframe.groupby(attribute)\n",
        "        # for group, data in groupby_data:\n",
        "\n",
        "        groupby_data = self._dataframe[attributes].groupby(attributes)\n",
        "            # self._dataframe[attributes].groupby( list(range(len(self._dataframe[attributes]))) )\n",
        "\n",
        "        for _, group in groupby_data:\n",
        "            # print(group)\n",
        "            if len(group) > 1:\n",
        "                self.equivalent_class.append(\n",
        "                    group.index.tolist())\n",
        "            # print(self.equivalent_class)\n",
        "            # break\n",
        "\n",
        "        return group, self.equivalent_class\n",
        "\n",
        "    # def K_Anonymity(self):\n",
        "       # \"\"\"개별 레코드가 최소한 K개 이상의 동일한 속성값을 가지도록 하는 K-익명성 메서드\"\"\"\n",
        "\n",
        "    # def L_Diversity(self):\n",
        "       # \"\"\"각 동질집합 내 특정 민감 속성의 빈도가 L값 이상의 다양성을 가지도록 하는 L-다양성 메서드\"\"\"\n",
        "\n",
        "    # def T_Closeness(self):\n",
        "       # \"\"\"민감 정보(SA)의 분포를 전체 데이터 셋의 분포와 유사하도록 하는 T-근접성메서드\"\"\""
      ],
      "metadata": {
        "id": "z3QOUadWCIvf"
      },
      "execution_count": 23,
      "outputs": []
    },
    {
      "cell_type": "code",
      "source": [],
      "metadata": {
        "id": "g74px-vACIom"
      },
      "execution_count": null,
      "outputs": []
    },
    {
      "cell_type": "markdown",
      "source": [
        "### 8.**가명처리 실행 클래스**"
      ],
      "metadata": {
        "id": "NwTVe3UK0Ygd"
      }
    },
    {
      "cell_type": "code",
      "source": [
        "# ./pseudonymizer/pseudonymizer.py\n",
        "# from abc import ABC, ABCMeta, abstractmethod\n",
        "# import pandas as pd\n",
        "\n",
        "class Pseudonym:\n",
        "    def __init__(self, dataframe):\n",
        "        \"\"\"원본정보(재현데이터)와 가명처리 구체 클래스를 인스턴스 변수로 선언하는(초기화) 생성자\"\"\"\n",
        "        self._dataframe = dataframe\n",
        "        self._pseudonymizers = []\n",
        "        self._pseudonymDictionary = {}\n",
        "\n",
        "    def addPseudonymizer(self, pseudonymizer):\n",
        "        \"\"\"가명처리 추상 클래스에 대한 자식 클래스를 입력받는 pseudonymizer파라미터를 가지는 메서드\"\"\"\n",
        "        if isinstance(pseudonymizer, Pseudonymizer):\n",
        "            self._pseudonymizers.append(pseudonymizer)\n",
        "        else:\n",
        "            print(\"입력받은 {} 기술은 가명처리 기법에 추가할 수 없습니다.\".format(pseudonymizer))\n",
        "\n",
        "    def addDictionary(self, column, pseudonymizers):\n",
        "        \"\"\"가명처리를 수행할 데이터 컬럼명과 해당 열에 적용할 여러 가명처리 기법 리스트를 입력받아 다양한 비식별 조치를 수행할 수 있도록 지정하는 메서드\"\"\"\n",
        "        self._pseudonymDictionary[column] = pseudonymizers\n",
        "\n",
        "    def pseudonymizeData(self):\n",
        "        \"\"\"가명처리 기법을 해당 컬럼에 적용하는 메서드(apply함수를 활용하여 데이터프레임 모든 행, 특정 열에 비식별조치를 취하는 접근방식) \"\"\"\n",
        "        for column, pseudonymizers in self._pseudonymDictionary.items():\n",
        "            for pseudonymizer in pseudonymizers:\n",
        "                self._dataframe[column] = self._dataframe[column].apply(pseudonymizer.pseudonymizeData)\n",
        "\n",
        "    def getPseudonymizedDataframe(self):\n",
        "        \"\"\"가명처리 데이터 반환\"\"\"\n",
        "        return self._dataframe"
      ],
      "metadata": {
        "id": "iXHmaS_4Addt"
      },
      "execution_count": 24,
      "outputs": []
    },
    {
      "cell_type": "code",
      "source": [
        "# PseudonymizeFinanceData = Pseudonym(dataframe = DATA_FINANCE)"
      ],
      "metadata": {
        "id": "Az01RdzQB90N"
      },
      "execution_count": 25,
      "outputs": []
    },
    {
      "cell_type": "code",
      "source": [],
      "metadata": {
        "id": "Z95ssRfl0h6F"
      },
      "execution_count": null,
      "outputs": []
    }
  ]
}