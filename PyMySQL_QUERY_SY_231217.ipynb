{
 "cells": [
  {
   "cell_type": "code",
   "execution_count": null,
   "id": "a7541958",
   "metadata": {
    "scrolled": true
   },
   "outputs": [],
   "source": [
    "# pip install pymysql"
   ]
  },
  {
   "cell_type": "code",
   "execution_count": 1,
   "id": "e66ae293",
   "metadata": {},
   "outputs": [],
   "source": [
    "import pymysql"
   ]
  },
  {
   "cell_type": "code",
   "execution_count": 3,
   "id": "39ba4714",
   "metadata": {},
   "outputs": [],
   "source": [
    "# MySQL 접속 connect\n",
    "PseudonymDB = pymysql.connect(\n",
    "    host = \"localhost\",\n",
    "    # host = \"127.0.0.1\",\n",
    "      # 서버IP주소\n",
    "    port = 3306,\n",
    "    user = \"root\",\n",
    "      # 사용자명\n",
    "    password = \"0123\",\n",
    "      # 계정 암호\n",
    "    db = \"FINANCIALCONSUMER\",\n",
    "      # 데이터베이스명\n",
    "    charset = \"utf8\"\n",
    "      # 한글 인코딩 방식\n",
    ")"
   ]
  },
  {
   "cell_type": "code",
   "execution_count": 4,
   "id": "ee49d81b",
   "metadata": {},
   "outputs": [
    {
     "data": {
      "text/plain": [
       "<pymysql.connections.Connection at 0x205ee5141f0>"
      ]
     },
     "execution_count": 4,
     "metadata": {},
     "output_type": "execute_result"
    }
   ],
   "source": [
    "PseudonymDB"
   ]
  },
  {
   "cell_type": "code",
   "execution_count": null,
   "id": "64abeaad",
   "metadata": {},
   "outputs": [],
   "source": []
  }
 ],
 "metadata": {
  "kernelspec": {
   "display_name": "Python 3 (ipykernel)",
   "language": "python",
   "name": "python3"
  },
  "language_info": {
   "codemirror_mode": {
    "name": "ipython",
    "version": 3
   },
   "file_extension": ".py",
   "mimetype": "text/x-python",
   "name": "python",
   "nbconvert_exporter": "python",
   "pygments_lexer": "ipython3",
   "version": "3.10.9"
  }
 },
 "nbformat": 4,
 "nbformat_minor": 5
}
