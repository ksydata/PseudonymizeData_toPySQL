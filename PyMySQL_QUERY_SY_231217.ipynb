{
 "cells": [
  {
   "cell_type": "markdown",
   "id": "2a137bb7",
   "metadata": {
    "scrolled": true
   },
   "source": [
    "### 1.파이썬 스크립트를 통해 MySQL 데이터베이스에 접속하여 테이블을 조회하는 \n",
    "\n",
    "* import ⇢ db접속 ⇢ cursor 생성* ⇢ sql문 작성 ⇢ sql문 실행 ⇢ 실행 결과 확정(commit) ⇢ 연결 해제\n",
    "* 검색해온 데이터를 key:value 타입으로 가지고 오는 pymysul.cursor.Dictionary\n",
    "* insert, update, delete의 경우 자원 닫아주기 전에 commit을 해야 DB에 작업 내용이 저장\n",
    "```\n",
    "CURSOR = PseudonymDB.cursor()\n",
    "SQL = \"\"\"SELECT * FROM DATABASE.TABLE\"\"\"\n",
    "CURSOR.execute(SQL)\n",
    "PseudonymDB.commit()\n",
    "PseudonymDB.close()\n",
    "```"
   ]
  },
  {
   "cell_type": "code",
   "execution_count": 15,
   "id": "e66ae293",
   "metadata": {},
   "outputs": [],
   "source": [
    "# pip install pymysql\n",
    "import pymysql\n",
    "from typing import *"
   ]
  },
  {
   "cell_type": "code",
   "execution_count": 18,
   "id": "53e55647",
   "metadata": {},
   "outputs": [],
   "source": [
    "class PreprocessQuery:\n",
    "    \"\"\"데이터 전처리 목적의 SQL 쿼리 클래스\"\"\"\n",
    "    def __init__(self, pw):\n",
    "        self._pw = pw\n",
    "        self.Cursor = None\n",
    "        self.SQL = None\n",
    "    \n",
    "    def connectMySQL(self, \n",
    "                     serverIP: str, port_num: int, user_name: str, database_name: str, kr_encoder: str):\n",
    "        \"\"\"MySQL DBMS 데이터베이스에 접속: 서버IP주소, 사용자명, 계정 암호, 데이터베이스명, 한글 인코딩 방식\"\"\"\n",
    "        DBconnection = pymysql.connect(\n",
    "            host = serverIP, port = port_num,\n",
    "            user = user_name, password = self._pw,\n",
    "            db = database_name, charset = kr_encoder\n",
    "        )\n",
    "        self.Cursor = self.makeCursor(DBconnection)\n",
    "    \n",
    "    def makeCursor(self, connect):\n",
    "        \"\"\"커서 생성\"\"\"\n",
    "        Cursor = connect.cursor()\n",
    "        return Cursor\n",
    "    \n",
    "    def dataQueryLanguage(self, sql):\n",
    "        self.SQL = f\"\"\"{sql}\"\"\"\n",
    "    \n",
    "    def queryExecute(self):\n",
    "        self.Cursor.execute(self.SQL)\n",
    "        actionOutput = self.Cursor.fetchall()\n",
    "        return actionOutput\n",
    "    \n",
    "    def queryCommit(self):\n",
    "        self.Cursor.execute(self.SQL)\n",
    "        self.Cursor.commit()\n",
    "        self.Cursor.close()\n"
   ]
  },
  {
   "cell_type": "code",
   "execution_count": 21,
   "id": "1253b5ae",
   "metadata": {},
   "outputs": [],
   "source": [
    "queryObject = PreprocessQuery(pw = \"0123\")"
   ]
  },
  {
   "cell_type": "code",
   "execution_count": 23,
   "id": "8652fd79",
   "metadata": {},
   "outputs": [],
   "source": [
    "queryObject.connectMySQL( \n",
    "    serverIP = \"localhost\", port_num = 3306, user_name = \"root\", database_name = \"FINANCIALCONSUMER\", kr_encoder = \"utf8\")"
   ]
  },
  {
   "cell_type": "code",
   "execution_count": 24,
   "id": "c4f732cd",
   "metadata": {},
   "outputs": [],
   "source": [
    "queryObject.dataQueryLanguage(sql = \"DESC DATA_FINANCE;\")"
   ]
  },
  {
   "cell_type": "code",
   "execution_count": 25,
   "id": "46d399c9",
   "metadata": {},
   "outputs": [
    {
     "data": {
      "text/plain": [
       "(('NUM_SERIAL', 'int', 'NO', 'PRI', None, ''),\n",
       " ('NAME', 'varchar(10)', 'NO', '', None, ''),\n",
       " ('GENDER', 'varchar(10)', 'YES', '', None, ''),\n",
       " ('AGE', 'int', 'YES', '', None, ''),\n",
       " ('PHONE_NUMBER', 'varchar(20)', 'YES', '', None, ''),\n",
       " ('ZIP_CODE', 'int', 'YES', '', None, ''),\n",
       " ('HOME_ADDRESS', 'varchar(100)', 'YES', '', None, ''),\n",
       " ('HOME_TYPE', 'varchar(10)', 'YES', '', None, ''),\n",
       " ('INCOME_BRACKET', 'int', 'YES', '', None, ''),\n",
       " ('CREDIT_SCORE', 'int', 'YES', '', None, ''),\n",
       " ('REPAYMENT_RISK_INDEX', 'int', 'YES', '', None, ''),\n",
       " ('AMT_CREDITCARD_PAYMENT', 'int', 'YES', '', None, ''),\n",
       " ('AMT_CASHADVANCE_PAYMENT', 'int', 'YES', '', None, ''),\n",
       " ('NUM_CREDITCARD_ISSUANCES', 'int', 'YES', '', None, ''),\n",
       " ('NUM_CREDITCARD_CANCELED', 'int', 'YES', '', None, ''),\n",
       " ('TF_LOAN', 'varchar(10)', 'YES', '', None, ''),\n",
       " ('AMT_CREDITLOAN', 'int', 'YES', '', None, ''),\n",
       " ('AMT_CREDITLOAN_OUTSTANDING', 'int', 'YES', '', None, ''),\n",
       " ('TF_PENSION', 'varchar(10)', 'YES', '', None, ''),\n",
       " ('AMT_PENSION', 'int', 'YES', '', None, ''))"
      ]
     },
     "execution_count": 25,
     "metadata": {},
     "output_type": "execute_result"
    }
   ],
   "source": [
    "queryObject.queryExecute()"
   ]
  },
  {
   "cell_type": "code",
   "execution_count": null,
   "id": "ebc7f402",
   "metadata": {},
   "outputs": [],
   "source": []
  }
 ],
 "metadata": {
  "kernelspec": {
   "display_name": "Python 3 (ipykernel)",
   "language": "python",
   "name": "python3"
  },
  "language_info": {
   "codemirror_mode": {
    "name": "ipython",
    "version": 3
   },
   "file_extension": ".py",
   "mimetype": "text/x-python",
   "name": "python",
   "nbconvert_exporter": "python",
   "pygments_lexer": "ipython3",
   "version": "3.10.9"
  }
 },
 "nbformat": 4,
 "nbformat_minor": 5
}
