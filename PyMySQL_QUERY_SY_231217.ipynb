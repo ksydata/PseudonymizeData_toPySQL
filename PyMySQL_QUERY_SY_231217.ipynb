{
 "cells": [
  {
   "cell_type": "markdown",
   "id": "52d1b0a7",
   "metadata": {
    "scrolled": true
   },
   "source": [
    "### 1.파이썬 스크립트를 통해 MySQL 데이터베이스에 접속하여 테이블을 조회하는 방식\n",
    "\n",
    "* import ⇢ db접속 ⇢ cursor 생성* ⇢ sql문 작성 ⇢ sql문 실행 ⇢ 실행 결과 확정(commit) ⇢ 연결 해제\n",
    "* 검색해온 데이터를 key:value 타입으로 가지고 오는 pymysul.cursor.Dictionary\n",
    "* insert, update, delete의 경우 자원 닫아주기 전에 commit을 해야 DB에 작업 내용이 저장\n",
    "```\n",
    "CURSOR = PseudonymDB.cursor()\n",
    "SQL = \"\"\"SELECT * FROM DATABASE.TABLE\"\"\"\n",
    "CURSOR.execute(SQL)\n",
    "PseudonymDB.commit()\n",
    "PseudonymDB.close()\n",
    "```"
   ]
  },
  {
   "cell_type": "code",
   "execution_count": 1,
   "id": "e66ae293",
   "metadata": {},
   "outputs": [],
   "source": [
    "# pip install pymysql\n",
    "import pymysql\n",
    "from typing import *"
   ]
  },
  {
   "cell_type": "code",
   "execution_count": 2,
   "id": "954a493e",
   "metadata": {},
   "outputs": [],
   "source": [
    "class PreprocessQuery:\n",
    "    \"\"\"데이터 전처리 목적의 SQL 쿼리 클래스\"\"\"\n",
    "    def __init__(self, pw):\n",
    "        self._pw = pw\n",
    "        self.Cursor = None\n",
    "        self.SQL = None\n",
    "    \n",
    "    def connectMySQL(self, \n",
    "                     serverIP: str, port_num: int, user_name: str, database_name: str, kr_encoder: str):\n",
    "        \"\"\"MySQL DBMS 데이터베이스에 접속: 서버IP주소, 사용자명, 계정 암호, 데이터베이스명, 한글 인코딩 방식\"\"\"\n",
    "        DBconnection = pymysql.connect(\n",
    "            host = serverIP, port = port_num,\n",
    "            user = user_name, password = self._pw,\n",
    "            db = database_name, charset = kr_encoder\n",
    "        )\n",
    "        self.Cursor = self.makeCursor(DBconnection)\n",
    "    \n",
    "    def makeCursor(self, connect):\n",
    "        \"\"\"커서 생성\"\"\"\n",
    "        Cursor = connect.cursor()\n",
    "        return Cursor\n",
    "    \n",
    "    def dataQueryLanguage(self, sql):\n",
    "        self.SQL = f\"\"\"{sql}\"\"\"\n",
    "    \n",
    "    def queryExecute(self):\n",
    "        self.Cursor.execute(self.SQL)\n",
    "        actionOutput = self.Cursor.fetchall()\n",
    "        return actionOutput\n",
    "    \n",
    "    def queryCommit(self):\n",
    "        self.Cursor.execute(self.SQL)\n",
    "        self.Cursor.commit()\n",
    "        self.Cursor.close()\n"
   ]
  },
  {
   "cell_type": "code",
   "execution_count": 3,
   "id": "2150313c",
   "metadata": {},
   "outputs": [],
   "source": [
    "queryObject = PreprocessQuery(pw = \"0123\")"
   ]
  },
  {
   "cell_type": "code",
   "execution_count": 4,
   "id": "418672a0",
   "metadata": {},
   "outputs": [],
   "source": [
    "queryObject.connectMySQL( \n",
    "    serverIP = \"localhost\", port_num = 3306, user_name = \"root\", database_name = \"FINANCIALCONSUMER\", kr_encoder = \"utf8\")"
   ]
  },
  {
   "cell_type": "markdown",
   "id": "b84d5b7d",
   "metadata": {},
   "source": [
    "---"
   ]
  },
  {
   "cell_type": "code",
   "execution_count": 47,
   "id": "d1076ce5",
   "metadata": {
    "collapsed": true
   },
   "outputs": [
    {
     "data": {
      "text/plain": [
       "(('NUM_SERIAL', 'int', 'NO', 'PRI', None, ''),\n",
       " ('NAME', 'varchar(10)', 'NO', '', None, ''),\n",
       " ('GENDER', 'varchar(10)', 'YES', '', None, ''),\n",
       " ('AGE', 'int', 'YES', '', None, ''),\n",
       " ('PHONE_NUMBER', 'varchar(20)', 'YES', '', None, ''),\n",
       " ('ZIP_CODE', 'int', 'YES', '', None, ''),\n",
       " ('HOME_ADDRESS', 'varchar(100)', 'YES', '', None, ''),\n",
       " ('HOME_TYPE', 'varchar(10)', 'YES', '', None, ''),\n",
       " ('INCOME_BRACKET', 'int', 'YES', '', None, ''),\n",
       " ('CREDIT_SCORE', 'int', 'YES', '', None, ''),\n",
       " ('REPAYMENT_RISK_INDEX', 'int', 'YES', '', None, ''),\n",
       " ('AMT_CREDITCARD_PAYMENT', 'int', 'YES', '', None, ''),\n",
       " ('AMT_CASHADVANCE_PAYMENT', 'int', 'YES', '', None, ''),\n",
       " ('NUM_CREDITCARD_ISSUANCES', 'int', 'YES', '', None, ''),\n",
       " ('NUM_CREDITCARD_CANCELED', 'int', 'YES', '', None, ''),\n",
       " ('TF_LOAN', 'varchar(10)', 'YES', '', None, ''),\n",
       " ('AMT_CREDITLOAN', 'int', 'YES', '', None, ''),\n",
       " ('AMT_CREDITLOAN_OUTSTANDING', 'int', 'YES', '', None, ''),\n",
       " ('TF_PENSION', 'varchar(10)', 'YES', '', None, ''),\n",
       " ('AMT_PENSION', 'int', 'YES', '', None, ''))"
      ]
     },
     "execution_count": 47,
     "metadata": {},
     "output_type": "execute_result"
    }
   ],
   "source": [
    "queryObject.dataQueryLanguage(sql = \"DESC DATA_FINANCE;\")\n",
    "queryObject.queryExecute()"
   ]
  },
  {
   "cell_type": "code",
   "execution_count": 46,
   "id": "f2eabbd5",
   "metadata": {
    "collapsed": true
   },
   "outputs": [
    {
     "data": {
      "text/plain": [
       "(('NUM_SERIAL', 'int', 'NO', 'PRI', None, ''),\n",
       " ('NAME', 'varchar(10)', 'NO', '', None, ''),\n",
       " ('GENDER', 'varchar(10)', 'YES', '', None, ''),\n",
       " ('AGE', 'int', 'YES', '', None, ''),\n",
       " ('JOIN_DATE', 'date', 'YES', '', None, ''),\n",
       " ('PHONE_NUMBER', 'varchar(20)', 'YES', '', None, ''),\n",
       " ('ZIP_CODE', 'int', 'YES', '', None, ''),\n",
       " ('SHIPPING_ADDRESS', 'varchar(100)', 'YES', '', None, ''),\n",
       " ('NUM_PURCHASES_BOOKS', 'int', 'YES', '', None, ''),\n",
       " ('AMT_PURCHASES_BOOKS', 'int', 'YES', '', None, ''),\n",
       " ('NUM_PURCHASES_CULTURE', 'int', 'YES', '', None, ''),\n",
       " ('AMT_PURCHASES_CULTURE', 'int', 'YES', '', None, ''),\n",
       " ('NUM_PURCHASES_EDU', 'int', 'YES', '', None, ''),\n",
       " ('AMT_PURCHASES_EDU', 'int', 'YES', '', None, ''),\n",
       " ('AMT_USAGE_MEMBERSHIP', 'int', 'YES', '', None, ''),\n",
       " ('AMT_USAGE_GIFTCERTIFICATE', 'int', 'YES', '', None, ''))"
      ]
     },
     "execution_count": 46,
     "metadata": {},
     "output_type": "execute_result"
    }
   ],
   "source": [
    "queryObject.dataQueryLanguage(sql = \"DESC DATA_RETAIL;\")\n",
    "queryObject.queryExecute()"
   ]
  },
  {
   "cell_type": "code",
   "execution_count": 48,
   "id": "36a9108b",
   "metadata": {},
   "outputs": [
    {
     "data": {
      "text/plain": [
       "(('NUM_SERIAL', 'int', 'NO', 'PRI', None, ''),\n",
       " ('AGE', 'int', 'YES', '', None, ''),\n",
       " ('NAME', 'varchar(10)', 'NO', '', None, ''),\n",
       " ('GENDER', 'varchar(10)', 'YES', '', None, ''),\n",
       " ('ZIP_CODE', 'int', 'YES', '', None, ''),\n",
       " ('DETAIL_ADDRESS', 'varchar(100)', 'YES', '', None, ''),\n",
       " ('INDUSTRY_TYPE', 'varchar(20)', 'YES', '', None, ''),\n",
       " ('SUBSCRIPTION_SERVICE', 'varchar(100)', 'YES', '', None, ''),\n",
       " ('SUBSCRIPTION_FEE', 'int', 'YES', '', None, ''),\n",
       " ('SUBSCRIPTION_DATE', 'date', 'YES', '', None, ''),\n",
       " ('MEMBER_TYPE', 'varchar(20)', 'YES', '', None, ''),\n",
       " ('TF_BLACKLIST', 'varchar(10)', 'YES', '', None, ''),\n",
       " ('NUM_OVERDUE_PAYMENT', 'int', 'YES', '', None, ''),\n",
       " ('MEMBERSHIP_GRADE', 'varchar(20)', 'YES', '', None, ''),\n",
       " ('TF_CONTENTS_PAYMENT', 'varchar(10)', 'YES', '', None, ''),\n",
       " ('AMT_CONTENTS_PAYMENT', 'int', 'YES', '', None, ''),\n",
       " ('EXTRA_SERVICE', 'varchar(100)', 'YES', '', None, ''))"
      ]
     },
     "execution_count": 48,
     "metadata": {},
     "output_type": "execute_result"
    }
   ],
   "source": [
    "queryObject.dataQueryLanguage(sql = \"DESC DATA_MOBILE_COMMUNICATION;\")\n",
    "queryObject.queryExecute()"
   ]
  },
  {
   "cell_type": "markdown",
   "id": "944dad52",
   "metadata": {},
   "source": [
    "### 2.DQL문\n",
    "\n",
    "* **데이터 정제의 의의**\n",
    "    \n",
    "    원본 데이터에 결측값이나 일관적이지 않은 데이터가 있는 경우 등에 낮은 데이터 품질을 개선하거나 분석을 더 쉽게 수행하고 더 의미 있는 결과를 이끌어내는데 필요\n",
    "\n",
    "* **결측값 탐색**\n",
    "    \n",
    "    ```DQL = \"SELECT {} FROM DATA_FINANCE WHERE {} IS NULL\".format(\"GENDER\", \"GENDER\")```\n",
    "    \n",
    "    ```DQL = \"SELECT {} FROM DATA_MOBILE_COMMUNICATION WHERE {} IS NULL\".format(\"SUBSCRIPTION_FEE\", \"SUBSCRIPTION_FEE\")```\n",
    "\n",
    "* **Fill Forward or Fill Backward**\n",
    "\n",
    "    ```DQL = \"SELECT LAG(SUBSCRIPTION_FEE) OVER (PARTITION BY SUBSCRIPTION_SERVICE ORDER BY SUBSCRIPTION_DATE) AS SUBSCRIPTION_FEE_IMPUTE FROM DATA_MOBILE_COMMUNICATION\"```\n",
    "\n",
    "* **Postgres Database에서 생성하는 날짜 차원 테이블**\n",
    "    \n",
    "    ```DQL = \"SELECT * FROM GENERATE_SERIES('2023-01-01'::timestamp, '2023-12-31', '1 day')\"```\n",
    "    \n",
    "    ProgrammingError: (1064, \"You have an error in your SQL syntax; check the manual that corresponds to your MySQL server version for the right syntax to use near '('2023-01-01'::timestamp, '2023-12-31', '1 day')' at line 1\")\n"
   ]
  },
  {
   "cell_type": "markdown",
   "id": "7910307c",
   "metadata": {},
   "source": [
    "* **데이터 셰이핑(데이터가 열과 행에 저장되는 형태를 조정하는 작업)**\n",
    "\n",
    "    데이터 세밀도를 파악하고 데이터 평탄화를 수행함(행의 수 줄이기)\n",
    "    \n",
    "    보고서 작성과 대시보드 생성을 위해 데이터를 BI 도구에 가져올 때, 그 데이터가 어떻게 사용될지 미리 이해하는 일이 중요함. 데이터 크기가 작으면서도 이해하기 쉽게끔 집계되어 있어야 하며, 대시보드를 실행하는데 시간이 오래 걸리지 않도록 핵심적인 내용만 저장된 형태로 데이터를 빠르게 로드할 수 있어야 함. "
   ]
  },
  {
   "cell_type": "markdown",
   "id": "d711d263",
   "metadata": {},
   "source": [
    "### 3.시계열 분석\n",
    "\n",
    "예측을 위해 시간에 따른 데이터의 변화를 이해하고 정량화함."
   ]
  },
  {
   "cell_type": "code",
   "execution_count": 61,
   "id": "2415d7e0",
   "metadata": {},
   "outputs": [
    {
     "data": {
      "text/plain": [
       "\"SELECT * FROM GENERATE_SERIES('2023-01-01'::timestamp, '2023-12-31', '1 day')\""
      ]
     },
     "execution_count": 61,
     "metadata": {},
     "output_type": "execute_result"
    }
   ],
   "source": [
    "DQL = \"\"\"SELECT \"\"\""
   ]
  },
  {
   "cell_type": "code",
   "execution_count": null,
   "id": "75eae2b2",
   "metadata": {},
   "outputs": [],
   "source": [
    "# DQL = input(\"SQL 쿼리문 입력변수 = \")\n",
    "queryObject.dataQueryLanguage(sql = DQL)\n",
    "queryObject.queryExecute()"
   ]
  }
 ],
 "metadata": {
  "kernelspec": {
   "display_name": "Python 3 (ipykernel)",
   "language": "python",
   "name": "python3"
  },
  "language_info": {
   "codemirror_mode": {
    "name": "ipython",
    "version": 3
   },
   "file_extension": ".py",
   "mimetype": "text/x-python",
   "name": "python",
   "nbconvert_exporter": "python",
   "pygments_lexer": "ipython3",
   "version": "3.10.9"
  }
 },
 "nbformat": 4,
 "nbformat_minor": 5
}
