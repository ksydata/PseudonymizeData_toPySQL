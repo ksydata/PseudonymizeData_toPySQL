{
 "cells": [
  {
   "cell_type": "markdown",
   "id": "52d1b0a7",
   "metadata": {
    "scrolled": true
   },
   "source": [
    "### 1.파이썬 스크립트를 통해 MySQL 데이터베이스에 접속하여 테이블을 조회하는 방식\n",
    "\n",
    "* import ⇢ db접속 ⇢ cursor 생성* ⇢ sql문 작성 ⇢ sql문 실행 ⇢ 실행 결과 확정(commit) ⇢ 연결 해제\n",
    "* 검색해온 데이터를 key:value 타입으로 가지고 오는 pymysul.cursor.Dictionary\n",
    "* insert, update, delete의 경우 자원 닫아주기 전에 commit을 해야 DB에 작업 내용이 저장\n",
    "```\n",
    "CURSOR = PseudonymDB.cursor()\n",
    "SQL = \"\"\"SELECT * FROM DATABASE.TABLE\"\"\"\n",
    "CURSOR.execute(SQL)\n",
    "PseudonymDB.commit()\n",
    "PseudonymDB.close()\n",
    "```"
   ]
  },
  {
   "cell_type": "code",
   "execution_count": 18,
   "id": "e66ae293",
   "metadata": {},
   "outputs": [],
   "source": [
    "# pip install pymysql\n",
    "# pip install prettytable\n",
    "import pymysql\n",
    "from typing import *\n",
    "from prettytable import PrettyTable"
   ]
  },
  {
   "cell_type": "code",
   "execution_count": 36,
   "id": "f8cb3bbe",
   "metadata": {},
   "outputs": [],
   "source": [
    "import matplotlib.pyplot as plt\n",
    "import seaborn as sns"
   ]
  },
  {
   "cell_type": "code",
   "execution_count": 2,
   "id": "954a493e",
   "metadata": {},
   "outputs": [],
   "source": [
    "class PreprocessQuery:\n",
    "    \"\"\"데이터 전처리 목적의 SQL 쿼리 클래스\"\"\"\n",
    "    def __init__(self, pw):\n",
    "        self._pw = pw\n",
    "        self.connection = None\n",
    "        self.Cursor = None\n",
    "        self.SQL = None\n",
    "    \n",
    "    def connectMySQL(self, \n",
    "                     serverIP: str, port_num: int, user_name: str, database_name: str, kr_encoder: str):\n",
    "        \"\"\"MySQL DBMS 데이터베이스에 접속: 서버IP주소, 사용자명, 계정 암호, 데이터베이스명, 한글 인코딩 방식\"\"\"\n",
    "        try:\n",
    "            self.connection = pymysql.connect(\n",
    "                host = serverIP, port = port_num,\n",
    "                user = user_name, password = self._pw,\n",
    "                db = database_name, charset = kr_encoder\n",
    "            )\n",
    "            self.Cursor = self.makeCursor(self.connection)\n",
    "        except pymysql.Error as e:\n",
    "            print(f\"Error Connecting to MySQL from Python: {e}\")\n",
    "    \n",
    "    def makeCursor(self, connect):\n",
    "        \"\"\"커서 생성\"\"\"\n",
    "        return connect.cursor()\n",
    "    \n",
    "    def dataQueryLanguage(self, sql):\n",
    "        \"\"\"SQL 쿼리문 작성\"\"\"\n",
    "        self.SQL = f\"{sql}\"\n",
    "    \n",
    "    def queryExecute(self):\n",
    "        \"\"\"SQL 쿼리문 실행 및 예외처리\"\"\"\n",
    "        try:\n",
    "            self.Cursor.execute(self.SQL)\n",
    "            actionOutput = self.Cursor.fetchall()\n",
    "            return actionOutput\n",
    "        except pymysql.Error as e:\n",
    "            print(f\"Error Executing Query: {e}\")\n",
    "    \n",
    "    def queryCommit(self):\n",
    "        \"\"\"실행 결과 확정\"\"\"\n",
    "        self.Cursor.execute(self.SQL)\n",
    "        self.Cursor.commit()\n",
    "    \n",
    "    def closeConnection(self):\n",
    "        \"\"\"연결 및 커서 닫기\"\"\"\n",
    "        if self.Cursor:\n",
    "            self.Cursor.close()\n",
    "        if self.connection:\n",
    "            self.connection.close()"
   ]
  },
  {
   "cell_type": "code",
   "execution_count": 3,
   "id": "2150313c",
   "metadata": {},
   "outputs": [],
   "source": [
    "queryObject = PreprocessQuery(pw = \"0123\")"
   ]
  },
  {
   "cell_type": "code",
   "execution_count": 4,
   "id": "418672a0",
   "metadata": {},
   "outputs": [],
   "source": [
    "queryObject.connectMySQL( \n",
    "    serverIP = \"localhost\", port_num = 3306, user_name = \"root\", database_name = \"FINANCIALCONSUMER\", kr_encoder = \"utf8\")"
   ]
  },
  {
   "cell_type": "markdown",
   "id": "b84d5b7d",
   "metadata": {},
   "source": [
    "---"
   ]
  },
  {
   "cell_type": "code",
   "execution_count": 5,
   "id": "d1076ce5",
   "metadata": {},
   "outputs": [
    {
     "data": {
      "text/plain": [
       "(('NUM_SERIAL', 'int', 'NO', 'PRI', None, ''),\n",
       " ('NAME', 'varchar(10)', 'NO', '', None, ''),\n",
       " ('GENDER', 'varchar(10)', 'YES', '', None, ''),\n",
       " ('AGE', 'int', 'YES', '', None, ''),\n",
       " ('PHONE_NUMBER', 'varchar(20)', 'YES', '', None, ''),\n",
       " ('ZIP_CODE', 'int', 'YES', '', None, ''),\n",
       " ('HOME_ADDRESS', 'varchar(100)', 'YES', '', None, ''),\n",
       " ('HOME_TYPE', 'varchar(10)', 'YES', '', None, ''),\n",
       " ('INCOME_BRACKET', 'int', 'YES', '', None, ''),\n",
       " ('CREDIT_SCORE', 'int', 'YES', '', None, ''),\n",
       " ('REPAYMENT_RISK_INDEX', 'int', 'YES', '', None, ''),\n",
       " ('AMT_CREDITCARD_PAYMENT', 'int', 'YES', '', None, ''),\n",
       " ('AMT_CASHADVANCE_PAYMENT', 'int', 'YES', '', None, ''),\n",
       " ('NUM_CREDITCARD_ISSUANCES', 'int', 'YES', '', None, ''),\n",
       " ('NUM_CREDITCARD_CANCELED', 'int', 'YES', '', None, ''),\n",
       " ('TF_LOAN', 'varchar(10)', 'YES', '', None, ''),\n",
       " ('AMT_CREDITLOAN', 'int', 'YES', '', None, ''),\n",
       " ('AMT_CREDITLOAN_OUTSTANDING', 'int', 'YES', '', None, ''),\n",
       " ('TF_PENSION', 'varchar(10)', 'YES', '', None, ''),\n",
       " ('AMT_PENSION', 'int', 'YES', '', None, ''))"
      ]
     },
     "execution_count": 5,
     "metadata": {},
     "output_type": "execute_result"
    }
   ],
   "source": [
    "queryObject.dataQueryLanguage(sql = \"DESC DATA_FINANCE;\")\n",
    "queryObject.queryExecute()"
   ]
  },
  {
   "cell_type": "code",
   "execution_count": 6,
   "id": "f2eabbd5",
   "metadata": {},
   "outputs": [
    {
     "data": {
      "text/plain": [
       "(('NUM_SERIAL', 'int', 'NO', 'PRI', None, ''),\n",
       " ('NAME', 'varchar(10)', 'NO', '', None, ''),\n",
       " ('GENDER', 'varchar(10)', 'YES', '', None, ''),\n",
       " ('AGE', 'int', 'YES', '', None, ''),\n",
       " ('JOIN_DATE', 'date', 'YES', '', None, ''),\n",
       " ('PHONE_NUMBER', 'varchar(20)', 'YES', '', None, ''),\n",
       " ('ZIP_CODE', 'int', 'YES', '', None, ''),\n",
       " ('SHIPPING_ADDRESS', 'varchar(100)', 'YES', '', None, ''),\n",
       " ('NUM_PURCHASES_BOOKS', 'int', 'YES', '', None, ''),\n",
       " ('AMT_PURCHASES_BOOKS', 'int', 'YES', '', None, ''),\n",
       " ('NUM_PURCHASES_CULTURE', 'int', 'YES', '', None, ''),\n",
       " ('AMT_PURCHASES_CULTURE', 'int', 'YES', '', None, ''),\n",
       " ('NUM_PURCHASES_EDU', 'int', 'YES', '', None, ''),\n",
       " ('AMT_PURCHASES_EDU', 'int', 'YES', '', None, ''),\n",
       " ('AMT_USAGE_MEMBERSHIP', 'int', 'YES', '', None, ''),\n",
       " ('AMT_USAGE_GIFTCERTIFICATE', 'int', 'YES', '', None, ''))"
      ]
     },
     "execution_count": 6,
     "metadata": {},
     "output_type": "execute_result"
    }
   ],
   "source": [
    "queryObject.dataQueryLanguage(sql = \"DESC DATA_RETAIL;\")\n",
    "queryObject.queryExecute()"
   ]
  },
  {
   "cell_type": "code",
   "execution_count": 7,
   "id": "18bfe6ec",
   "metadata": {},
   "outputs": [
    {
     "data": {
      "text/plain": [
       "(('NUM_SERIAL', 'int', 'NO', 'PRI', None, ''),\n",
       " ('AGE', 'int', 'YES', '', None, ''),\n",
       " ('NAME', 'varchar(10)', 'NO', '', None, ''),\n",
       " ('GENDER', 'varchar(10)', 'YES', '', None, ''),\n",
       " ('ZIP_CODE', 'int', 'YES', '', None, ''),\n",
       " ('DETAIL_ADDRESS', 'varchar(100)', 'YES', '', None, ''),\n",
       " ('INDUSTRY_TYPE', 'varchar(20)', 'YES', '', None, ''),\n",
       " ('SUBSCRIPTION_SERVICE', 'varchar(100)', 'YES', '', None, ''),\n",
       " ('SUBSCRIPTION_FEE', 'int', 'YES', '', None, ''),\n",
       " ('SUBSCRIPTION_DATE', 'date', 'YES', '', None, ''),\n",
       " ('MEMBER_TYPE', 'varchar(20)', 'YES', '', None, ''),\n",
       " ('TF_BLACKLIST', 'varchar(10)', 'YES', '', None, ''),\n",
       " ('NUM_OVERDUE_PAYMENT', 'int', 'YES', '', None, ''),\n",
       " ('MEMBERSHIP_GRADE', 'varchar(20)', 'YES', '', None, ''),\n",
       " ('TF_CONTENTS_PAYMENT', 'varchar(10)', 'YES', '', None, ''),\n",
       " ('AMT_CONTENTS_PAYMENT', 'int', 'YES', '', None, ''),\n",
       " ('EXTRA_SERVICE', 'varchar(100)', 'YES', '', None, ''))"
      ]
     },
     "execution_count": 7,
     "metadata": {},
     "output_type": "execute_result"
    }
   ],
   "source": [
    "queryObject.dataQueryLanguage(sql = \"DESC DATA_MOBILE_COMMUNICATION;\")\n",
    "queryObject.queryExecute()"
   ]
  },
  {
   "cell_type": "code",
   "execution_count": 8,
   "id": "f183b4b7",
   "metadata": {},
   "outputs": [
    {
     "data": {
      "text/plain": [
       "(('NUM_SERIAL', 'int', 'NO', 'PRI', None, ''),\n",
       " ('NAME', 'varchar(10)', 'NO', '', None, ''),\n",
       " ('GENDER', 'varchar(10)', 'YES', '', None, ''),\n",
       " ('PHONE_NUMBER', 'varchar(20)', 'YES', '', None, ''),\n",
       " ('BIRTH_DATE', 'date', 'YES', '', None, ''),\n",
       " ('PAYMENT_DATE', 'date', 'YES', '', None, ''),\n",
       " ('AMT_CREDITCARD_PAYMENT', 'int', 'YES', '', None, ''),\n",
       " ('AFFILIGATESTORE_ADDRESS', 'varchar(100)', 'YES', '', None, ''),\n",
       " ('AFFILIGATESTORE_INDUSTRY_CODE', 'varchar(10)', 'YES', '', None, ''),\n",
       " ('AFFILIGATESTORE_INDUSTRY_TYPE', 'varchar(20)', 'YES', '', None, ''))"
      ]
     },
     "execution_count": 8,
     "metadata": {},
     "output_type": "execute_result"
    }
   ],
   "source": [
    "queryObject.dataQueryLanguage(sql = \"DESC DATA_JOIN_CARDPAYMENT;\")\n",
    "queryObject.queryExecute()"
   ]
  },
  {
   "cell_type": "code",
   "execution_count": 9,
   "id": "eda6e8c7",
   "metadata": {},
   "outputs": [
    {
     "data": {
      "text/plain": [
       "(('NUM_SERIAL', 'int', 'NO', 'PRI', None, ''),\n",
       " ('NAME', 'varchar(10)', 'NO', '', None, ''),\n",
       " ('BIRTH_DATE', 'date', 'YES', '', None, ''),\n",
       " ('GENDER', 'varchar(10)', 'YES', '', None, ''),\n",
       " ('EMAIL', 'varchar(100)', 'YES', '', None, ''),\n",
       " ('PHONE_NUMBER', 'varchar(20)', 'YES', '', None, ''),\n",
       " ('TF_BUSINESS_MEMBER', 'varchar(10)', 'YES', '', None, ''),\n",
       " ('USE_SERVICE_AREA', 'varchar(100)', 'YES', '', None, ''),\n",
       " ('USE_SERVICE_DATE', 'date', 'YES', '', None, ''))"
      ]
     },
     "execution_count": 9,
     "metadata": {},
     "output_type": "execute_result"
    }
   ],
   "source": [
    "queryObject.dataQueryLanguage(sql = \"DESC DATA_JOIN_ACCOMODATIONAPP;\")\n",
    "queryObject.queryExecute()"
   ]
  },
  {
   "cell_type": "markdown",
   "id": "eedefb23",
   "metadata": {},
   "source": [
    "### 2.DQL문\n",
    "\n",
    "* **데이터 정제의 의의**\n",
    "    \n",
    "    원본 데이터에 결측값이나 일관적이지 않은 데이터가 있는 경우 등에 낮은 데이터 품질을 개선하거나 분석을 더 쉽게 수행하고 더 의미 있는 결과를 이끌어내는데 필요\n",
    "\n",
    "* **결측값 탐색**\n",
    "    \n",
    "    ```DQL = \"SELECT {} FROM DATA_FINANCE WHERE {} IS NULL\".format(\"GENDER\", \"GENDER\")```\n",
    "    \n",
    "    ```DQL = \"SELECT {} FROM DATA_MOBILE_COMMUNICATION WHERE {} IS NULL\".format(\"SUBSCRIPTION_FEE\", \"SUBSCRIPTION_FEE\")```\n",
    "\n",
    "* **Fill Forward or Fill Backward**\n",
    "\n",
    "    ```DQL = \"SELECT LAG(SUBSCRIPTION_FEE) OVER (PARTITION BY SUBSCRIPTION_SERVICE ORDER BY SUBSCRIPTION_DATE) AS SUBSCRIPTION_FEE_IMPUTE FROM DATA_MOBILE_COMMUNICATION\"```\n",
    "\n",
    "* **Postgres Database에서 생성하는 날짜 차원 테이블**\n",
    "    \n",
    "    ```DQL = \"SELECT * FROM GENERATE_SERIES('2023-01-01'::timestamp, '2023-12-31', '1 day')\"```\n",
    "    \n",
    "    ProgrammingError: (1064, \"You have an error in your SQL syntax; check the manual that corresponds to your MySQL server version for the right syntax to use near '('2023-01-01'::timestamp, '2023-12-31', '1 day')' at line 1\")\n"
   ]
  },
  {
   "cell_type": "markdown",
   "id": "513ec73e",
   "metadata": {},
   "source": [
    "* **데이터 셰이핑(데이터가 열과 행에 저장되는 형태를 조정하는 작업)**\n",
    "\n",
    "    데이터 세밀도를 파악하고 데이터 평탄화를 수행함(행의 수 줄이기)\n",
    "    \n",
    "    보고서 작성과 대시보드 생성을 위해 데이터를 BI 도구에 가져올 때, 그 데이터가 어떻게 사용될지 미리 이해하는 일이 중요함. 데이터 크기가 작으면서도 이해하기 쉽게끔 집계되어 있어야 하며, 대시보드를 실행하는데 시간이 오래 걸리지 않도록 핵심적인 내용만 저장된 형태로 데이터를 빠르게 로드할 수 있어야 함. "
   ]
  },
  {
   "cell_type": "markdown",
   "id": "0c11b625",
   "metadata": {},
   "source": [
    "### 3.시계열 분석\n",
    "\n",
    "* 예측을 위해 시간에 따른 데이터의 변화를 이해하고 정량화함. 시계열 데이터에서는 값이 시간에 따라 계속 변동하는 일이 흔함. \n",
    "\n",
    "* 모든 사용자가 동이한 시간대 내 지역에 산다면 전혀 문제가 되지 않지만, 전 세계에 흩어져 있다면 DB에 저장된 UTC(Coordinated Universal Time)을 각 사용자의 로컬 시간에 맞게 변환해 분석해야 함. 즉, UTC를 사용하면 데이터에 로그 또는 이벤트가 발생한 로컬 시간을 확인할 수 없다는 단점이 존재함.\n",
    "\n",
    "* **특정일자의 시작이 되는 unit의 첫날을 가져오는 함수**\n",
    "    \n",
    "    ```DQL = \"\"\"SELECT DATE_TRUNC('month', JOIN_DATE) AS JOIN_MONTH FROM DATA_RETAIL\"\"\"```\n",
    "    \n",
    "    ```DQL = \"\"\"SELECT DATE_FORMAT(JOIN_DATE, \"%Y-%m-01\") AS JOIN_MONTH FROM DATA_RETAIL\"\"\"```\n",
    "    \n",
    "    \n",
    "* **날짜 계산**\n",
    "\n",
    "    고객의 나이, 회원 유지 기간, 두 이벤트 사이의 간격, 특정 기간 내 이벤트 발생 횟수 등을 계산할 때 활용함. \n",
    "    \n",
    "    서로 다른 출처의 날짜를 조합하는 경우에는 타임스탬프의 시간이 제대로 동기화되었는지(사용자 기기, 서버에 저장된 데이터 등 출처가 다른 경우) 확인하여야 함. 우선 서버의 타임스탬프와 사용자의 타임스탬프 값이 다른 데이터를 찾음. \n",
    "    \n",
    "    만약 두 타임스탬프의 시간 차이가 특정 값보다 크면 데이터를 삭제하고, 특정 값보다 작다면 데이터를 버리지 않고 보정하여 남겨둠. \n",
    "    \n",
    "* **시간 윈도우 기반의 시계열 트렌드(데이터가 움직이는 방향) 분석**\n",
    "\n",
    "    ```DQL = \"\"\"SELECT DATE_FORMAT(JOIN_DATE, \"%Y-%m\") AS JOIN_MONTH, COUNT(AMT_USAGE_MEMBERSHIP) AS COUNT_MEMBERSHIP, SUM(AMT_USAGE_MEMBERSHIP) AS SALES_MEMBERSHIP, COUNT(AMT_USAGE_GIFTCERTIFICATE) AS COUNT_GIFTCERTIFICATE, SUM(AMT_USAGE_GIFTCERTIFICATE) AS SALES_GIFTCERTIFICATE FROM DATA_RETAIL GROUP BY 1 ORDER BY JOIN_MONTH\"\"\"```"
   ]
  },
  {
   "cell_type": "code",
   "execution_count": 70,
   "id": "af1c7618",
   "metadata": {},
   "outputs": [],
   "source": [
    "# 본 SQL 쿼리는 데이터베이스에서 모바일 통신 테이블에서 월별 구독 매출과 해당 월의 VIP 등급 회원 매출에 대한 분석을 수행\n",
    "DQL = \"\"\"SELECT \n",
    "            SUBSCRIPTION_MONTH,\n",
    "            SUBSCRIPTION_SALES,\n",
    "            (SUBSCRIPTION_SALES / INDEX_SUBSCRIPTION - 1) * 100 AS PCT_FROM_INDEX\n",
    "            -- [PCT_FROM_INDEX] 해당 월의 VIP 등급 회원 구독 매출이 인덱스 월 대비 얼마나 증가했는지 백분율로 나타내는 열\n",
    "FROM (\n",
    "        SELECT \n",
    "            DATE_FORMAT(\"%Y-%m\", T12.SUBSCRIPTION_DATE) AS SUBSCRIPTION_MONTH,\n",
    "            T22.INDEX_SUBSCRIPTION,\n",
    "            SUM(T12.SUBSCRIPTION_FEE) AS SUBSCRIPTION_SALES\n",
    "        FROM DATA_MOBILE_COMMUNICATION AS T12\n",
    "        \n",
    "        JOIN (\n",
    "            SELECT \n",
    "                FIRST_MONTH,\n",
    "                SUM(T11.SUBSCRIPTION_FEE) AS INDEX_SUBSCRIPTION\n",
    "                -- [INDEX_SUBSCRIPTION] VIP 등급 회원의 첫 번째 월에 대한 총 매출을 나타내는 열\n",
    "            FROM DATA_MOBILE_COMMUNICATION AS T11\n",
    "            \n",
    "            JOIN (\n",
    "                SELECT \n",
    "                    MIN(DATE_FORMAT(\"%Y-%m\", SUBSCRIPTION_DATE)) AS FIRST_MONTH\n",
    "                    -- [FIRST_MONTH] VIP 등급 회원의 첫 번째 월에 대한 총매출을 나타내는 열\n",
    "                FROM DATA_MOBILE_COMMUNICATION\n",
    "                WHERE MEMBERSHIP_GRADE = \"VIP\"\n",
    "            ) AS T21 ON DATE_FORMAT(\"%Y-%m\", T11.SUBSCRIPTION_DATE) = T21.FIRST_MONTH\n",
    "            \n",
    "            WHERE T11.MEMBERSHIP_GRADE = \"VIP\"\n",
    "            GROUP BY 1\n",
    "        ) AS T22 ON 1 = 1\n",
    "        \n",
    "        WHERE T12.MEMBERSHIP_GRADE = \"VIP\"\n",
    "        GROUP BY 1, 2\n",
    ") AS T13\n",
    "ORDER BY 1\n",
    "\"\"\"\n",
    "\n",
    "# \"일반\", \"WHITE\", \"VIP\", \"VVIP\", \"GOLD\", \"SILVER\"\n",
    "# Error Executing Query: (1248, 'Every derived table must have its own alias')"
   ]
  },
  {
   "cell_type": "code",
   "execution_count": 71,
   "id": "18ca6d20",
   "metadata": {
    "scrolled": true
   },
   "outputs": [],
   "source": [
    "# DQL = input(\"SQL 쿼리문 입력변수 = \")\n",
    "queryObject.dataQueryLanguage(sql = DQL)\n",
    "results = queryObject.queryExecute()"
   ]
  },
  {
   "cell_type": "code",
   "execution_count": 72,
   "id": "08393767",
   "metadata": {},
   "outputs": [],
   "source": [
    "if results:\n",
    "    # PrettyTable에 결과를 추가할 때 각 행의 값이 컬럼 수와 일치해야 함\n",
    "    # ValueError: Row has incorrect number of values, (actual) 5!=1 (expected)\n",
    "    columns = [ [desc[0] for desc in queryObject.Cursor.description] ]\n",
    "    table = PrettyTable(*columns)\n",
    "    \n",
    "    for row in results:\n",
    "        row_list = list(row)\n",
    "        table.add_row(row_list)\n",
    "    print(table)"
   ]
  },
  {
   "cell_type": "code",
   "execution_count": null,
   "id": "3aab7299",
   "metadata": {},
   "outputs": [],
   "source": []
  }
 ],
 "metadata": {
  "kernelspec": {
   "display_name": "Python 3 (ipykernel)",
   "language": "python",
   "name": "python3"
  },
  "language_info": {
   "codemirror_mode": {
    "name": "ipython",
    "version": 3
   },
   "file_extension": ".py",
   "mimetype": "text/x-python",
   "name": "python",
   "nbconvert_exporter": "python",
   "pygments_lexer": "ipython3",
   "version": "3.10.9"
  }
 },
 "nbformat": 4,
 "nbformat_minor": 5
}
